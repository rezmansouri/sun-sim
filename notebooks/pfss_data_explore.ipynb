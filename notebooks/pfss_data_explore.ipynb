{
  "cells": [
    {
      "cell_type": "code",
      "execution_count": 13,
      "metadata": {},
      "outputs": [],
      "source": [
        "import os\n",
        "import numpy as np\n",
        "from io import BytesIO\n",
        "from pyhdf.SD import SD, SDC\n",
        "import imageio.v2 as imageio\n",
        "from tqdm import tqdm, trange\n",
        "import matplotlib.pyplot as plt"
      ]
    },
    {
      "cell_type": "code",
      "execution_count": 8,
      "metadata": {},
      "outputs": [],
      "source": [
        "def read_hdf(path, is_init):\n",
        "    f = SD(path, SDC.READ)\n",
        "    arr = f.select(\"Data-Set-2\").get()\n",
        "    dim0 = f.select(\"fakeDim0\").get()\n",
        "    dim1 = f.select(\"fakeDim1\").get()\n",
        "    if is_init:\n",
        "        return arr, dim0, dim1\n",
        "    dim2 = f.select(\"fakeDim2\").get()\n",
        "    return arr, dim0, dim1, dim2\n",
        "    "
      ]
    },
    {
      "cell_type": "code",
      "execution_count": 19,
      "metadata": {},
      "outputs": [
        {
          "name": "stdout",
          "output_type": "stream",
          "text": [
            "(100, 101, 101)\n"
          ]
        },
        {
          "name": "stderr",
          "output_type": "stream",
          "text": [
            "100%|██████████| 100/100 [00:10<00:00,  9.76it/s]\n",
            "  0%|          | 0/100 [00:00<?, ?it/s]IMAGEIO FFMPEG_WRITER WARNING: input image is not divisible by macro_block_size=16, resizing from (1500, 500) to (1504, 512) to ensure video compatibility with most codecs and players. To prevent resizing, make your input image divisible by the macro_block_size or set the macro_block_size to 1 (risking incompatibility).\n",
            "100%|██████████| 100/100 [00:00<00:00, 273.24it/s]\n"
          ]
        }
      ],
      "source": [
        "x = read_hdf('/Users/reza/Career/DMLab/SURROGATE/Data/pfss/2024-12-15/bp.hdf', is_init=False)[0]\n",
        "print(x.shape)\n",
        "ix = 0\n",
        "frames = []\n",
        "for ix in trange(100):\n",
        "    plt.figure(figsize=(15, 5))\n",
        "    plt.subplot(1, 3, 1)\n",
        "    plt.imshow(x[ix, :, :], cmap='jet')\n",
        "    plt.subplot(1, 3, 2)\n",
        "    plt.imshow(x[:, ix, :], cmap='jet')\n",
        "    plt.subplot(1, 3, 3)\n",
        "    plt.imshow(x[:, :, ix], cmap='jet')\n",
        "    buf = BytesIO()\n",
        "    plt.savefig(buf, format='png')\n",
        "    frames.append(imageio.imread(buf))\n",
        "    plt.close()\n",
        "    \n",
        "output_filename = f\"movie.mp4\"\n",
        "fps = 10\n",
        "with imageio.get_writer(output_filename, fps=fps) as writer:\n",
        "    for frame in tqdm(frames):\n",
        "        writer.append_data(frame)"
      ]
    },
    {
      "cell_type": "code",
      "execution_count": 23,
      "metadata": {},
      "outputs": [
        {
          "name": "stdout",
          "output_type": "stream",
          "text": [
            "(101, 101, 100)\n"
          ]
        },
        {
          "name": "stderr",
          "output_type": "stream",
          "text": [
            "100%|██████████| 100/100 [00:12<00:00,  8.13it/s]\n",
            "  0%|          | 0/100 [00:00<?, ?it/s]IMAGEIO FFMPEG_WRITER WARNING: input image is not divisible by macro_block_size=16, resizing from (1500, 500) to (1504, 512) to ensure video compatibility with most codecs and players. To prevent resizing, make your input image divisible by the macro_block_size or set the macro_block_size to 1 (risking incompatibility).\n",
            "100%|██████████| 100/100 [00:00<00:00, 282.99it/s]\n"
          ]
        }
      ],
      "source": [
        "x = read_hdf('/Users/reza/Career/DMLab/SURROGATE/Data/pfss/2024-12-15/br.hdf', is_init=False)[0]\n",
        "print(x.shape)\n",
        "ix = 0\n",
        "frames = []\n",
        "for ix in trange(100):\n",
        "    fig, axes = plt.subplots(1, 3, figsize=(15, 5))\n",
        "    plt.subplot(1, 3, 1)\n",
        "    im1 = axes[0].imshow(x[ix, :, :], cmap='jet')\n",
        "    axes[1].imshow(x[:, ix, :], cmap='jet')\n",
        "    axes[2].imshow(x[:, :, ix], cmap='jet')\n",
        "    cbar = fig.colorbar(im1, ax=axes, orientation=\"vertical\", fraction=0.05, pad=0.02)\n",
        "    buf = BytesIO()\n",
        "    plt.savefig(buf, format='png')\n",
        "    frames.append(imageio.imread(buf))\n",
        "    plt.close()\n",
        "    \n",
        "output_filename = f\"movie.mp4\"\n",
        "fps = 10\n",
        "with imageio.get_writer(output_filename, fps=fps) as writer:\n",
        "    for frame in tqdm(frames):\n",
        "        writer.append_data(frame)"
      ]
    },
    {
      "cell_type": "code",
      "execution_count": 18,
      "metadata": {},
      "outputs": [
        {
          "name": "stdout",
          "output_type": "stream",
          "text": [
            "(101, 100, 101)\n"
          ]
        },
        {
          "name": "stderr",
          "output_type": "stream",
          "text": [
            "  0%|          | 0/100 [00:00<?, ?it/s]"
          ]
        },
        {
          "name": "stderr",
          "output_type": "stream",
          "text": [
            "100%|██████████| 100/100 [00:10<00:00,  9.60it/s]\n",
            "  0%|          | 0/100 [00:00<?, ?it/s]IMAGEIO FFMPEG_WRITER WARNING: input image is not divisible by macro_block_size=16, resizing from (1500, 500) to (1504, 512) to ensure video compatibility with most codecs and players. To prevent resizing, make your input image divisible by the macro_block_size or set the macro_block_size to 1 (risking incompatibility).\n",
            "100%|██████████| 100/100 [00:00<00:00, 276.19it/s]\n"
          ]
        }
      ],
      "source": [
        "x = read_hdf('/Users/reza/Career/DMLab/SURROGATE/Data/pfss/2024-12-15/bt.hdf', is_init=False)[0]\n",
        "print(x.shape)\n",
        "ix = 0\n",
        "frames = []\n",
        "for ix in trange(100):\n",
        "    plt.figure(figsize=(15, 5))\n",
        "    plt.subplot(1, 3, 1)\n",
        "    plt.imshow(x[ix, :, :], cmap='jet')\n",
        "    plt.subplot(1, 3, 2)\n",
        "    plt.imshow(x[:, ix, :], cmap='jet')\n",
        "    plt.subplot(1, 3, 3)\n",
        "    plt.imshow(x[:, :, ix], cmap='jet')\n",
        "    buf = BytesIO()\n",
        "    plt.savefig(buf, format='png')\n",
        "    frames.append(imageio.imread(buf))\n",
        "    plt.close()\n",
        "    \n",
        "output_filename = f\"movie.mp4\"\n",
        "fps = 10\n",
        "with imageio.get_writer(output_filename, fps=fps) as writer:\n",
        "    for frame in tqdm(frames):\n",
        "        writer.append_data(frame)"
      ]
    },
    {
      "cell_type": "code",
      "execution_count": null,
      "metadata": {},
      "outputs": [],
      "source": []
    }
  ],
  "metadata": {
    "kernelspec": {
      "display_name": ".venv",
      "language": "python",
      "name": "python3"
    },
    "language_info": {
      "codemirror_mode": {
        "name": "ipython",
        "version": 3
      },
      "file_extension": ".py",
      "mimetype": "text/x-python",
      "name": "python",
      "nbconvert_exporter": "python",
      "pygments_lexer": "ipython3",
      "version": "3.9.6"
    }
  },
  "nbformat": 4,
  "nbformat_minor": 2
}
