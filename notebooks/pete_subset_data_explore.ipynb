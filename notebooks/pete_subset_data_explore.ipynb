{
 "cells": [
  {
   "cell_type": "code",
   "execution_count": 5,
   "metadata": {},
   "outputs": [],
   "source": [
    "import os\n",
    "import h5py\n",
    "import numpy as np\n",
    "import matplotlib.pyplot as plt"
   ]
  },
  {
   "cell_type": "markdown",
   "metadata": {},
   "source": [
    "# Train"
   ]
  },
  {
   "cell_type": "code",
   "execution_count": 6,
   "metadata": {},
   "outputs": [],
   "source": [
    "train_dataset = []"
   ]
  },
  {
   "cell_type": "code",
   "execution_count": null,
   "metadata": {},
   "outputs": [],
   "source": [
    "for train_file_name in os.listdir('/Users/reza/Career/DMLab/SURROGATE/data/pete_sample/train'):\n",
    "    path = os.path.join('/Users/reza/Career/DMLab/SURROGATE/data/pete_sample/train', train_file_name)\n",
    "    h5_file = h5py.File(path, 'r')\n",
    "    data = h5_file['Data'][:]\n",
    "    train_dataset.append(data)\n",
    "    h5_file.close()"
   ]
  },
  {
   "cell_type": "code",
   "execution_count": 8,
   "metadata": {},
   "outputs": [
    {
     "name": "stdout",
     "output_type": "stream",
     "text": [
      "(128, 111, 140)\n",
      "(128, 111, 140)\n",
      "(128, 111, 140)\n",
      "(128, 111, 140)\n",
      "(128, 111, 140)\n",
      "(128, 111, 140)\n"
     ]
    }
   ],
   "source": [
    "for data in train_dataset:\n",
    "    print(data.shape)"
   ]
  },
  {
   "cell_type": "code",
   "execution_count": 9,
   "metadata": {},
   "outputs": [],
   "source": [
    "test_dataset = []"
   ]
  },
  {
   "cell_type": "code",
   "execution_count": 10,
   "metadata": {},
   "outputs": [],
   "source": [
    "for test_file_name in os.listdir('/Users/reza/Career/DMLab/SURROGATE/data/pete_sample/test'):\n",
    "    path = os.path.join('/Users/reza/Career/DMLab/SURROGATE/data/pete_sample/test', test_file_name)\n",
    "    h5_file = h5py.File(path, 'r')\n",
    "    data = h5_file['Data'][:]\n",
    "    test_dataset.append(data)\n",
    "    h5_file.close()"
   ]
  },
  {
   "cell_type": "code",
   "execution_count": 11,
   "metadata": {},
   "outputs": [
    {
     "name": "stdout",
     "output_type": "stream",
     "text": [
      "(128, 111, 140)\n"
     ]
    }
   ],
   "source": [
    "for data in test_dataset:\n",
    "    print(data.shape)"
   ]
  },
  {
   "cell_type": "code",
   "execution_count": 13,
   "metadata": {},
   "outputs": [],
   "source": [
    "other_keys = ['dim1', 'dim2', 'dim3']"
   ]
  },
  {
   "cell_type": "code",
   "execution_count": 14,
   "metadata": {},
   "outputs": [
    {
     "name": "stdout",
     "output_type": "stream",
     "text": [
      "dim1 (140,)\n",
      "dim2 (111,)\n",
      "dim3 (128,)\n",
      "dim1 (140,)\n",
      "dim2 (111,)\n",
      "dim3 (128,)\n",
      "dim1 (140,)\n",
      "dim2 (111,)\n",
      "dim3 (128,)\n",
      "dim1 (140,)\n",
      "dim2 (111,)\n",
      "dim3 (128,)\n",
      "dim1 (140,)\n",
      "dim2 (111,)\n",
      "dim3 (128,)\n",
      "dim1 (140,)\n",
      "dim2 (111,)\n",
      "dim3 (128,)\n"
     ]
    }
   ],
   "source": [
    "for train_file_name in os.listdir('/Users/reza/Career/DMLab/SURROGATE/data/pete_sample/train'):\n",
    "    path = os.path.join('/Users/reza/Career/DMLab/SURROGATE/data/pete_sample/train', train_file_name)\n",
    "    h5_file = h5py.File(path, 'r')\n",
    "    for key in other_keys:\n",
    "        print(key, h5_file[key].shape)\n",
    "    h5_file.close()"
   ]
  },
  {
   "cell_type": "code",
   "execution_count": 15,
   "metadata": {},
   "outputs": [
    {
     "name": "stdout",
     "output_type": "stream",
     "text": [
      "dim1 (140,)\n",
      "dim2 (111,)\n",
      "dim3 (128,)\n"
     ]
    }
   ],
   "source": [
    "for test_file_name in os.listdir('/Users/reza/Career/DMLab/SURROGATE/data/pete_sample/test'):\n",
    "    path = os.path.join('/Users/reza/Career/DMLab/SURROGATE/data/pete_sample/test', test_file_name)\n",
    "    h5_file = h5py.File(path, 'r')\n",
    "    for key in other_keys:\n",
    "        print(key, h5_file[key].shape)\n",
    "    h5_file.close()"
   ]
  },
  {
   "cell_type": "code",
   "execution_count": null,
   "metadata": {},
   "outputs": [],
   "source": []
  }
 ],
 "metadata": {
  "kernelspec": {
   "display_name": ".venv",
   "language": "python",
   "name": "python3"
  },
  "language_info": {
   "codemirror_mode": {
    "name": "ipython",
    "version": 3
   },
   "file_extension": ".py",
   "mimetype": "text/x-python",
   "name": "python",
   "nbconvert_exporter": "python",
   "pygments_lexer": "ipython3",
   "version": "3.9.6"
  }
 },
 "nbformat": 4,
 "nbformat_minor": 2
}
