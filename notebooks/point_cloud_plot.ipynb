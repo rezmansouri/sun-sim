{
 "cells": [
  {
   "cell_type": "code",
   "execution_count": 1,
   "metadata": {},
   "outputs": [],
   "source": [
    "import numpy as np\n",
    "import imageio.v2 as imageio\n",
    "from io import BytesIO\n",
    "from tqdm import trange\n",
    "from pyhdf.SD import SD, SDC\n",
    "import matplotlib.pyplot as plt\n",
    "from mpl_toolkits.mplot3d import Axes3D"
   ]
  },
  {
   "cell_type": "code",
   "execution_count": 2,
   "metadata": {},
   "outputs": [],
   "source": [
    "def read_hdf(path, is_init):\n",
    "    f = SD(path, SDC.READ)\n",
    "    arr = f.select(\"Data-Set-2\").get()\n",
    "    dim0 = f.select(\"fakeDim0\").get()\n",
    "    dim1 = f.select(\"fakeDim1\").get()\n",
    "    if is_init:\n",
    "        return arr, dim0, dim1\n",
    "    dim2 = f.select(\"fakeDim2\").get()\n",
    "    return arr, dim0, dim1, dim2\n",
    "    "
   ]
  },
  {
   "cell_type": "code",
   "execution_count": 3,
   "metadata": {},
   "outputs": [],
   "source": [
    "data, i, j, k = read_hdf('/Users/reza/Career/DMLab/SURROGATE/Data/psi_web_sample/cr1751/kpo_mas_mas_std_0101/br002.hdf', False)"
   ]
  },
  {
   "cell_type": "code",
   "execution_count": 4,
   "metadata": {},
   "outputs": [],
   "source": [
    "bc, i_bc, j_bc = read_hdf('/Users/reza/Career/DMLab/SURROGATE/Data/psi_web_sample/cr1751/kpo_mas_mas_std_0101/br_r0.hdf', True)"
   ]
  },
  {
   "cell_type": "code",
   "execution_count": 5,
   "metadata": {},
   "outputs": [
    {
     "data": {
      "text/plain": [
       "((128,), (110,), (141,), (128, 110, 141), (128,), (100,), (128, 100))"
      ]
     },
     "execution_count": 5,
     "metadata": {},
     "output_type": "execute_result"
    }
   ],
   "source": [
    "i.shape, j.shape, k.shape, data.shape, i_bc.shape, j_bc.shape, bc.shape"
   ]
  },
  {
   "cell_type": "code",
   "execution_count": 6,
   "metadata": {},
   "outputs": [
    {
     "data": {
      "text/plain": [
       "array([0.        , 0.04316993, 0.08607038, 0.12851126, 0.17040162,\n",
       "       0.21171659, 0.25245765, 0.2926322 , 0.3322481 , 0.37131312,\n",
       "       0.40983495, 0.44782108, 0.48527902, 0.5222161 , 0.5586395 ,\n",
       "       0.5945565 , 0.629974  , 0.66489905, 0.69933844, 0.73329896,\n",
       "       0.7667872 , 0.7998098 , 0.8323732 , 0.8644838 , 0.89614785,\n",
       "       0.9273716 , 0.95816123, 0.9885227 , 1.018462  , 1.047985  ,\n",
       "       1.0770974 , 1.1058049 , 1.1341134 , 1.1620282 , 1.1895548 ,\n",
       "       1.2166986 , 1.2434651 , 1.2698592 , 1.2958864 , 1.3215517 ,\n",
       "       1.34686   , 1.3718165 , 1.396426  , 1.4206932 , 1.4446229 ,\n",
       "       1.46822   , 1.4914902 , 1.5144461 , 1.5371224 , 1.5595967 ,\n",
       "       1.5819961 , 1.6044703 , 1.6271465 , 1.6501024 , 1.6733726 ,\n",
       "       1.6969697 , 1.7208996 , 1.7451668 , 1.7697762 , 1.7947326 ,\n",
       "       1.820041  , 1.8457062 , 1.8717334 , 1.8981277 , 1.9248941 ,\n",
       "       1.9520379 , 1.9795645 , 2.0074792 , 2.0357876 , 2.0644953 ,\n",
       "       2.0936077 , 2.1231306 , 2.15307   , 2.1834314 , 2.214221  ,\n",
       "       2.2454448 , 2.277109  , 2.3092194 , 2.3417828 , 2.3748055 ,\n",
       "       2.4082937 , 2.4422543 , 2.4766936 , 2.5116186 , 2.5470362 ,\n",
       "       2.5829532 , 2.6193767 , 2.6563137 , 2.6937716 , 2.7317576 ,\n",
       "       2.7702796 , 2.8093445 , 2.8489604 , 2.889135  , 2.929876  ,\n",
       "       2.971191  , 3.0130813 , 3.0555222 , 3.0984228 , 3.1415927 ],\n",
       "      dtype=float32)"
      ]
     },
     "execution_count": 6,
     "metadata": {},
     "output_type": "execute_result"
    }
   ],
   "source": [
    "j_bc"
   ]
  },
  {
   "cell_type": "code",
   "execution_count": 7,
   "metadata": {},
   "outputs": [],
   "source": [
    "rot = 80\n",
    "data = np.concatenate((data[rot:], data[:rot]), axis=0)"
   ]
  },
  {
   "cell_type": "code",
   "execution_count": 10,
   "metadata": {},
   "outputs": [],
   "source": [
    "def plot_3d_points(data, i, j, k, k_idx):\n",
    "    \"\"\"\n",
    "    Plots a 3D scatter plot of (x, y, z) points with intensity as color.\n",
    "    \n",
    "    Args:\n",
    "        points (numpy.ndarray): Array of shape (n, 4) containing (x, y, z, intensity).\n",
    "    \"\"\"\n",
    "    frames = []\n",
    "    for rot in trange(128):\n",
    "        intensity = np.concatenate((data[rot:, :, :], data[:rot, :, :]), axis=0)\n",
    "        \n",
    "        theta, phi = np.meshgrid(i, j, indexing='ij')  # Shape (128, 110)\n",
    "        \n",
    "        r = k[k_idx]  # Select single radius value\n",
    "\n",
    "        # Convert spherical (r, theta, phi) to Cartesian (x, y, z)\n",
    "        x = r * np.sin(phi) * np.cos(theta)\n",
    "        y = r * np.sin(phi) * np.sin(theta)\n",
    "        z = r * np.cos(phi)\n",
    "\n",
    "        # Flatten everything\n",
    "        x_flat = x.ravel()\n",
    "        y_flat = y.ravel()\n",
    "        z_flat = z.ravel()\n",
    "        intensity_flat = intensity[:, :, k_idx].ravel()  # Select the corresponding intensity slice\n",
    "\n",
    "        # Stack into (n, 4) array\n",
    "        points = np.column_stack((x_flat, y_flat, z_flat, intensity_flat))\n",
    "        \n",
    "        x, y, z, intensity = points[:, 0], points[:, 1], points[:, 2], points[:, 3]\n",
    "\n",
    "        fig = plt.figure(figsize=(10, 7), tight_layout=True)\n",
    "        ax = fig.add_subplot(111, projection='3d')\n",
    "\n",
    "        # Scatter plot with intensity as color\n",
    "        sc = ax.scatter(x, y, z, c=intensity, cmap='jet_r', marker='o')\n",
    "\n",
    "        # Add color bar\n",
    "        cbar = plt.colorbar(sc, ax=ax, pad=0.01, shrink=0.8, aspect=20)\n",
    "        cbar.set_label('Intensity')\n",
    "\n",
    "        ax.set_xlabel('X', labelpad=0)\n",
    "        ax.set_ylabel('Y', labelpad=0)\n",
    "        ax.set_zlabel('Z', labelpad=0)\n",
    "        ax.set_title(f'br002 at k={k_idx}', pad=5)\n",
    "        \n",
    "        plt.subplots_adjust(left=0, right=1, top=1, bottom=0)  # Remove extra margins\n",
    "\n",
    "        buf = BytesIO()\n",
    "        plt.savefig(buf, format='png')\n",
    "        buf.seek(0)\n",
    "        frames.append(imageio.imread(buf))\n",
    "        plt.close()\n",
    "        buf.close()\n",
    "    return frames\n"
   ]
  },
  {
   "cell_type": "code",
   "execution_count": 11,
   "metadata": {},
   "outputs": [
    {
     "name": "stderr",
     "output_type": "stream",
     "text": [
      "100%|██████████| 128/128 [00:46<00:00,  2.73it/s]\n"
     ]
    }
   ],
   "source": [
    "frames = plot_3d_points(data, i, j, k, 70)"
   ]
  },
  {
   "cell_type": "code",
   "execution_count": 12,
   "metadata": {},
   "outputs": [
    {
     "name": "stdout",
     "output_type": "stream",
     "text": [
      "Video saved as point_cloud.gif\n"
     ]
    }
   ],
   "source": [
    "video_path = \"point_cloud.gif\"\n",
    "imageio.mimsave(video_path, frames, fps=20)\n",
    "\n",
    "print(f\"Video saved as {video_path}\")"
   ]
  },
  {
   "cell_type": "code",
   "execution_count": 6,
   "metadata": {},
   "outputs": [
    {
     "data": {
      "text/plain": [
       "<matplotlib.image.AxesImage at 0x1110551c0>"
      ]
     },
     "execution_count": 6,
     "metadata": {},
     "output_type": "execute_result"
    },
    {
     "data": {
      "image/png": "[encoded data removed]",
      "text/plain": [
       "<Figure size 700x500 with 1 Axes>"
      ]
     },
     "metadata": {},
     "output_type": "display_data"
    }
   ],
   "source": [
    "plt.figure(figsize=(7,5))\n",
    "plt.imshow(data[:, :, 70].transpose(1, 0), cmap='jet_r')"
   ]
  },
  {
   "cell_type": "code",
   "execution_count": null,
   "metadata": {},
   "outputs": [],
   "source": []
  }
 ],
 "metadata": {
  "kernelspec": {
   "display_name": ".venv",
   "language": "python",
   "name": "python3"
  },
  "language_info": {
   "codemirror_mode": {
    "name": "ipython",
    "version": 3
   },
   "file_extension": ".py",
   "mimetype": "text/x-python",
   "name": "python",
   "nbconvert_exporter": "python",
   "pygments_lexer": "ipython3",
   "version": "3.9.6"
  }
 },
 "nbformat": 4,
 "nbformat_minor": 2
}
