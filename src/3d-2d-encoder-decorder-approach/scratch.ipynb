{
 "cells": [
  {
   "cell_type": "code",
   "execution_count": 1,
   "metadata": {},
   "outputs": [],
   "source": [
    "import os\n",
    "import numpy as np\n",
    "import torch\n",
    "from utils import Dataset\n",
    "from torch.utils.data import DataLoader\n",
    "from model import EncoderDecoder"
   ]
  },
  {
   "cell_type": "code",
   "execution_count": 2,
   "metadata": {},
   "outputs": [],
   "source": [
    "data_path = '/Users/reza/Career/DMLab/SURROGATE/Data/psi_web_sample'\n",
    "subdir_paths = sorted(os.listdir(data_path))\n",
    "cr_paths = [os.path.join(data_path, p) for p in subdir_paths if p.startswith(\"cr\")]\n",
    "dataset = Dataset(cr_paths)"
   ]
  },
  {
   "cell_type": "code",
   "execution_count": 3,
   "metadata": {},
   "outputs": [],
   "source": [
    "x = dataset[0]"
   ]
  },
  {
   "cell_type": "code",
   "execution_count": 4,
   "metadata": {},
   "outputs": [],
   "source": [
    "loader = DataLoader(dataset, batch_size=2)"
   ]
  },
  {
   "cell_type": "code",
   "execution_count": 5,
   "metadata": {},
   "outputs": [],
   "source": [
    "model = EncoderDecoder(in_channels=1, base_channels=32, out_features=256)"
   ]
  },
  {
   "cell_type": "code",
   "execution_count": 6,
   "metadata": {},
   "outputs": [
    {
     "name": "stdout",
     "output_type": "stream",
     "text": [
      "torch.Size([2, 1, 5, 128, 128])\n",
      "torch.Size([2, 1, 4, 128, 128])\n"
     ]
    }
   ],
   "source": [
    "# training\n",
    "for x in loader:\n",
    "    x = x[:, :, :5, :, :]\n",
    "    print(x.shape)\n",
    "    out = model(x)\n",
    "    print(out.shape)\n",
    "    break"
   ]
  },
  {
   "cell_type": "code",
   "execution_count": 7,
   "metadata": {},
   "outputs": [
    {
     "name": "stdout",
     "output_type": "stream",
     "text": [
      "torch.Size([2, 1, 128, 128])\n",
      "torch.Size([2, 1, 4, 128, 128])\n"
     ]
    }
   ],
   "source": [
    "# testing\n",
    "for x in loader:\n",
    "    x = x[:, :, 0, :, :]\n",
    "    print(x.shape)\n",
    "    out = model.predict(x, n_slices=4)\n",
    "    print(out.shape)\n",
    "    break"
   ]
  },
  {
   "cell_type": "code",
   "execution_count": null,
   "metadata": {},
   "outputs": [],
   "source": []
  }
 ],
 "metadata": {
  "kernelspec": {
   "display_name": ".venv",
   "language": "python",
   "name": "python3"
  },
  "language_info": {
   "codemirror_mode": {
    "name": "ipython",
    "version": 3
   },
   "file_extension": ".py",
   "mimetype": "text/x-python",
   "name": "python",
   "nbconvert_exporter": "python",
   "pygments_lexer": "ipython3",
   "version": "3.9.6"
  }
 },
 "nbformat": 4,
 "nbformat_minor": 2
}
