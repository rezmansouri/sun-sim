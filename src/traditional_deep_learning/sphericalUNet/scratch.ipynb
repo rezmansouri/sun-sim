{
 "cells": [
  {
   "cell_type": "code",
   "execution_count": 9,
   "metadata": {},
   "outputs": [],
   "source": [
    "import torch\n",
    "from torchsummary import summary\n",
    "from model import Unet_40k"
   ]
  },
  {
   "cell_type": "code",
   "execution_count": 10,
   "metadata": {},
   "outputs": [],
   "source": [
    "model = Unet_40k(in_ch=4, out_ch=1)"
   ]
  },
  {
   "cell_type": "code",
   "execution_count": 15,
   "metadata": {},
   "outputs": [
    {
     "name": "stdout",
     "output_type": "stream",
     "text": [
      "[10249 10244 10242 ... 40719 39990 40961]\n",
      "[10249 10244 10242 ... 40719 39990 40961]\n",
      "[ 2569  2564  2562 ... 10161  9918 10241]\n",
      "[ 2569  2564  2562 ... 10161  9918 10241]\n",
      "[ 649  644  642 ... 2535 2454 2561]\n",
      "[ 649  644  642 ... 2535 2454 2561]\n",
      "[169 164 162 ... 633 606 641]\n",
      "[169 164 162 ... 633 606 641]\n",
      "[ 49  44  42 ... 159 150 161]\n",
      "[ 49  44  42 ... 159 150 161]\n",
      "[169 164 162 ... 633 606 641]\n",
      "[169 164 162 ... 633 606 641]\n",
      "[ 649  644  642 ... 2535 2454 2561]\n",
      "[ 649  644  642 ... 2535 2454 2561]\n",
      "[ 2569  2564  2562 ... 10161  9918 10241]\n",
      "[ 2569  2564  2562 ... 10161  9918 10241]\n",
      "[10249 10244 10242 ... 40719 39990 40961]\n",
      "[10249 10244 10242 ... 40719 39990 40961]\n"
     ]
    },
    {
     "data": {
      "text/plain": [
       "torch.Size([40962, 1])"
      ]
     },
     "execution_count": 15,
     "metadata": {},
     "output_type": "execute_result"
    }
   ],
   "source": [
    "model(torch.randn(40962, 4)).shape"
   ]
  }
 ],
 "metadata": {
  "kernelspec": {
   "display_name": ".venv",
   "language": "python",
   "name": "python3"
  },
  "language_info": {
   "codemirror_mode": {
    "name": "ipython",
    "version": 3
   },
   "file_extension": ".py",
   "mimetype": "text/x-python",
   "name": "python",
   "nbconvert_exporter": "python",
   "pygments_lexer": "ipython3",
   "version": "3.9.6"
  }
 },
 "nbformat": 4,
 "nbformat_minor": 2
}
