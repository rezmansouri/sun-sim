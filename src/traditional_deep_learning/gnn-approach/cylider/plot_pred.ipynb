{
 "cells": [
  {
   "cell_type": "code",
   "execution_count": 1,
   "metadata": {},
   "outputs": [],
   "source": [
    "import os\n",
    "import torch\n",
    "import json\n",
    "from io import BytesIO\n",
    "import numpy as np\n",
    "import torch.nn as nn\n",
    "from tqdm import tqdm, trange\n",
    "from main import GNNModel, CustomDataset\n",
    "import matplotlib.pyplot as plt\n",
    "import imageio.v2 as imageio"
   ]
  },
  {
   "cell_type": "code",
   "execution_count": 2,
   "metadata": {},
   "outputs": [],
   "source": [
    "device = torch.device('cpu')"
   ]
  },
  {
   "cell_type": "code",
   "execution_count": null,
   "metadata": {},
   "outputs": [],
   "source": [
    "data_path = '/Users/reza/Career/DMLab/SURROGATE/Data/trash/train'\n",
    "result_path = '/Users/reza/Career/DMLab/SURROGATE/results/laplace/gnn'\n",
    "cfg_path = os.path.join(result_path, 'cfg.json')\n",
    "with open(cfg_path, 'r') as f:\n",
    "    cfg = json.load(f)\n",
    "subdir_paths = sorted(os.listdir(data_path))\n",
    "cr_paths = [os.path.join(data_path, p, 'br.hdf') for p in subdir_paths]"
   ]
  },
  {
   "cell_type": "code",
   "execution_count": 21,
   "metadata": {},
   "outputs": [],
   "source": [
    "starting_slice = 0\n",
    "\n",
    "dataset = CustomDataset(\n",
    "    cr_paths,\n",
    "    100\n",
    ")"
   ]
  },
  {
   "cell_type": "code",
   "execution_count": 22,
   "metadata": {},
   "outputs": [],
   "source": [
    "model = GNNModel(1, int(cfg['hidden_dim']), 1).to(device)"
   ]
  },
  {
   "cell_type": "code",
   "execution_count": 23,
   "metadata": {},
   "outputs": [
    {
     "name": "stderr",
     "output_type": "stream",
     "text": [
      "/var/folders/bv/7h0f0hns2y72yqgg3ww8qkkm0000gn/T/ipykernel_1598/1569827207.py:2: FutureWarning: You are using `torch.load` with `weights_only=False` (the current default value), which uses the default pickle module implicitly. It is possible to construct malicious pickle data which will execute arbitrary code during unpickling (See https://github.com/pytorch/pytorch/blob/main/SECURITY.md#untrusted-models for more details). In a future release, the default value for `weights_only` will be flipped to `True`. This limits the functions that could be executed during unpickling. Arbitrary objects will no longer be allowed to be loaded via this mode unless they are explicitly allowlisted by the user via `torch.serialization.add_safe_globals`. We recommend you start setting `weights_only=True` for any use case where you don't have full control of the loaded file. Please open an issue on GitHub for any issues related to this experimental feature.\n",
      "  model.load_state_dict(torch.load(state_path, map_location='cpu'))\n"
     ]
    },
    {
     "data": {
      "text/plain": [
       "<All keys matched successfully>"
      ]
     },
     "execution_count": 23,
     "metadata": {},
     "output_type": "execute_result"
    }
   ],
   "source": [
    "state_path = os.path.join(result_path, '99.pth')\n",
    "model.load_state_dict(torch.load(state_path, map_location='cpu'))"
   ]
  },
  {
   "cell_type": "markdown",
   "metadata": {},
   "source": [
    "# Validation partition"
   ]
  },
  {
   "cell_type": "code",
   "execution_count": 24,
   "metadata": {},
   "outputs": [],
   "source": [
    "i = 1\n",
    "slices, sim_cube = dataset[i]\n",
    "with torch.no_grad():\n",
    "    yhat = []\n",
    "    x = slices[0]\n",
    "    for _ in range(len(slices) - 1):\n",
    "        yhat_k = model(x.to(device))\n",
    "        yhat.append(yhat_k.reshape(101, 101))\n",
    "        x = dataset.get_graph_data(yhat_k)"
   ]
  },
  {
   "cell_type": "code",
   "execution_count": 25,
   "metadata": {},
   "outputs": [],
   "source": [
    "yhat = torch.stack(yhat, dim=0)\n",
    "y = sim_cube"
   ]
  },
  {
   "cell_type": "code",
   "execution_count": 26,
   "metadata": {},
   "outputs": [
    {
     "data": {
      "text/plain": [
       "(torch.Size([99, 101, 101]), torch.Size([99, 101, 101]))"
      ]
     },
     "execution_count": 26,
     "metadata": {},
     "output_type": "execute_result"
    }
   ],
   "source": [
    "yhat.shape, y.shape"
   ]
  },
  {
   "cell_type": "code",
   "execution_count": 27,
   "metadata": {},
   "outputs": [
    {
     "name": "stderr",
     "output_type": "stream",
     "text": [
      "100%|██████████| 99/99 [00:10<00:00,  9.47it/s]\n"
     ]
    }
   ],
   "source": [
    "frames = []\n",
    "for step in trange(yhat.shape[0]):\n",
    "    val = y[step, :, :]\n",
    "    pred = yhat[step, :, :]\n",
    "    \n",
    "    fig, axes = plt.subplots(1, 2, figsize=(12, 6))\n",
    "    cmap = \"jet_r\"\n",
    "\n",
    "    # # Plot first subplot\n",
    "    im1 = axes[0].imshow(val, cmap=cmap)\n",
    "    axes[0].set_title(f\"Actual Slice (k={step+1+starting_slice})\")\n",
    "\n",
    "    # Plot second subplot\n",
    "    im2 = axes[1].imshow(pred, cmap=cmap)\n",
    "    axes[1].set_title(f\"Predicted Slice (k={step+1+starting_slice})\")\n",
    "\n",
    "    # Create a single colorbar\n",
    "    cbar = fig.colorbar(im1, ax=axes, orientation=\"vertical\", fraction=0.05, pad=0.02)\n",
    "\n",
    "    # plt.tight_layout()\n",
    "    # plt.show()\n",
    "\n",
    "    # plt.show()\n",
    "    buf = BytesIO()\n",
    "    plt.savefig(buf, format='png')\n",
    "    frames.append(imageio.imread(buf))\n",
    "    plt.close()"
   ]
  },
  {
   "cell_type": "code",
   "execution_count": 28,
   "metadata": {},
   "outputs": [
    {
     "name": "stderr",
     "output_type": "stream",
     "text": [
      "IMAGEIO FFMPEG_WRITER WARNING: input image is not divisible by macro_block_size=16, resizing from (1200, 600) to (1200, 608) to ensure video compatibility with most codecs and players. To prevent resizing, make your input image divisible by the macro_block_size or set the macro_block_size to 1 (risking incompatibility).\n"
     ]
    }
   ],
   "source": [
    "output_filename = f\"br_gnn.mp4\"\n",
    "fps = 10  # Adjust frames per second as needed\n",
    "\n",
    "# Create video directly from frames in memory\n",
    "with imageio.get_writer(output_filename, fps=fps) as writer:\n",
    "    for frame in frames:\n",
    "        writer.append_data(frame)"
   ]
  },
  {
   "cell_type": "code",
   "execution_count": null,
   "metadata": {},
   "outputs": [],
   "source": []
  }
 ],
 "metadata": {
  "kernelspec": {
   "display_name": ".venv",
   "language": "python",
   "name": "python3"
  },
  "language_info": {
   "codemirror_mode": {
    "name": "ipython",
    "version": 3
   },
   "file_extension": ".py",
   "mimetype": "text/x-python",
   "name": "python",
   "nbconvert_exporter": "python",
   "pygments_lexer": "ipython3",
   "version": "3.9.6"
  }
 },
 "nbformat": 4,
 "nbformat_minor": 2
}
