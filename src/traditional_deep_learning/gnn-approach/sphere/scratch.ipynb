{
 "cells": [
  {
   "cell_type": "code",
   "execution_count": 1,
   "metadata": {},
   "outputs": [],
   "source": [
    "import torch\n",
    "from torch_geometric.loader import DataLoader\n",
    "from torch_geometric.utils import grid\n",
    "import matplotlib.pyplot as plt\n",
    "import numpy as np\n",
    "import torch.nn as nn\n",
    "from utils import spherical_grid_edges\n",
    "import torch.nn.functional as F\n",
    "import os\n",
    "from utils import GraphDataset\n",
    "import torch_geometric.nn as gnn\n",
    "# from model import GraphUNet\n",
    "\n",
    "from pyhdf.SD import SD, SDC"
   ]
  },
  {
   "cell_type": "code",
   "execution_count": 2,
   "metadata": {},
   "outputs": [],
   "source": [
    "torch.set_default_device('cpu')"
   ]
  },
  {
   "cell_type": "code",
   "execution_count": 3,
   "metadata": {},
   "outputs": [],
   "source": [
    "e = grid(10, 10)"
   ]
  },
  {
   "cell_type": "code",
   "execution_count": 4,
   "metadata": {},
   "outputs": [],
   "source": [
    "dataset = GraphDataset(\n",
    "    [\n",
    "        \"/Users/reza/Career/DMLab/SURROGATE/Data/psi_web_sample/cr1732\",\n",
    "        \"/Users/reza/Career/DMLab/SURROGATE/Data/psi_web_sample/cr1733\",\n",
    "    ],\n",
    "    target_slice=1,\n",
    ")"
   ]
  },
  {
   "cell_type": "code",
   "execution_count": 5,
   "metadata": {},
   "outputs": [
    {
     "name": "stdout",
     "output_type": "stream",
     "text": [
      "torch.Size([2, 88064])\n"
     ]
    }
   ],
   "source": [
    "edge_indices = dataset.edge_index\n",
    "print(edge_indices.shape)"
   ]
  },
  {
   "cell_type": "code",
   "execution_count": 6,
   "metadata": {},
   "outputs": [],
   "source": [
    "loader = DataLoader(dataset, batch_size=1, shuffle=True)"
   ]
  },
  {
   "cell_type": "code",
   "execution_count": 7,
   "metadata": {},
   "outputs": [],
   "source": [
    "# for x, y, x_t, y_t in loader:\n",
    "#     print(x)\n",
    "#     print(y)\n",
    "#     plt.imshow(x_t[0][0])\n",
    "#     plt.show()\n",
    "#     plt.imshow(y_t[0][0])\n",
    "#     plt.show()\n",
    "#     break"
   ]
  },
  {
   "cell_type": "code",
   "execution_count": 8,
   "metadata": {},
   "outputs": [],
   "source": [
    "model = gnn.GraphUNet(in_channels=1, hidden_channels=16, out_channels=1, depth=3, pool_ratios=0.5)"
   ]
  },
  {
   "cell_type": "code",
   "execution_count": 9,
   "metadata": {},
   "outputs": [
    {
     "ename": "",
     "evalue": "",
     "output_type": "error",
     "traceback": [
      "\u001b[1;31mThe Kernel crashed while executing code in the current cell or a previous cell. \n",
      "\u001b[1;31mPlease review the code in the cell(s) to identify a possible cause of the failure. \n",
      "\u001b[1;31mClick <a href='https://aka.ms/vscodeJupyterKernelCrash'>here</a> for more info. \n",
      "\u001b[1;31mView Jupyter <a href='command:jupyter.viewOutput'>log</a> for further details."
     ]
    }
   ],
   "source": [
    "for x, y, in loader:\n",
    "    print(x.shape)\n",
    "    yhat = model(x, edge_index=dataset.edge_index)\n",
    "    break"
   ]
  },
  {
   "cell_type": "code",
   "execution_count": 9,
   "metadata": {},
   "outputs": [],
   "source": [
    "layer = gnn.GCNConv(3, 1, True)"
   ]
  },
  {
   "cell_type": "code",
   "execution_count": 10,
   "metadata": {},
   "outputs": [],
   "source": [
    "x = torch.randn(2, 128*128, 3)"
   ]
  },
  {
   "cell_type": "code",
   "execution_count": 11,
   "metadata": {},
   "outputs": [
    {
     "data": {
      "text/plain": [
       "tensor([[[-0.0975],\n",
       "         [-0.0513],\n",
       "         [-0.0084],\n",
       "         ...,\n",
       "         [-0.1014],\n",
       "         [-1.4506],\n",
       "         [ 0.6330]],\n",
       "\n",
       "        [[ 0.0323],\n",
       "         [ 0.0653],\n",
       "         [ 0.0356],\n",
       "         ...,\n",
       "         [-0.7486],\n",
       "         [ 0.4599],\n",
       "         [-0.7918]]], grad_fn=<AddBackward0>)"
      ]
     },
     "execution_count": 11,
     "metadata": {},
     "output_type": "execute_result"
    }
   ],
   "source": [
    "layer(x, dataset.edge_index)"
   ]
  },
  {
   "cell_type": "code",
   "execution_count": 1,
   "metadata": {},
   "outputs": [
    {
     "ename": "",
     "evalue": "",
     "output_type": "error",
     "traceback": [
      "\u001b[1;31mThe Kernel crashed while executing code in the current cell or a previous cell. \n",
      "\u001b[1;31mPlease review the code in the cell(s) to identify a possible cause of the failure. \n",
      "\u001b[1;31mClick <a href='https://aka.ms/vscodeJupyterKernelCrash'>here</a> for more info. \n",
      "\u001b[1;31mView Jupyter <a href='command:jupyter.viewOutput'>log</a> for further details."
     ]
    }
   ],
   "source": [
    "import torch\n",
    "import torch_geometric\n",
    "from torch_geometric.nn import GraphUNet\n",
    "\n",
    "# Dummy graph with 10 nodes and 20 edges (undirected)\n",
    "num_nodes = 128\n",
    "edge_index = torch.randint(0, num_nodes, (2, 20))  # Random edges\n",
    "\n",
    "# Node features (1 feature per node)\n",
    "x = torch.randn((1, num_nodes, 1))  # Random feature values\n",
    "\n",
    "# Define GraphUNet model\n",
    "model = GraphUNet(in_channels=1, hidden_channels=16, out_channels=1, depth=3, pool_ratios=0.5)\n",
    "\n",
    "# Forward pass\n",
    "output = model(x, edge_index)\n",
    "\n",
    "# Print output shape\n",
    "print(\"Output shape:\", output.shape)  # Should match (num_nodes, 1)\n"
   ]
  },
  {
   "cell_type": "code",
   "execution_count": null,
   "metadata": {},
   "outputs": [],
   "source": []
  }
 ],
 "metadata": {
  "kernelspec": {
   "display_name": ".venv",
   "language": "python",
   "name": "python3"
  },
  "language_info": {
   "codemirror_mode": {
    "name": "ipython",
    "version": 3
   },
   "file_extension": ".py",
   "mimetype": "text/x-python",
   "name": "python",
   "nbconvert_exporter": "python",
   "pygments_lexer": "ipython3",
   "version": "3.9.6"
  }
 },
 "nbformat": 4,
 "nbformat_minor": 2
}
