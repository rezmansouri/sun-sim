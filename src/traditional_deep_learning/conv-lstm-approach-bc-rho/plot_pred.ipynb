{
 "cells": [
  {
   "cell_type": "code",
   "execution_count": 1,
   "metadata": {},
   "outputs": [],
   "source": [
    "import os\n",
    "import torch\n",
    "import json\n",
    "from io import BytesIO\n",
    "import numpy as np\n",
    "import torch.nn as nn\n",
    "from tqdm import tqdm, trange\n",
    "from model import ConvLSTM\n",
    "import matplotlib.pyplot as plt\n",
    "import imageio.v2 as imageio\n",
    "from utils import Dataset\n",
    "from torch.utils.data.dataloader import DataLoader"
   ]
  },
  {
   "cell_type": "code",
   "execution_count": 2,
   "metadata": {},
   "outputs": [],
   "source": [
    "device = torch.device('cpu')"
   ]
  },
  {
   "cell_type": "code",
   "execution_count": 3,
   "metadata": {},
   "outputs": [],
   "source": [
    "data_path = '/Users/reza/Career/DMLab/SURROGATE/Data/trash'\n",
    "result_path = '/Users/reza/Career/DMLab/SURROGATE/results/laplace/ConvLSTM/psi_web_rho_150_last_1_layer_128_hidden'\n",
    "cfg_path = os.path.join(result_path, 'cfg.json')\n",
    "with open(cfg_path, 'r') as f:\n",
    "    cfg = json.load(f)\n",
    "subdir_paths = sorted(os.listdir(data_path))\n",
    "cr_paths = [os.path.join(data_path, p) for p in subdir_paths if p.startswith(\"cr\")]"
   ]
  },
  {
   "cell_type": "code",
   "execution_count": 4,
   "metadata": {},
   "outputs": [],
   "source": [
    "starting_slice = 0\n",
    "\n",
    "dataset = Dataset(\n",
    "    cr_paths=cr_paths,\n",
    "    teacher_forcing=False,\n",
    "    starting_slice=starting_slice,\n",
    "    # v_min=cfg[\"v_min\"],\n",
    "    # v_max=cfg[\"v_max\"],\n",
    "    rho_min=cfg[\"rho_min\"],\n",
    "    rho_max=cfg[\"rho_max\"],\n",
    ")"
   ]
  },
  {
   "cell_type": "code",
   "execution_count": 5,
   "metadata": {},
   "outputs": [],
   "source": [
    "model = ConvLSTM(\n",
    "    input_dim=1,\n",
    "    hidden_dim=cfg['hidden_dim'],\n",
    "    kernel_size=(3, 3),\n",
    "    num_layers=cfg['num_layers'],\n",
    "    batch_first=True,\n",
    "    bias=True,\n",
    "    return_all_layers=False,\n",
    "    output_dim=1\n",
    ")"
   ]
  },
  {
   "cell_type": "code",
   "execution_count": 6,
   "metadata": {},
   "outputs": [
    {
     "name": "stderr",
     "output_type": "stream",
     "text": [
      "/var/folders/bv/7h0f0hns2y72yqgg3ww8qkkm0000gn/T/ipykernel_4695/2926965003.py:2: FutureWarning: You are using `torch.load` with `weights_only=False` (the current default value), which uses the default pickle module implicitly. It is possible to construct malicious pickle data which will execute arbitrary code during unpickling (See https://github.com/pytorch/pytorch/blob/main/SECURITY.md#untrusted-models for more details). In a future release, the default value for `weights_only` will be flipped to `True`. This limits the functions that could be executed during unpickling. Arbitrary objects will no longer be allowed to be loaded via this mode unless they are explicitly allowlisted by the user via `torch.serialization.add_safe_globals`. We recommend you start setting `weights_only=True` for any use case where you don't have full control of the loaded file. Please open an issue on GitHub for any issues related to this experimental feature.\n",
      "  model.load_state_dict(torch.load(state_path, map_location='cpu'))\n"
     ]
    },
    {
     "data": {
      "text/plain": [
       "<All keys matched successfully>"
      ]
     },
     "execution_count": 6,
     "metadata": {},
     "output_type": "execute_result"
    }
   ],
   "source": [
    "state_path = os.path.join(result_path, '20.pth')\n",
    "model.load_state_dict(torch.load(state_path, map_location='cpu'))"
   ]
  },
  {
   "cell_type": "markdown",
   "metadata": {},
   "source": [
    "# Validation partition"
   ]
  },
  {
   "cell_type": "code",
   "execution_count": 7,
   "metadata": {},
   "outputs": [
    {
     "name": "stdout",
     "output_type": "stream",
     "text": [
      "(1, 1, 128, 128) (140, 1, 128, 128)\n",
      "torch.Size([140, 1, 128, 128])\n"
     ]
    }
   ],
   "source": [
    "i = 0\n",
    "x, y = dataset[i]\n",
    "print(x.shape, y.shape)\n",
    "with torch.no_grad():\n",
    "    # slicing\n",
    "    # print(x.shape)\n",
    "    x = torch.tensor(x, dtype=torch.float32)\n",
    "    yhat, _ = model(x.unsqueeze(0), teacher_forcing=False, seq_len=y.shape[0])\n",
    "    yhat = yhat.squeeze(0)\n",
    "    print(yhat.shape)"
   ]
  },
  {
   "cell_type": "code",
   "execution_count": 8,
   "metadata": {},
   "outputs": [
    {
     "data": {
      "text/plain": [
       "(torch.Size([140, 1, 128, 128]), (140, 1, 128, 128))"
      ]
     },
     "execution_count": 8,
     "metadata": {},
     "output_type": "execute_result"
    }
   ],
   "source": [
    "yhat.shape, y.shape"
   ]
  },
  {
   "cell_type": "code",
   "execution_count": 9,
   "metadata": {},
   "outputs": [
    {
     "name": "stderr",
     "output_type": "stream",
     "text": [
      "100%|██████████| 140/140 [00:15<00:00,  8.90it/s]\n"
     ]
    }
   ],
   "source": [
    "frames = []\n",
    "for step in trange(yhat.shape[0]):\n",
    "    val = y[step, 0, :, :]\n",
    "    pred = yhat[step, 0, :, :]\n",
    "    # plt.figure(figsize=(12, 6))\n",
    "    # plt.subplot(1, 2, 1)\n",
    "    # plt.imshow(val, cmap=\"viridis\")\n",
    "    # # plt.contourf(\n",
    "    # #     np.arange(val.shape[0]),\n",
    "    # #     np.arange(val.shape[1]),\n",
    "    # #     val.T,\n",
    "    # #     cmap=\"viridis\",\n",
    "    # #     # norm=norm,\n",
    "    # # )\n",
    "    # plt.title(f\"Actual Slice (k={step+1+starting_slice})\")\n",
    "    # plt.colorbar()\n",
    "    # # plt.xlabel(\"I\")\n",
    "    # # plt.ylabel(\"J\")\n",
    "\n",
    "    # plt.subplot(1, 2, 2)\n",
    "    # plt.imshow(pred, cmap=\"viridis\")\n",
    "    # # plt.contourf(\n",
    "    # #     np.arange(pred.shape[0]),\n",
    "    # #     np.arange(pred.shape[1]),\n",
    "    # #     pred.T,\n",
    "    # #     cmap=\"viridis\",\n",
    "    # #     # norm=norm,\n",
    "    # # )\n",
    "    # plt.title(f\"Predicted Slice (k={step+1+starting_slice})\")\n",
    "    # plt.colorbar()\n",
    "    # # plt.xlabel(\"I\")\n",
    "    # # plt.ylabel(\"J\")\n",
    "    \n",
    "    fig, axes = plt.subplots(1, 2, figsize=(12, 6))\n",
    "    cmap = \"viridis\"\n",
    "\n",
    "    # Plot first subplot\n",
    "    im1 = axes[0].imshow(val, cmap=cmap)\n",
    "    axes[0].set_title(f\"Actual Slice (k={step+1+starting_slice})\")\n",
    "\n",
    "    # Plot second subplot\n",
    "    im2 = axes[1].imshow(pred, cmap=cmap)\n",
    "    axes[1].set_title(f\"Predicted Slice (k={step+1+starting_slice})\")\n",
    "\n",
    "    # Create a single colorbar\n",
    "    cbar = fig.colorbar(im1, ax=axes, orientation=\"vertical\", fraction=0.05, pad=0.02)\n",
    "\n",
    "    # plt.tight_layout()\n",
    "    # plt.show()\n",
    "\n",
    "    # plt.show()\n",
    "    buf = BytesIO()\n",
    "    plt.savefig(buf, format='png')\n",
    "    frames.append(imageio.imread(buf))\n",
    "    plt.close()"
   ]
  },
  {
   "cell_type": "code",
   "execution_count": 10,
   "metadata": {},
   "outputs": [
    {
     "name": "stderr",
     "output_type": "stream",
     "text": [
      "IMAGEIO FFMPEG_WRITER WARNING: input image is not divisible by macro_block_size=16, resizing from (1200, 600) to (1200, 608) to ensure video compatibility with most codecs and players. To prevent resizing, make your input image divisible by the macro_block_size or set the macro_block_size to 1 (risking incompatibility).\n"
     ]
    }
   ],
   "source": [
    "output_filename = f\"rho_convlstm.mp4\"\n",
    "fps = 10  # Adjust frames per second as needed\n",
    "\n",
    "# Create video directly from frames in memory\n",
    "with imageio.get_writer(output_filename, fps=fps) as writer:\n",
    "    for frame in frames:\n",
    "        writer.append_data(frame)"
   ]
  },
  {
   "cell_type": "code",
   "execution_count": 24,
   "metadata": {},
   "outputs": [
    {
     "name": "stderr",
     "output_type": "stream",
     "text": [
      "100%|██████████| 140/140 [00:16<00:00,  8.63it/s]\n"
     ]
    }
   ],
   "source": [
    "frames = []\n",
    "for step in trange(yhat.shape[0]):\n",
    "    val = y[step, 1, :, :]\n",
    "    pred = yhat[step, 1, :, :]\n",
    "    # plt.figure(figsize=(12, 6))\n",
    "    # plt.subplot(1, 2, 1)\n",
    "    # plt.imshow(val, cmap=\"viridis\")\n",
    "    # # plt.contourf(\n",
    "    # #     np.arange(val.shape[0]),\n",
    "    # #     np.arange(val.shape[1]),\n",
    "    # #     val.T,\n",
    "    # #     cmap=\"viridis\",\n",
    "    # #     # norm=norm,\n",
    "    # # )\n",
    "    # plt.title(f\"Actual Slice (k={step+1+starting_slice})\")\n",
    "    # plt.colorbar()\n",
    "    # # plt.xlabel(\"I\")\n",
    "    # # plt.ylabel(\"J\")\n",
    "\n",
    "    # plt.subplot(1, 2, 2)\n",
    "    # plt.imshow(pred, cmap=\"viridis\")\n",
    "    # # plt.contourf(\n",
    "    # #     np.arange(pred.shape[0]),\n",
    "    # #     np.arange(pred.shape[1]),\n",
    "    # #     pred.T,\n",
    "    # #     cmap=\"viridis\",\n",
    "    # #     # norm=norm,\n",
    "    # # )\n",
    "    # plt.title(f\"Predicted Slice (k={step+1+starting_slice})\")\n",
    "    # plt.colorbar()\n",
    "    # # plt.xlabel(\"I\")\n",
    "    # # plt.ylabel(\"J\")\n",
    "    \n",
    "    fig, axes = plt.subplots(1, 2, figsize=(12, 6))\n",
    "    cmap = \"viridis\"\n",
    "\n",
    "    # Plot first subplot\n",
    "    im1 = axes[0].imshow(val, cmap=cmap)\n",
    "    axes[0].set_title(f\"Actual Slice (k={step+1+starting_slice})\")\n",
    "\n",
    "    # Plot second subplot\n",
    "    im2 = axes[1].imshow(pred, cmap=cmap)\n",
    "    axes[1].set_title(f\"Predicted Slice (k={step+1+starting_slice})\")\n",
    "\n",
    "    # Create a single colorbar\n",
    "    cbar = fig.colorbar(im1, ax=axes, orientation=\"vertical\", fraction=0.05, pad=0.02)\n",
    "\n",
    "    # plt.tight_layout()\n",
    "    # plt.show()\n",
    "\n",
    "    # plt.show()\n",
    "    buf = BytesIO()\n",
    "    plt.savefig(buf, format='png')\n",
    "    frames.append(imageio.imread(buf))\n",
    "    plt.close()"
   ]
  },
  {
   "cell_type": "code",
   "execution_count": 25,
   "metadata": {},
   "outputs": [
    {
     "name": "stderr",
     "output_type": "stream",
     "text": [
      "IMAGEIO FFMPEG_WRITER WARNING: input image is not divisible by macro_block_size=16, resizing from (1200, 600) to (1200, 608) to ensure video compatibility with most codecs and players. To prevent resizing, make your input image divisible by the macro_block_size or set the macro_block_size to 1 (risking incompatibility).\n"
     ]
    }
   ],
   "source": [
    "output_filename = f\"rho_convlstm.mp4\"\n",
    "fps = 10  # Adjust frames per second as needed\n",
    "\n",
    "# Create video directly from frames in memory\n",
    "with imageio.get_writer(output_filename, fps=fps) as writer:\n",
    "    for frame in frames:\n",
    "        writer.append_data(frame)"
   ]
  },
  {
   "cell_type": "code",
   "execution_count": null,
   "metadata": {},
   "outputs": [],
   "source": []
  }
 ],
 "metadata": {
  "kernelspec": {
   "display_name": ".venv",
   "language": "python",
   "name": "python3"
  },
  "language_info": {
   "codemirror_mode": {
    "name": "ipython",
    "version": 3
   },
   "file_extension": ".py",
   "mimetype": "text/x-python",
   "name": "python",
   "nbconvert_exporter": "python",
   "pygments_lexer": "ipython3",
   "version": "3.9.6"
  }
 },
 "nbformat": 4,
 "nbformat_minor": 2
}
