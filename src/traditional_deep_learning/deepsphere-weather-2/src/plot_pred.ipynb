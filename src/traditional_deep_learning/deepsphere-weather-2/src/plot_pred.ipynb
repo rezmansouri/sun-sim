{
 "cells": [
  {
   "cell_type": "code",
   "execution_count": 1,
   "metadata": {},
   "outputs": [],
   "source": [
    "import os\n",
    "import torch\n",
    "import json\n",
    "from io import BytesIO\n",
    "import numpy as np\n",
    "import torch.nn as nn\n",
    "import imageio.v2 as imageio\n",
    "from tqdm import tqdm, trange\n",
    "from utils import SphericalDataset\n",
    "from architectures import UNetSpherical\n",
    "import matplotlib.pyplot as plt"
   ]
  },
  {
   "cell_type": "code",
   "execution_count": 2,
   "metadata": {},
   "outputs": [],
   "source": [
    "device = torch.device('cpu')"
   ]
  },
  {
   "cell_type": "code",
   "execution_count": 3,
   "metadata": {},
   "outputs": [],
   "source": [
    "data_path = '/Users/reza/Career/DMLab/SURROGATE/Data/psi_web_sample/train'\n",
    "result_path = '/Users/reza/Career/DMLab/SURROGATE/results/laplace/deepsphere-weather-2/exp_11'\n",
    "cfg_path = os.path.join(result_path, 'cfg.json')\n",
    "with open(cfg_path, 'r') as f:\n",
    "    cfg = json.load(f)"
   ]
  },
  {
   "cell_type": "code",
   "execution_count": 4,
   "metadata": {},
   "outputs": [
    {
     "data": {
      "text/plain": [
       "680"
      ]
     },
     "execution_count": 4,
     "metadata": {},
     "output_type": "execute_result"
    }
   ],
   "source": [
    "len(cfg['train_files'])"
   ]
  },
  {
   "cell_type": "code",
   "execution_count": 5,
   "metadata": {},
   "outputs": [],
   "source": [
    "instruments = [\n",
    "        \"kpo_mas_mas_std_0101\",\n",
    "        \"mdi_mas_mas_std_0101\",\n",
    "        \"hmi_mast_mas_std_0101\",\n",
    "        \"hmi_mast_mas_std_0201\",\n",
    "        \"hmi_masp_mas_std_0201\",\n",
    "        \"mdi_mas_mas_std_0201\",\n",
    "    ]\n",
    "subdir_paths = sorted(os.listdir(data_path))\n",
    "cr_paths = [os.path.join(data_path, p) for p in subdir_paths if p.startswith(\"cr\")]\n",
    "sim_paths = []\n",
    "for cr_path in cr_paths:\n",
    "    for instrument in instruments:\n",
    "        instrument_path = os.path.join(cr_path, instrument)\n",
    "        if os.path.exists(instrument_path):\n",
    "            sim_paths.append(instrument_path)"
   ]
  },
  {
   "cell_type": "code",
   "execution_count": 6,
   "metadata": {},
   "outputs": [],
   "source": [
    "dataset = SphericalDataset(\n",
    "    sim_paths,\n",
    "    b_min=cfg[\"train_min\"],\n",
    "    b_max=cfg[\"train_max\"],\n",
    ")"
   ]
  },
  {
   "cell_type": "code",
   "execution_count": 7,
   "metadata": {},
   "outputs": [
    {
     "data": {
      "text/plain": [
       "(-2.6859591007232666, 2.788627862930298)"
      ]
     },
     "execution_count": 7,
     "metadata": {},
     "output_type": "execute_result"
    }
   ],
   "source": [
    "cfg['train_min'], cfg['train_max']"
   ]
  },
  {
   "cell_type": "code",
   "execution_count": 8,
   "metadata": {},
   "outputs": [
    {
     "name": "stdout",
     "output_type": "stream",
     "text": [
      "32\n",
      "32\n",
      "32\n",
      "32\n",
      "16\n",
      "16\n",
      "8\n",
      "8\n",
      "False\n"
     ]
    },
    {
     "data": {
      "text/plain": [
       "<All keys matched successfully>"
      ]
     },
     "execution_count": 8,
     "metadata": {},
     "output_type": "execute_result"
    }
   ],
   "source": [
    "model = UNetSpherical(32, in_channels=2, out_channels=1, knn=cfg['n_neighbors'])\n",
    "print(model.test_mode)\n",
    "state = torch.load(os.path.join(result_path, '96.pth'), map_location=device)\n",
    "model.load_state_dict(state)"
   ]
  },
  {
   "cell_type": "code",
   "execution_count": 9,
   "metadata": {},
   "outputs": [],
   "source": [
    "cube = dataset[0]"
   ]
  },
  {
   "cell_type": "code",
   "execution_count": 10,
   "metadata": {},
   "outputs": [
    {
     "data": {
      "text/plain": [
       "torch.Size([141, 12288, 1])"
      ]
     },
     "execution_count": 10,
     "metadata": {},
     "output_type": "execute_result"
    }
   ],
   "source": [
    "cube.shape"
   ]
  },
  {
   "cell_type": "code",
   "execution_count": 15,
   "metadata": {},
   "outputs": [
    {
     "name": "stderr",
     "output_type": "stream",
     "text": [
      "                                             \r"
     ]
    }
   ],
   "source": [
    "I = 10\n",
    "cube = dataset[I].unsqueeze(0)\n",
    "\n",
    "model.eval()\n",
    "x0 = cube[:, 0, :, :].to(device)\n",
    "xi = cube[:, 0, :, :].to(device)\n",
    "yhats = []\n",
    "for i in trange(cfg['seq_len'], leave=False):\n",
    "    x = torch.cat([x0, xi], dim=-1)\n",
    "    with torch.no_grad():\n",
    "        yhat = model(x.to(device))\n",
    "        yhats.append(yhat)\n",
    "        xi = yhat\n",
    "yhats = torch.stack(yhats, dim=1)"
   ]
  },
  {
   "cell_type": "code",
   "execution_count": 16,
   "metadata": {},
   "outputs": [
    {
     "data": {
      "text/plain": [
       "torch.Size([1, 5, 12288, 1])"
      ]
     },
     "execution_count": 16,
     "metadata": {},
     "output_type": "execute_result"
    }
   ],
   "source": [
    "yhats.shape"
   ]
  },
  {
   "cell_type": "code",
   "execution_count": 17,
   "metadata": {},
   "outputs": [
    {
     "name": "stderr",
     "output_type": "stream",
     "text": [
      "100%|██████████| 5/5 [00:00<00:00,  6.16it/s]\n"
     ]
    }
   ],
   "source": [
    "frames = []\n",
    "for i in trange(cfg['seq_len']):\n",
    "    y = cube[:, i+1, :, :]\n",
    "    yhat = yhats[:, i, :, :]\n",
    "    # print(cube.shape)\n",
    "    y = y.reshape((96, 128))\n",
    "    # print(yhat.shape)\n",
    "    yhat = yhat.reshape((96, 128))\n",
    "    # y = y.transpose(1, 0)\n",
    "    # yhat = yhat.transpose(1, 0)\n",
    "\n",
    "    error = np.abs(y - yhat)\n",
    "    vmin = min(y.min(), yhat.min())\n",
    "    vmax = max(y.max(), yhat.max())\n",
    "    fig, axes = plt.subplots(1, 3, figsize=(12, 6))\n",
    "    cmap = \"coolwarm\"\n",
    "\n",
    "    # # Plot first subplot\n",
    "    im1 = axes[0].imshow(y, cmap=cmap, vmin=vmin, vmax=vmax)\n",
    "    axes[0].set_title(f\"gt: br002 at {i+1}\")\n",
    "\n",
    "    # Plot second subplot\n",
    "    im3 = axes[1].imshow(yhat, cmap=cmap, vmin=vmin, vmax=vmax)\n",
    "    axes[1].set_title(f\"pred at {i+1} \")\n",
    "\n",
    "    cbar = fig.colorbar(im1, ax=axes, orientation=\"horizontal\", fraction=0.1, pad=0.02)\n",
    "\n",
    "    # Plot second subplot\n",
    "    im4 = axes[2].imshow(error, cmap=\"gray\")\n",
    "    axes[2].set_title(f\"|pred-gt|\")\n",
    "\n",
    "    # Create a single colorbar\n",
    "    cbar = fig.colorbar(im4, ax=axes, orientation=\"vertical\", fraction=0.05, pad=0.02)\n",
    "\n",
    "    # plt.tight_layout()\n",
    "    buf = BytesIO()\n",
    "    plt.savefig(buf, format=\"png\")\n",
    "    frames.append(imageio.imread(buf))\n",
    "    plt.close()"
   ]
  },
  {
   "cell_type": "code",
   "execution_count": 18,
   "metadata": {},
   "outputs": [],
   "source": [
    "output_filename = f\"b{I}.gif\"\n",
    "fps = 2  # Adjust frames per second as needed\n",
    "\n",
    "# Create video directly from frames in memory\n",
    "with imageio.get_writer(output_filename, fps=fps, loop=0) as writer:\n",
    "    for frame in frames:\n",
    "        writer.append_data(frame)"
   ]
  },
  {
   "cell_type": "code",
   "execution_count": null,
   "metadata": {},
   "outputs": [],
   "source": []
  }
 ],
 "metadata": {
  "kernelspec": {
   "display_name": ".venv",
   "language": "python",
   "name": "python3"
  },
  "language_info": {
   "codemirror_mode": {
    "name": "ipython",
    "version": 3
   },
   "file_extension": ".py",
   "mimetype": "text/x-python",
   "name": "python",
   "nbconvert_exporter": "python",
   "pygments_lexer": "ipython3",
   "version": "3.9.6"
  }
 },
 "nbformat": 4,
 "nbformat_minor": 2
}
