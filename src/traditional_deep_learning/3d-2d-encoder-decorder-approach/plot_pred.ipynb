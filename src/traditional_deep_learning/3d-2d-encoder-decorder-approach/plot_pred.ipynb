{
 "cells": [
  {
   "cell_type": "code",
   "execution_count": 37,
   "metadata": {},
   "outputs": [],
   "source": [
    "import os\n",
    "import torch\n",
    "import json\n",
    "from io import BytesIO\n",
    "import numpy as np\n",
    "import torch.nn as nn\n",
    "from tqdm import tqdm, trange\n",
    "from model import EncoderDecoder\n",
    "import matplotlib.pyplot as plt\n",
    "import imageio.v2 as imageio\n",
    "from utils import Dataset\n",
    "from torch.utils.data.dataloader import DataLoader"
   ]
  },
  {
   "cell_type": "code",
   "execution_count": 38,
   "metadata": {},
   "outputs": [],
   "source": [
    "device = torch.device('cpu')"
   ]
  },
  {
   "cell_type": "code",
   "execution_count": 39,
   "metadata": {},
   "outputs": [],
   "source": [
    "data_path = '/Users/reza/Career/DMLab/SURROGATE/Data/trash/test'\n",
    "result_path = '/Users/reza/Career/DMLab/SURROGATE/results/laplace/3D2D/psi_web_v_first_100_kpo'\n",
    "cfg_path = os.path.join(result_path, 'cfg.json')\n",
    "with open(cfg_path, 'r') as f:\n",
    "    cfg = json.load(f)\n",
    "subdir_paths = sorted(os.listdir(data_path))\n",
    "cr_paths = [os.path.join(data_path, p) for p in subdir_paths if p.startswith(\"cr\")]"
   ]
  },
  {
   "cell_type": "code",
   "execution_count": 40,
   "metadata": {},
   "outputs": [],
   "source": [
    "dataset = Dataset(\n",
    "    cr_paths=cr_paths,\n",
    "    instruments=[\"kpo_mas_mas_std_0101\"],\n",
    "    v_min=cfg[\"v_min\"],\n",
    "    v_max=cfg[\"v_max\"],\n",
    "    # rho_min=cfg[\"rho_min\"],\n",
    "    # rho_max=cfg[\"rho_max\"],\n",
    ")"
   ]
  },
  {
   "cell_type": "code",
   "execution_count": 41,
   "metadata": {},
   "outputs": [],
   "source": [
    "model = EncoderDecoder(\n",
    "    in_channels=1, base_channels=cfg[\"base_channels\"], latent_dim=cfg[\"latent_dim\"]\n",
    ").to(device)"
   ]
  },
  {
   "cell_type": "code",
   "execution_count": 42,
   "metadata": {},
   "outputs": [
    {
     "name": "stderr",
     "output_type": "stream",
     "text": [
      "/var/folders/bv/7h0f0hns2y72yqgg3ww8qkkm0000gn/T/ipykernel_2976/3118622503.py:2: FutureWarning: You are using `torch.load` with `weights_only=False` (the current default value), which uses the default pickle module implicitly. It is possible to construct malicious pickle data which will execute arbitrary code during unpickling (See https://github.com/pytorch/pytorch/blob/main/SECURITY.md#untrusted-models for more details). In a future release, the default value for `weights_only` will be flipped to `True`. This limits the functions that could be executed during unpickling. Arbitrary objects will no longer be allowed to be loaded via this mode unless they are explicitly allowlisted by the user via `torch.serialization.add_safe_globals`. We recommend you start setting `weights_only=True` for any use case where you don't have full control of the loaded file. Please open an issue on GitHub for any issues related to this experimental feature.\n",
      "  model.load_state_dict(torch.load(state_path, map_location='cpu'))\n"
     ]
    },
    {
     "data": {
      "text/plain": [
       "<All keys matched successfully>"
      ]
     },
     "execution_count": 42,
     "metadata": {},
     "output_type": "execute_result"
    }
   ],
   "source": [
    "state_path = os.path.join(result_path, '5.pth')\n",
    "model.load_state_dict(torch.load(state_path, map_location='cpu'))"
   ]
  },
  {
   "cell_type": "markdown",
   "metadata": {},
   "source": [
    "# Validation partition"
   ]
  },
  {
   "cell_type": "code",
   "execution_count": 48,
   "metadata": {},
   "outputs": [
    {
     "name": "stdout",
     "output_type": "stream",
     "text": [
      "(1, 141, 128, 128)\n"
     ]
    },
    {
     "name": "stderr",
     "output_type": "stream",
     "text": [
      "100%|██████████| 140/140 [01:03<00:00,  2.19it/s]"
     ]
    },
    {
     "name": "stdout",
     "output_type": "stream",
     "text": [
      "torch.Size([1, 140, 128, 128])\n"
     ]
    },
    {
     "name": "stderr",
     "output_type": "stream",
     "text": [
      "\n"
     ]
    }
   ],
   "source": [
    "i = 0\n",
    "cube = dataset[i]\n",
    "print(cube.shape)\n",
    "with torch.no_grad():\n",
    "    # slicing\n",
    "    # print(x.shape)\n",
    "    x = torch.tensor(cube[:, 0, :, :], dtype=torch.float32)\n",
    "    yhat = model.predict(x.unsqueeze(0), n_slices=cube.shape[1]-1)\n",
    "    yhat = yhat.squeeze(0)\n",
    "print(yhat.shape)"
   ]
  },
  {
   "cell_type": "code",
   "execution_count": 49,
   "metadata": {},
   "outputs": [],
   "source": [
    "y = cube[:, 1:, :, :]"
   ]
  },
  {
   "cell_type": "code",
   "execution_count": 50,
   "metadata": {},
   "outputs": [
    {
     "data": {
      "text/plain": [
       "(torch.Size([1, 140, 128, 128]), (1, 140, 128, 128))"
      ]
     },
     "execution_count": 50,
     "metadata": {},
     "output_type": "execute_result"
    }
   ],
   "source": [
    "yhat.shape, y.shape"
   ]
  },
  {
   "cell_type": "code",
   "execution_count": 51,
   "metadata": {},
   "outputs": [
    {
     "name": "stderr",
     "output_type": "stream",
     "text": [
      "100%|██████████| 140/140 [00:16<00:00,  8.62it/s]\n"
     ]
    }
   ],
   "source": [
    "frames = []\n",
    "for step in trange(yhat.shape[1]):\n",
    "    val = y[0, step, :, :]\n",
    "    pred = yhat[0, step, :, :]\n",
    "    # plt.figure(figsize=(12, 6))\n",
    "    # plt.subplot(1, 2, 1)\n",
    "    # plt.imshow(val, cmap=\"viridis\")\n",
    "    # # plt.contourf(\n",
    "    # #     np.arange(val.shape[0]),\n",
    "    # #     np.arange(val.shape[1]),\n",
    "    # #     val.T,\n",
    "    # #     cmap=\"viridis\",\n",
    "    # #     # norm=norm,\n",
    "    # # )\n",
    "    # plt.title(f\"Actual Slice (k={step+1+starting_slice})\")\n",
    "    # plt.colorbar()\n",
    "    # # plt.xlabel(\"I\")\n",
    "    # # plt.ylabel(\"J\")\n",
    "\n",
    "    # plt.subplot(1, 2, 2)\n",
    "    # plt.imshow(pred, cmap=\"viridis\")\n",
    "    # # plt.contourf(\n",
    "    # #     np.arange(pred.shape[0]),\n",
    "    # #     np.arange(pred.shape[1]),\n",
    "    # #     pred.T,\n",
    "    # #     cmap=\"viridis\",\n",
    "    # #     # norm=norm,\n",
    "    # # )\n",
    "    # plt.title(f\"Predicted Slice (k={step+1+starting_slice})\")\n",
    "    # plt.colorbar()\n",
    "    # # plt.xlabel(\"I\")\n",
    "    # # plt.ylabel(\"J\")\n",
    "    \n",
    "    fig, axes = plt.subplots(1, 2, figsize=(12, 6))\n",
    "    cmap = \"viridis\"\n",
    "\n",
    "    # Plot first subplot\n",
    "    im1 = axes[0].imshow(val, cmap=cmap)\n",
    "    axes[0].set_title(f\"Actual Slice (k={step+1})\")\n",
    "\n",
    "    # Plot second subplot\n",
    "    im2 = axes[1].imshow(pred, cmap=cmap)\n",
    "    axes[1].set_title(f\"Predicted Slice (k={step+1})\")\n",
    "\n",
    "    # Create a single colorbar\n",
    "    cbar = fig.colorbar(im1, ax=axes, orientation=\"vertical\", fraction=0.05, pad=0.02)\n",
    "\n",
    "    # plt.tight_layout()\n",
    "    # plt.show()\n",
    "\n",
    "    # plt.show()\n",
    "    buf = BytesIO()\n",
    "    plt.savefig(buf, format='png')\n",
    "    frames.append(imageio.imread(buf))\n",
    "    plt.close()"
   ]
  },
  {
   "cell_type": "code",
   "execution_count": 52,
   "metadata": {},
   "outputs": [
    {
     "name": "stderr",
     "output_type": "stream",
     "text": [
      "IMAGEIO FFMPEG_WRITER WARNING: input image is not divisible by macro_block_size=16, resizing from (1200, 600) to (1200, 608) to ensure video compatibility with most codecs and players. To prevent resizing, make your input image divisible by the macro_block_size or set the macro_block_size to 1 (risking incompatibility).\n"
     ]
    }
   ],
   "source": [
    "output_filename = f\"v_2d3d.mp4\"\n",
    "fps = 10  # Adjust frames per second as needed\n",
    "\n",
    "# Create video directly from frames in memory\n",
    "with imageio.get_writer(output_filename, fps=fps) as writer:\n",
    "    for frame in frames:\n",
    "        writer.append_data(frame)"
   ]
  },
  {
   "cell_type": "code",
   "execution_count": null,
   "metadata": {},
   "outputs": [],
   "source": []
  }
 ],
 "metadata": {
  "kernelspec": {
   "display_name": ".venv",
   "language": "python",
   "name": "python3"
  },
  "language_info": {
   "codemirror_mode": {
    "name": "ipython",
    "version": 3
   },
   "file_extension": ".py",
   "mimetype": "text/x-python",
   "name": "python",
   "nbconvert_exporter": "python",
   "pygments_lexer": "ipython3",
   "version": "3.9.6"
  }
 },
 "nbformat": 4,
 "nbformat_minor": 2
}
