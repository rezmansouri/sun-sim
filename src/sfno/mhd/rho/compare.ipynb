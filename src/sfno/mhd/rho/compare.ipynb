{
 "cells": [
  {
   "cell_type": "code",
   "execution_count": 3,
   "id": "089c8e32",
   "metadata": {},
   "outputs": [],
   "source": [
    "import os\n",
    "import sys\n",
    "import json\n",
    "import torch\n",
    "import numpy as np\n",
    "import torch.nn as nn\n",
    "from tqdm import tqdm\n",
    "from neuralop import LpLoss\n",
    "from neuralop import Trainer\n",
    "from neuralop.models import SFNO\n",
    "from neuralop.training import AdamW\n",
    "from utils import SphericalNODataset\n",
    "from torch.utils.data import DataLoader\n",
    "\n",
    "\n",
    "device = torch.device(\"cuda\" if torch.cuda.is_available() else \"cpu\")"
   ]
  },
  {
   "cell_type": "code",
   "execution_count": 10,
   "id": "06408c0a",
   "metadata": {},
   "outputs": [],
   "source": [
    "exp_path = '/Users/reza/Career/DMLab/SURROGATE/results/laplace/sfno/exp_18'\n",
    "cfg_path = os.path.join(exp_path, 'cfg.json')\n",
    "state_path = os.path.join(exp_path, 'ckpt', 'best_model_state_dict.pt')"
   ]
  },
  {
   "cell_type": "code",
   "execution_count": 11,
   "id": "39d9103c",
   "metadata": {},
   "outputs": [],
   "source": [
    "with open(cfg_path, \"r\", encoding='utf-8') as f:\n",
    "        cfg = json.load(f)"
   ]
  },
  {
   "cell_type": "code",
   "execution_count": null,
   "id": "e9bb6e80",
   "metadata": {},
   "outputs": [
    {
     "name": "stderr",
     "output_type": "stream",
     "text": [
      "  0%|          | 0/227 [00:00<?, ?it/s]\n"
     ]
    },
    {
     "ename": "HDF4Error",
     "evalue": "SD: no such file",
     "output_type": "error",
     "traceback": [
      "\u001b[0;31m---------------------------------------------------------------------------\u001b[0m",
      "\u001b[0;31mHDF4Error\u001b[0m                                 Traceback (most recent call last)",
      "Cell \u001b[0;32mIn[12], line 2\u001b[0m\n\u001b[1;32m      1\u001b[0m sim_paths \u001b[38;5;241m=\u001b[39m cfg[\u001b[38;5;124m\"\u001b[39m\u001b[38;5;124mval_files\u001b[39m\u001b[38;5;124m\"\u001b[39m]\n\u001b[0;32m----> 2\u001b[0m val_dataset \u001b[38;5;241m=\u001b[39m \u001b[43mSphericalNODataset\u001b[49m\u001b[43m(\u001b[49m\n\u001b[1;32m      3\u001b[0m \u001b[43m    \u001b[49m\u001b[43msim_paths\u001b[49m\u001b[43m,\u001b[49m\n\u001b[1;32m      4\u001b[0m \u001b[43m    \u001b[49m\u001b[43mrho_min\u001b[49m\u001b[38;5;241;43m=\u001b[39;49m\u001b[43mcfg\u001b[49m\u001b[43m[\u001b[49m\u001b[38;5;124;43m\"\u001b[39;49m\u001b[38;5;124;43mrho_min\u001b[39;49m\u001b[38;5;124;43m\"\u001b[39;49m\u001b[43m]\u001b[49m\u001b[43m,\u001b[49m\n\u001b[1;32m      5\u001b[0m \u001b[43m    \u001b[49m\u001b[43mrho_max\u001b[49m\u001b[38;5;241;43m=\u001b[39;49m\u001b[43mcfg\u001b[49m\u001b[43m[\u001b[49m\u001b[38;5;124;43m\"\u001b[39;49m\u001b[38;5;124;43mrho_max\u001b[39;49m\u001b[38;5;124;43m\"\u001b[39;49m\u001b[43m]\u001b[49m\u001b[43m,\u001b[49m\n\u001b[1;32m      6\u001b[0m \u001b[43m)\u001b[49m\n\u001b[1;32m      7\u001b[0m val_loader \u001b[38;5;241m=\u001b[39m DataLoader(val_dataset, batch_size\u001b[38;5;241m=\u001b[39m\u001b[38;5;241m32\u001b[39m, shuffle\u001b[38;5;241m=\u001b[39m\u001b[38;5;28;01mFalse\u001b[39;00m)\n",
      "File \u001b[0;32m~/Career/DMLab/SURROGATE/sun-sim/src/sfno/mhd/rho/utils.py:68\u001b[0m, in \u001b[0;36mSphericalNODataset.__init__\u001b[0;34m(self, sim_paths, height, width, rho_min, rho_max)\u001b[0m\n\u001b[1;32m     59\u001b[0m \u001b[38;5;28;01mdef\u001b[39;00m\u001b[38;5;250m \u001b[39m\u001b[38;5;21m__init__\u001b[39m(\n\u001b[1;32m     60\u001b[0m     \u001b[38;5;28mself\u001b[39m,\n\u001b[1;32m     61\u001b[0m     sim_paths,\n\u001b[0;32m   (...)\u001b[0m\n\u001b[1;32m     65\u001b[0m     rho_max\u001b[38;5;241m=\u001b[39m\u001b[38;5;28;01mNone\u001b[39;00m,\n\u001b[1;32m     66\u001b[0m ):\n\u001b[1;32m     67\u001b[0m     \u001b[38;5;28msuper\u001b[39m()\u001b[38;5;241m.\u001b[39m\u001b[38;5;21m__init__\u001b[39m()\n\u001b[0;32m---> 68\u001b[0m     sims \u001b[38;5;241m=\u001b[39m \u001b[43mget_sims\u001b[49m\u001b[43m(\u001b[49m\u001b[43msim_paths\u001b[49m\u001b[43m,\u001b[49m\u001b[43m \u001b[49m\u001b[43mheight\u001b[49m\u001b[43m,\u001b[49m\u001b[43m \u001b[49m\u001b[43mwidth\u001b[49m\u001b[43m)\u001b[49m\n\u001b[1;32m     69\u001b[0m     sims, \u001b[38;5;28mself\u001b[39m\u001b[38;5;241m.\u001b[39mrho_min, \u001b[38;5;28mself\u001b[39m\u001b[38;5;241m.\u001b[39mrho_max \u001b[38;5;241m=\u001b[39m min_max_normalize(sims, rho_min, rho_max)\n\u001b[1;32m     70\u001b[0m     \u001b[38;5;28mself\u001b[39m\u001b[38;5;241m.\u001b[39msims \u001b[38;5;241m=\u001b[39m sims\n",
      "File \u001b[0;32m~/Career/DMLab/SURROGATE/sun-sim/src/sfno/mhd/rho/utils.py:45\u001b[0m, in \u001b[0;36mget_sims\u001b[0;34m(sim_paths, new_height, new_width)\u001b[0m\n\u001b[1;32m     43\u001b[0m sims \u001b[38;5;241m=\u001b[39m []\n\u001b[1;32m     44\u001b[0m \u001b[38;5;28;01mfor\u001b[39;00m sim_path \u001b[38;5;129;01min\u001b[39;00m tqdm(sim_paths):\n\u001b[0;32m---> 45\u001b[0m     sims\u001b[38;5;241m.\u001b[39mappend(\u001b[43mget_sim\u001b[49m\u001b[43m(\u001b[49m\u001b[43msim_path\u001b[49m\u001b[43m,\u001b[49m\u001b[43m \u001b[49m\u001b[43mnew_height\u001b[49m\u001b[43m,\u001b[49m\u001b[43m \u001b[49m\u001b[43mnew_width\u001b[49m\u001b[43m)\u001b[49m)\n\u001b[1;32m     46\u001b[0m sims \u001b[38;5;241m=\u001b[39m np\u001b[38;5;241m.\u001b[39mstack(sims, axis\u001b[38;5;241m=\u001b[39m\u001b[38;5;241m0\u001b[39m)\n\u001b[1;32m     47\u001b[0m \u001b[38;5;28;01mreturn\u001b[39;00m sims\n",
      "File \u001b[0;32m~/Career/DMLab/SURROGATE/sun-sim/src/sfno/mhd/rho/utils.py:34\u001b[0m, in \u001b[0;36mget_sim\u001b[0;34m(sim_path, new_height, new_width)\u001b[0m\n\u001b[1;32m     32\u001b[0m \u001b[38;5;28;01mdef\u001b[39;00m\u001b[38;5;250m \u001b[39m\u001b[38;5;21mget_sim\u001b[39m(sim_path, new_height, new_width):\n\u001b[1;32m     33\u001b[0m     (rho_path,) \u001b[38;5;241m=\u001b[39m [path_join(sim_path, file_name) \u001b[38;5;28;01mfor\u001b[39;00m file_name \u001b[38;5;129;01min\u001b[39;00m FILE_NAMES]\n\u001b[0;32m---> 34\u001b[0m     rho \u001b[38;5;241m=\u001b[39m \u001b[43mread_hdf\u001b[49m\u001b[43m(\u001b[49m\u001b[43mrho_path\u001b[49m\u001b[43m,\u001b[49m\u001b[43m \u001b[49m\u001b[43m[\u001b[49m\u001b[38;5;124;43m\"\u001b[39;49m\u001b[38;5;124;43mData-Set-2\u001b[39;49m\u001b[38;5;124;43m\"\u001b[39;49m\u001b[43m]\u001b[49m\u001b[43m)\u001b[49m[\u001b[38;5;241m0\u001b[39m]\n\u001b[1;32m     35\u001b[0m     rho \u001b[38;5;241m=\u001b[39m rho\u001b[38;5;241m.\u001b[39mtranspose(\u001b[38;5;241m2\u001b[39m, \u001b[38;5;241m1\u001b[39m, \u001b[38;5;241m0\u001b[39m)\n\u001b[1;32m     37\u001b[0m     rho \u001b[38;5;241m=\u001b[39m resize_3d(rho, new_height, new_width)\n",
      "File \u001b[0;32m~/Career/DMLab/SURROGATE/sun-sim/src/sfno/mhd/rho/utils.py:14\u001b[0m, in \u001b[0;36mread_hdf\u001b[0;34m(hdf_path, dataset_names)\u001b[0m\n\u001b[1;32m     13\u001b[0m \u001b[38;5;28;01mdef\u001b[39;00m\u001b[38;5;250m \u001b[39m\u001b[38;5;21mread_hdf\u001b[39m(hdf_path, dataset_names):\n\u001b[0;32m---> 14\u001b[0m     f \u001b[38;5;241m=\u001b[39m \u001b[43mSD\u001b[49m\u001b[43m(\u001b[49m\u001b[43mhdf_path\u001b[49m\u001b[43m,\u001b[49m\u001b[43m \u001b[49m\u001b[43mSDC\u001b[49m\u001b[38;5;241;43m.\u001b[39;49m\u001b[43mREAD\u001b[49m\u001b[43m)\u001b[49m\n\u001b[1;32m     15\u001b[0m     datasets \u001b[38;5;241m=\u001b[39m []\n\u001b[1;32m     16\u001b[0m     \u001b[38;5;28;01mfor\u001b[39;00m dataset_name \u001b[38;5;129;01min\u001b[39;00m dataset_names:\n",
      "File \u001b[0;32m~/Career/DMLab/SURROGATE/.venv/lib/python3.9/site-packages/pyhdf/SD.py:1424\u001b[0m, in \u001b[0;36mSD.__init__\u001b[0;34m(self, path, mode)\u001b[0m\n\u001b[1;32m   1422\u001b[0m         mode \u001b[38;5;241m=\u001b[39m SDC\u001b[38;5;241m.\u001b[39mREAD\n\u001b[1;32m   1423\u001b[0m     \u001b[38;5;28;01melse\u001b[39;00m:\n\u001b[0;32m-> 1424\u001b[0m         \u001b[38;5;28;01mraise\u001b[39;00m HDF4Error(\u001b[38;5;124m\"\u001b[39m\u001b[38;5;124mSD: no such file\u001b[39m\u001b[38;5;124m\"\u001b[39m)\n\u001b[1;32m   1425\u001b[0m \u001b[38;5;28;01melse\u001b[39;00m:\n\u001b[1;32m   1426\u001b[0m     \u001b[38;5;28;01mraise\u001b[39;00m HDF4Error(\u001b[38;5;124m\"\u001b[39m\u001b[38;5;124mSD: bad mode, READ or WRITE must be set\u001b[39m\u001b[38;5;124m\"\u001b[39m)\n",
      "\u001b[0;31mHDF4Error\u001b[0m: SD: no such file"
     ]
    }
   ],
   "source": [
    "sim_paths = cfg[\"val_files\"]\n",
    "sim_paths = list(map(lambda x: x.replace('/home/rmansouri1/sun-sim/data/psi_web/6-feb-2025', ''), sim_paths))\n",
    "val_dataset = SphericalNODataset(\n",
    "    sim_paths,\n",
    "    rho_min=cfg[\"rho_min\"],\n",
    "    rho_max=cfg[\"rho_max\"],\n",
    ")\n",
    "val_loader = DataLoader(val_dataset, batch_size=32, shuffle=False)"
   ]
  },
  {
   "cell_type": "code",
   "execution_count": null,
   "id": "1504ac92",
   "metadata": {},
   "outputs": [],
   "source": [
    "model = SFNO(\n",
    "    n_modes=(cfg[\"n_modes\"], cfg[\"n_modes\"]),\n",
    "    in_channels=1,\n",
    "    out_channels=140,\n",
    "    hidden_channels=cfg[\"hidden_channels\"],\n",
    "    projection_channel_ratio=2,\n",
    "    factorization=\"dense\",\n",
    ")\n",
    "model = model.to(device)\n",
    "state = torch.load(state_path, weights_only=False, map_location=device)\n",
    "model.load_state_dict(state)\n",
    "l2loss = LpLoss(d=2, p=2, reduction=\"sum\")\n",
    "\n",
    "losses = []\n",
    "\n",
    "model.eval()\n",
    "for batch in tqdm(val_loader):\n",
    "    sample = {k: v.to(device) for k, v in batch.items() if torch.is_tensor(v)}\n",
    "    with torch.no_grad():\n",
    "        out = model(**sample)\n",
    "    loss = l2loss(out, sample[\"y\"])\n",
    "    losses.append(loss.item())\n",
    "\n",
    "losses = np.mean(losses)\n",
    "\n",
    "print(losses)"
   ]
  }
 ],
 "metadata": {
  "kernelspec": {
   "display_name": ".venv",
   "language": "python",
   "name": "python3"
  },
  "language_info": {
   "codemirror_mode": {
    "name": "ipython",
    "version": 3
   },
   "file_extension": ".py",
   "mimetype": "text/x-python",
   "name": "python",
   "nbconvert_exporter": "python",
   "pygments_lexer": "ipython3",
   "version": "3.9.6"
  }
 },
 "nbformat": 4,
 "nbformat_minor": 5
}
