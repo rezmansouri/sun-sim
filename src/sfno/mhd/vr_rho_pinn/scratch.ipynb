{
 "cells": [
  {
   "cell_type": "code",
   "execution_count": 1,
   "id": "57fad965",
   "metadata": {},
   "outputs": [],
   "source": [
    "import numpy as np\n",
    "import torch"
   ]
  },
  {
   "cell_type": "code",
   "execution_count": 2,
   "id": "0d138638",
   "metadata": {},
   "outputs": [],
   "source": [
    "# Example: define the radial grid (size 140)\n",
    "r = np.random.rand(140)  # Example radial grid (adjust to your case)\n",
    "\n",
    "# Assuming 3D arrays for rho, v_r (shape: 140, 110, 128)\n",
    "rho = np.random.rand(140, 110, 128)  # Example 3D density array\n",
    "v_r = np.random.rand(140, 110, 128)  # Example 3D radial velocity array\n",
    "\n",
    "g = 10  # Example gravitational acceleration array (1D, size 140)\n",
    "p = np.random.rand(140, 110, 128)  # Example pressure array (1D, size 140)"
   ]
  },
  {
   "cell_type": "code",
   "execution_count": 3,
   "id": "ce1652be",
   "metadata": {},
   "outputs": [],
   "source": [
    "# Broadcast 1D arrays to the shape (140, 110, 128)\n",
    "r_expanded = np.broadcast_to(r[:, np.newaxis, np.newaxis], (140, 110, 128))  # Broadcasting r"
   ]
  },
  {
   "cell_type": "code",
   "execution_count": 4,
   "id": "ee50bb1a",
   "metadata": {},
   "outputs": [],
   "source": [
    "# Compute first derivatives using np.gradient for the radial direction (axis 0 is the radial direction)\n",
    "d_rho_dr = np.gradient(rho, r, axis=0)  # First derivative of density w.r.t. r (along axis 0)\n",
    "dv_r_dr = np.gradient(v_r, r, axis=0)  # First derivative of v_r (radial velocity) w.r.t. r (along axis 0)\n",
    "d_p_dr = np.gradient(p, r, axis=0)  # First derivative of pressure w.r.t. r (1D array)"
   ]
  },
  {
   "cell_type": "code",
   "execution_count": 5,
   "id": "43534768",
   "metadata": {},
   "outputs": [
    {
     "name": "stdout",
     "output_type": "stream",
     "text": [
      "(140, 110, 128)\n"
     ]
    }
   ],
   "source": [
    "# Terms in the equation:\n",
    "term1 = rho * v_r * dv_r_dr  # Convective term: rho * v_r * (dv_r / dr)\n",
    "term2 = -d_p_dr  # Pressure gradient term: - dp / dr\n",
    "term3 = rho * g  # Gravitational term: rho * g_r (Broadcast g_r to match rho's shape)\n",
    "\n",
    "# print(term1.shape, term2.shape, term3.shape, term4.shape, term5.shape, term6.shape, term7.shape)\n",
    "\n",
    "# Final equation (note the result will have the same shape as rho, v_r, p, etc.)\n",
    "equation_result = -term1 + term2 + term3\n",
    "\n",
    "# The result should be the value on the left-hand side of the equation:\n",
    "print(equation_result.shape)  # Verify the shape of the result (should be the same as the input arrays)\n"
   ]
  },
  {
   "cell_type": "code",
   "execution_count": 6,
   "id": "acc25f27",
   "metadata": {},
   "outputs": [
    {
     "data": {
      "text/plain": [
       "array([[ 2.75432901,  3.76756449,  1.08817247,  1.32738702,  4.18309227],\n",
       "       [ 8.8459812 ,  5.91843877,  4.21359835,  6.8749336 , 10.02880663],\n",
       "       [ 1.74740802,  1.94056367,  1.09248574,  4.62110055, -0.09307564],\n",
       "       [ 0.89373813,  3.40525045,  2.0516053 ,  4.28251988,  8.66245548],\n",
       "       [-0.65022464,  5.33669415,  5.95970196,  4.18587231, -0.44483   ]])"
      ]
     },
     "execution_count": 6,
     "metadata": {},
     "output_type": "execute_result"
    }
   ],
   "source": [
    "equation_result[0, :5, :5]"
   ]
  },
  {
   "cell_type": "code",
   "execution_count": 7,
   "id": "3967f743",
   "metadata": {},
   "outputs": [],
   "source": [
    "rho_tensor = torch.tensor(rho, requires_grad=True)\n",
    "v_r_tensor = torch.tensor(v_r, requires_grad=True)\n",
    "p_tensor = torch.tensor(p, requires_grad=True)\n",
    "r_tensor = torch.tensor(r, requires_grad=True)"
   ]
  },
  {
   "cell_type": "code",
   "execution_count": 8,
   "id": "ad7d452f",
   "metadata": {},
   "outputs": [],
   "source": [
    "dr = float(r_tensor[1]-r_tensor[0])"
   ]
  },
  {
   "cell_type": "code",
   "execution_count": 9,
   "id": "84ef4140",
   "metadata": {},
   "outputs": [],
   "source": [
    "# Compute first derivatives using np.gradient for the radial direction (axis 0 is the radial direction)\n",
    "d_rho_dr = torch.gradient(rho_tensor, axis=0)[0] / dr  # First derivative of density w.r.t. r (along axis 0)\n",
    "dv_r_dr = torch.gradient(v_r_tensor, axis=0)[0] / dr    # First derivative of v_r (radial velocity) w.r.t. r (along axis 0)\n",
    "d_p_dr = torch.gradient(p_tensor, axis=0)[0]  / dr   # First derivative of pressure w.r.t. r (1D array)"
   ]
  },
  {
   "cell_type": "code",
   "execution_count": 10,
   "id": "ac85e2a1",
   "metadata": {},
   "outputs": [
    {
     "name": "stdout",
     "output_type": "stream",
     "text": [
      "torch.Size([140, 110, 128])\n"
     ]
    }
   ],
   "source": [
    "# Terms in the equation:\n",
    "term1 = rho_tensor * v_r_tensor * dv_r_dr  # Convective term: rho * v_r * (dv_r / dr)\n",
    "term2 = -d_p_dr  # Pressure gradient term: - dp / dr\n",
    "term3 = rho_tensor * g  # Gravitational term: rho * g_r (Broadcast g_r to match rho's shape)\n",
    "\n",
    "# print(term1.shape, term2.shape, term3.shape, term4.shape, term5.shape, term6.shape, term7.shape)\n",
    "\n",
    "# Final equation (note the result will have the same shape as rho, v_r, p, etc.)\n",
    "equation_result = -term1 + term2 + term3\n",
    "\n",
    "# The result should be the value on the left-hand side of the equation:\n",
    "print(equation_result.shape)  # Verify the shape of the result (should be the same as the input arrays)\n"
   ]
  },
  {
   "cell_type": "code",
   "execution_count": 11,
   "id": "55a764b7",
   "metadata": {},
   "outputs": [
    {
     "data": {
      "text/plain": [
       "tensor([[ 2.7543,  3.7676,  1.0882,  1.3274,  4.1831],\n",
       "        [ 8.8460,  5.9184,  4.2136,  6.8749, 10.0288],\n",
       "        [ 1.7474,  1.9406,  1.0925,  4.6211, -0.0931],\n",
       "        [ 0.8937,  3.4053,  2.0516,  4.2825,  8.6625],\n",
       "        [-0.6502,  5.3367,  5.9597,  4.1859, -0.4448]], dtype=torch.float64,\n",
       "       grad_fn=<SliceBackward0>)"
      ]
     },
     "execution_count": 11,
     "metadata": {},
     "output_type": "execute_result"
    }
   ],
   "source": [
    "equation_result[0, :5, :5]"
   ]
  },
  {
   "cell_type": "code",
   "execution_count": 17,
   "id": "f72a0106",
   "metadata": {},
   "outputs": [
    {
     "ename": "RuntimeError",
     "evalue": "The size of tensor a (140) must match the size of tensor b (139) at non-singleton dimension 0",
     "output_type": "error",
     "traceback": [
      "\u001b[0;31m---------------------------------------------------------------------------\u001b[0m",
      "\u001b[0;31mRuntimeError\u001b[0m                              Traceback (most recent call last)",
      "Cell \u001b[0;32mIn[17], line 6\u001b[0m\n\u001b[1;32m      3\u001b[0m \u001b[38;5;66;03m# Compute the gradient of p with respect to r (pressure gradient)\u001b[39;00m\n\u001b[1;32m      4\u001b[0m dp_dr \u001b[38;5;241m=\u001b[39m (p_tensor[\u001b[38;5;241m1\u001b[39m:] \u001b[38;5;241m-\u001b[39m p_tensor[:\u001b[38;5;241m-\u001b[39m\u001b[38;5;241m1\u001b[39m]) \u001b[38;5;241m/\u001b[39m (r_tensor[\u001b[38;5;241m1\u001b[39m] \u001b[38;5;241m-\u001b[39m r_tensor[\u001b[38;5;241m0\u001b[39m])\n\u001b[0;32m----> 6\u001b[0m term1 \u001b[38;5;241m=\u001b[39m \u001b[43mrho_tensor\u001b[49m\u001b[43m \u001b[49m\u001b[38;5;241;43m*\u001b[39;49m\u001b[43m \u001b[49m\u001b[43mv_r_tensor\u001b[49m\u001b[43m \u001b[49m\u001b[38;5;241;43m*\u001b[39;49m\u001b[43m \u001b[49m\u001b[43mdv_r_dr\u001b[49m  \u001b[38;5;66;03m# Convective term: rho * v_r * (dv_r / dr)\u001b[39;00m\n\u001b[1;32m      7\u001b[0m term2 \u001b[38;5;241m=\u001b[39m \u001b[38;5;241m-\u001b[39mdp_dr  \u001b[38;5;66;03m# Pressure gradient term: - dp / dr\u001b[39;00m\n\u001b[1;32m      8\u001b[0m term3 \u001b[38;5;241m=\u001b[39m rho_tensor \u001b[38;5;241m*\u001b[39m g  \u001b[38;5;66;03m# Gravitational term: rho * g\u001b[39;00m\n",
      "\u001b[0;31mRuntimeError\u001b[0m: The size of tensor a (140) must match the size of tensor b (139) at non-singleton dimension 0"
     ]
    }
   ],
   "source": [
    "dv_r_dr = (v_r_tensor[1:, :, :] - v_r_tensor[:-1, :, :]) / (r_tensor[1] - r_tensor[0])  # First derivative of v_r (along radial axis)\n",
    "\n",
    "# Compute the gradient of p with respect to r (pressure gradient)\n",
    "dp_dr = (p_tensor[1:] - p_tensor[:-1]) / (r_tensor[1] - r_tensor[0])\n",
    "\n",
    "term1 = rho_tensor * v_r_tensor * dv_r_dr  # Convective term: rho * v_r * (dv_r / dr)\n",
    "term2 = -dp_dr  # Pressure gradient term: - dp / dr\n",
    "term3 = rho_tensor * g  # Gravitational term: rho * g\n",
    "\n",
    "value = term2 + term3 - term1\n",
    "value[0, :5, :5]"
   ]
  },
  {
   "cell_type": "code",
   "execution_count": 12,
   "id": "92c55e94",
   "metadata": {},
   "outputs": [
    {
     "name": "stdout",
     "output_type": "stream",
     "text": [
      "None\n",
      "None\n"
     ]
    },
    {
     "ename": "AttributeError",
     "evalue": "'NoneType' object has no attribute 'view'",
     "output_type": "error",
     "traceback": [
      "\u001b[0;31m---------------------------------------------------------------------------\u001b[0m",
      "\u001b[0;31mAttributeError\u001b[0m                            Traceback (most recent call last)",
      "Cell \u001b[0;32mIn[12], line 31\u001b[0m\n\u001b[1;32m     20\u001b[0m dp_dr \u001b[38;5;241m=\u001b[39m torch\u001b[38;5;241m.\u001b[39mautograd\u001b[38;5;241m.\u001b[39mgrad(\n\u001b[1;32m     21\u001b[0m     p_flattened,\n\u001b[1;32m     22\u001b[0m     r_flattened,\n\u001b[0;32m   (...)\u001b[0m\n\u001b[1;32m     27\u001b[0m     \u001b[38;5;241m0\u001b[39m\n\u001b[1;32m     28\u001b[0m ]  \u001b[38;5;66;03m# First derivative of pressure\u001b[39;00m\n\u001b[1;32m     29\u001b[0m \u001b[38;5;28mprint\u001b[39m(dp_dr)\n\u001b[0;32m---> 31\u001b[0m term1 \u001b[38;5;241m=\u001b[39m rho_tensor \u001b[38;5;241m*\u001b[39m v_r_tensor \u001b[38;5;241m*\u001b[39m \u001b[43mdv_r_dr\u001b[49m\u001b[38;5;241;43m.\u001b[39;49m\u001b[43mview\u001b[49m(rho_tensor\u001b[38;5;241m.\u001b[39mshape)  \u001b[38;5;66;03m# Convective term: rho * v_r * (dv_r / dr)\u001b[39;00m\n\u001b[1;32m     32\u001b[0m term2 \u001b[38;5;241m=\u001b[39m \u001b[38;5;241m-\u001b[39mdp_dr\u001b[38;5;241m.\u001b[39mview(rho_tensor\u001b[38;5;241m.\u001b[39mshape)  \u001b[38;5;66;03m# Pressure gradient term: - dp / dr\u001b[39;00m\n\u001b[1;32m     33\u001b[0m term3 \u001b[38;5;241m=\u001b[39m rho_tensor \u001b[38;5;241m*\u001b[39m g  \u001b[38;5;66;03m# Gravitational term: rho * g\u001b[39;00m\n",
      "\u001b[0;31mAttributeError\u001b[0m: 'NoneType' object has no attribute 'view'"
     ]
    }
   ],
   "source": [
    "v_pred_flattened = v_r_tensor.view(-1)  # Flatten for gradient computation\n",
    "r_flattened = r_tensor.repeat(\n",
    "    v_pred_flattened.shape[0] // len(r_tensor)\n",
    ")  # Repeat r to match the flattened v_pred shape\n",
    "\n",
    "# Calculate the gradient of v_pred with respect to r using autograd\n",
    "dv_r_dr = torch.autograd.grad(\n",
    "    v_pred_flattened,\n",
    "    r_flattened,\n",
    "    grad_outputs=torch.ones_like(v_pred_flattened),\n",
    "    create_graph=True,\n",
    "    allow_unused=True\n",
    ")[\n",
    "    0\n",
    "]  # First derivative of v_r\n",
    "print(dv_r_dr)\n",
    "\n",
    "# Similarly, compute the gradient of p (pressure) with respect to r\n",
    "p_flattened = p_tensor.view(-1)  # Flatten p for gradient computation\n",
    "dp_dr = torch.autograd.grad(\n",
    "    p_flattened,\n",
    "    r_flattened,\n",
    "    grad_outputs=torch.ones_like(p_flattened),\n",
    "    create_graph=True,\n",
    "    allow_unused=True\n",
    ")[\n",
    "    0\n",
    "]  # First derivative of pressure\n",
    "print(dp_dr)\n",
    "\n",
    "term1 = rho_tensor * v_r_tensor * dv_r_dr.view(rho_tensor.shape)  # Convective term: rho * v_r * (dv_r / dr)\n",
    "term2 = -dp_dr.view(rho_tensor.shape)  # Pressure gradient term: - dp / dr\n",
    "term3 = rho_tensor * g  # Gravitational term: rho * g\n",
    "\n",
    "value = term2 + term3 - term1"
   ]
  },
  {
   "cell_type": "code",
   "execution_count": null,
   "id": "2ccd3d15",
   "metadata": {},
   "outputs": [],
   "source": []
  }
 ],
 "metadata": {
  "kernelspec": {
   "display_name": ".venv",
   "language": "python",
   "name": "python3"
  },
  "language_info": {
   "codemirror_mode": {
    "name": "ipython",
    "version": 3
   },
   "file_extension": ".py",
   "mimetype": "text/x-python",
   "name": "python",
   "nbconvert_exporter": "python",
   "pygments_lexer": "ipython3",
   "version": "3.9.6"
  }
 },
 "nbformat": 4,
 "nbformat_minor": 5
}
