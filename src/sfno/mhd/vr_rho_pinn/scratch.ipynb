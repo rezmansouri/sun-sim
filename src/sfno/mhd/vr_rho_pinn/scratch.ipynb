{
 "cells": [
  {
   "cell_type": "code",
   "execution_count": 1,
   "id": "57fad965",
   "metadata": {},
   "outputs": [],
   "source": [
    "import numpy as np\n",
    "import torch"
   ]
  },
  {
   "cell_type": "code",
   "execution_count": 2,
   "id": "0d138638",
   "metadata": {},
   "outputs": [],
   "source": [
    "# Example: define the radial grid (size 140)\n",
    "r = np.random.rand(140)  # Example radial grid (adjust to your case)\n",
    "\n",
    "# Assuming 3D arrays for rho, v_r (shape: 140, 110, 128)\n",
    "rho = np.random.rand(140, 110, 128)  # Example 3D density array\n",
    "v_r = np.random.rand(140, 110, 128)  # Example 3D radial velocity array\n",
    "\n",
    "g = 10  # Example gravitational acceleration array (1D, size 140)\n",
    "p = np.random.rand(140, 110, 128)  # Example pressure array (1D, size 140)"
   ]
  },
  {
   "cell_type": "code",
   "execution_count": 3,
   "id": "ce1652be",
   "metadata": {},
   "outputs": [],
   "source": [
    "# Broadcast 1D arrays to the shape (140, 110, 128)\n",
    "r_expanded = np.broadcast_to(r[:, np.newaxis, np.newaxis], (140, 110, 128))  # Broadcasting r"
   ]
  },
  {
   "cell_type": "code",
   "execution_count": 4,
   "id": "ee50bb1a",
   "metadata": {},
   "outputs": [],
   "source": [
    "# Compute first derivatives using np.gradient for the radial direction (axis 0 is the radial direction)\n",
    "d_rho_dr = np.gradient(rho, r, axis=0)  # First derivative of density w.r.t. r (along axis 0)\n",
    "dv_r_dr = np.gradient(v_r, r, axis=0)  # First derivative of v_r (radial velocity) w.r.t. r (along axis 0)\n",
    "d_p_dr = np.gradient(p, r, axis=0)  # First derivative of pressure w.r.t. r (1D array)"
   ]
  },
  {
   "cell_type": "code",
   "execution_count": 5,
   "id": "43534768",
   "metadata": {},
   "outputs": [
    {
     "name": "stdout",
     "output_type": "stream",
     "text": [
      "(140, 110, 128)\n"
     ]
    }
   ],
   "source": [
    "# Terms in the equation:\n",
    "term1 = rho * v_r * dv_r_dr  # Convective term: rho * v_r * (dv_r / dr)\n",
    "term2 = -d_p_dr  # Pressure gradient term: - dp / dr\n",
    "term3 = rho * g  # Gravitational term: rho * g_r (Broadcast g_r to match rho's shape)\n",
    "\n",
    "# print(term1.shape, term2.shape, term3.shape, term4.shape, term5.shape, term6.shape, term7.shape)\n",
    "\n",
    "# Final equation (note the result will have the same shape as rho, v_r, p, etc.)\n",
    "equation_result = -term1 + term2 + term3\n",
    "\n",
    "# The result should be the value on the left-hand side of the equation:\n",
    "print(equation_result.shape)  # Verify the shape of the result (should be the same as the input arrays)\n"
   ]
  },
  {
   "cell_type": "code",
   "execution_count": 6,
   "id": "acc25f27",
   "metadata": {},
   "outputs": [
    {
     "data": {
      "text/plain": [
       "array([[ 7.53674003e+00,  6.37691759e+00, -2.19212056e+00,\n",
       "         4.84216128e+00,  5.29794931e-01],\n",
       "       [-5.23200245e+00, -7.50013373e+00, -1.72584741e+00,\n",
       "         1.77132509e+01,  1.50299685e+00],\n",
       "       [-1.04813209e+01, -2.64896036e-01, -5.08709692e+00,\n",
       "         3.16253759e+00,  4.97409829e+00],\n",
       "       [ 3.63563914e-01,  1.04578656e+01,  1.00565045e+01,\n",
       "        -3.80476092e+00, -9.45650908e-01],\n",
       "       [ 2.51756465e+00,  2.27786342e-03,  5.86795356e+00,\n",
       "         7.75082970e-01,  9.35482619e+00]])"
      ]
     },
     "execution_count": 6,
     "metadata": {},
     "output_type": "execute_result"
    }
   ],
   "source": [
    "equation_result[0, :5, :5]"
   ]
  },
  {
   "cell_type": "code",
   "execution_count": 7,
   "id": "3967f743",
   "metadata": {},
   "outputs": [],
   "source": [
    "rho_tensor = torch.tensor(rho)\n",
    "v_r_tensor = torch.tensor(v_r)\n",
    "p_tensor = torch.tensor(p)\n",
    "r_tensor = torch.tensor(r)"
   ]
  },
  {
   "cell_type": "code",
   "execution_count": 8,
   "id": "ad7d452f",
   "metadata": {},
   "outputs": [],
   "source": [
    "dr = float(r_tensor[1]-r_tensor[0])"
   ]
  },
  {
   "cell_type": "code",
   "execution_count": 9,
   "id": "84ef4140",
   "metadata": {},
   "outputs": [],
   "source": [
    "# Compute first derivatives using np.gradient for the radial direction (axis 0 is the radial direction)\n",
    "d_rho_dr = torch.gradient(rho_tensor, axis=0)[0] / dr  # First derivative of density w.r.t. r (along axis 0)\n",
    "dv_r_dr = torch.gradient(v_r_tensor, axis=0)[0] / dr    # First derivative of v_r (radial velocity) w.r.t. r (along axis 0)\n",
    "d_p_dr = torch.gradient(p_tensor, axis=0)[0]  / dr   # First derivative of pressure w.r.t. r (1D array)"
   ]
  },
  {
   "cell_type": "code",
   "execution_count": 10,
   "id": "ac85e2a1",
   "metadata": {},
   "outputs": [
    {
     "name": "stdout",
     "output_type": "stream",
     "text": [
      "torch.Size([140, 110, 128])\n"
     ]
    }
   ],
   "source": [
    "# Terms in the equation:\n",
    "term1 = rho_tensor * v_r_tensor * dv_r_dr  # Convective term: rho * v_r * (dv_r / dr)\n",
    "term2 = -d_p_dr  # Pressure gradient term: - dp / dr\n",
    "term3 = rho * g  # Gravitational term: rho * g_r (Broadcast g_r to match rho's shape)\n",
    "\n",
    "# print(term1.shape, term2.shape, term3.shape, term4.shape, term5.shape, term6.shape, term7.shape)\n",
    "\n",
    "# Final equation (note the result will have the same shape as rho, v_r, p, etc.)\n",
    "equation_result = -term1 + term2 + term3\n",
    "\n",
    "# The result should be the value on the left-hand side of the equation:\n",
    "print(equation_result.shape)  # Verify the shape of the result (should be the same as the input arrays)\n"
   ]
  },
  {
   "cell_type": "code",
   "execution_count": 11,
   "id": "55a764b7",
   "metadata": {},
   "outputs": [
    {
     "data": {
      "text/plain": [
       "tensor([[ 7.5367e+00,  6.3769e+00, -2.1921e+00,  4.8422e+00,  5.2979e-01],\n",
       "        [-5.2320e+00, -7.5001e+00, -1.7258e+00,  1.7713e+01,  1.5030e+00],\n",
       "        [-1.0481e+01, -2.6490e-01, -5.0871e+00,  3.1625e+00,  4.9741e+00],\n",
       "        [ 3.6356e-01,  1.0458e+01,  1.0057e+01, -3.8048e+00, -9.4565e-01],\n",
       "        [ 2.5176e+00,  2.2779e-03,  5.8680e+00,  7.7508e-01,  9.3548e+00]],\n",
       "       dtype=torch.float64)"
      ]
     },
     "execution_count": 11,
     "metadata": {},
     "output_type": "execute_result"
    }
   ],
   "source": [
    "equation_result[0, :5, :5]"
   ]
  }
 ],
 "metadata": {
  "kernelspec": {
   "display_name": ".venv",
   "language": "python",
   "name": "python3"
  },
  "language_info": {
   "codemirror_mode": {
    "name": "ipython",
    "version": 3
   },
   "file_extension": ".py",
   "mimetype": "text/x-python",
   "name": "python",
   "nbconvert_exporter": "python",
   "pygments_lexer": "ipython3",
   "version": "3.9.6"
  }
 },
 "nbformat": 4,
 "nbformat_minor": 5
}
