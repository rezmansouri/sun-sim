{
 "cells": [
  {
   "cell_type": "code",
   "execution_count": 1,
   "id": "65bea35b",
   "metadata": {},
   "outputs": [],
   "source": [
    "import os\n",
    "import torch\n",
    "import json\n",
    "import torch, math\n",
    "from io import BytesIO\n",
    "import numpy as np\n",
    "import torch.nn as nn\n",
    "import imageio.v2 as imageio\n",
    "from tqdm import tqdm, trange\n",
    "import matplotlib.pyplot as plt\n",
    "from psipy.model import MASOutput\n",
    "from pyhdf.SD import SD, SDC\n",
    "from mpl_toolkits.axes_grid1 import make_axes_locatable\n",
    "from scipy.interpolate import RegularGridInterpolator"
   ]
  },
  {
   "cell_type": "markdown",
   "id": "b7b9fc3f",
   "metadata": {},
   "source": [
    "## Reading manually"
   ]
  },
  {
   "cell_type": "code",
   "execution_count": 2,
   "id": "f26689dc",
   "metadata": {},
   "outputs": [],
   "source": [
    "def read_hdf(hdf_path, dataset_names):\n",
    "    f = SD(hdf_path, SDC.READ)\n",
    "    datasets = []\n",
    "    for dataset_name in dataset_names:\n",
    "        datasets.append(f.select(dataset_name).get())\n",
    "    return datasets"
   ]
  },
  {
   "cell_type": "code",
   "execution_count": 3,
   "id": "237c49e0",
   "metadata": {},
   "outputs": [
    {
     "name": "stdout",
     "output_type": "stream",
     "text": [
      "\n",
      "vr.shape:  (128, 111, 140) \n",
      "rho.shape:  (128, 111, 141) \n",
      "p.shape:  (128, 111, 141) \n",
      "jr.shape:  (128, 111, 140) \n",
      "br.shape:  (128, 110, 141)\n"
     ]
    }
   ],
   "source": [
    "sim_path = \"/Users/reza/Career/DMLab/SURROGATE/sun-sim/src/sfno/mhd/vr_rho_pinn/cr1833-all-components/kpo_mas_mas_std_0101\"\n",
    "cr_num = '1833'\n",
    "\n",
    "vr, vr_phi, vr_theta, vr_r = read_hdf(\n",
    "    f\"{sim_path}/vr002.hdf\", [\"Data-Set-2\", \"fakeDim0\", \"fakeDim1\", \"fakeDim2\"]\n",
    ")\n",
    "rho, rho_phi, rho_theta, rho_r = read_hdf(\n",
    "    f\"{sim_path}/rho002.hdf\", [\"Data-Set-2\", \"fakeDim0\", \"fakeDim1\", \"fakeDim2\"]\n",
    ")\n",
    "p, p_phi, p_theta, p_r = read_hdf(\n",
    "    f\"{sim_path}/p002.hdf\", [\"Data-Set-2\", \"fakeDim0\", \"fakeDim1\", \"fakeDim2\"]\n",
    ")\n",
    "jr, jr_phi, jr_theta, jr_r = read_hdf(\n",
    "    f\"{sim_path}/jr002.hdf\", [\"Data-Set-2\", \"fakeDim0\", \"fakeDim1\", \"fakeDim2\"]\n",
    ")\n",
    "br, br_phi, br_theta, br_r = read_hdf(\n",
    "    f\"{sim_path}/br002.hdf\", [\"Data-Set-2\", \"fakeDim0\", \"fakeDim1\", \"fakeDim2\"]\n",
    ")\n",
    "\n",
    "\n",
    "print(\n",
    "    \"\\nvr.shape: \",\n",
    "    vr.shape,\n",
    "    \"\\nrho.shape: \",\n",
    "    rho.shape,\n",
    "    \"\\np.shape: \",\n",
    "    p.shape,\n",
    "    \"\\njr.shape: \",\n",
    "    jr.shape,\n",
    "    \"\\nbr.shape: \",\n",
    "    br.shape,\n",
    ")"
   ]
  },
  {
   "cell_type": "code",
   "execution_count": 4,
   "id": "6f90c5a3",
   "metadata": {},
   "outputs": [
    {
     "name": "stdout",
     "output_type": "stream",
     "text": [
      "(141,) (111,)\n"
     ]
    }
   ],
   "source": [
    "new_r = rho_r # also = jr_r\n",
    "new_theta = vr_theta\n",
    "\n",
    "print(new_r.shape, new_theta.shape)"
   ]
  },
  {
   "cell_type": "code",
   "execution_count": 5,
   "id": "6c82dfc2",
   "metadata": {},
   "outputs": [],
   "source": [
    "def interpolate_cube(data, x_old, y_old, z_old, x_new, y_new, z_new):\n",
    "    interp_func = RegularGridInterpolator(\n",
    "        (x_old, y_old, z_old),\n",
    "        data,\n",
    "        method=\"linear\",\n",
    "        bounds_error=False,\n",
    "        fill_value=None,\n",
    "    )\n",
    "    xg, yg, zg = np.meshgrid(x_new, y_new, z_new, indexing=\"ij\")\n",
    "    points_new = np.stack([xg.ravel(), yg.ravel(), zg.ravel()], axis=-1)\n",
    "    data_new_flat = interp_func(points_new)\n",
    "    data_new = data_new_flat.reshape((len(x_new), len(y_new), len(z_new)))\n",
    "    return data_new"
   ]
  },
  {
   "cell_type": "code",
   "execution_count": 6,
   "id": "996ebf05",
   "metadata": {},
   "outputs": [],
   "source": [
    "vr = interpolate_cube(vr, x_old=vr_phi, y_old=vr_theta, z_old=vr_r, x_new=vr_phi, y_new=vr_theta, z_new=new_r)\n",
    "jr = interpolate_cube(jr, x_old=jr_phi, y_old=jr_theta, z_old=jr_r, x_new=jr_phi, y_new=jr_theta, z_new=new_r)\n",
    "br = interpolate_cube(br, x_old=br_phi, y_old=br_theta, z_old=br_r, x_new=br_phi, y_new=new_theta, z_new=br_r)"
   ]
  },
  {
   "cell_type": "code",
   "execution_count": 7,
   "id": "915451ff",
   "metadata": {},
   "outputs": [
    {
     "name": "stdout",
     "output_type": "stream",
     "text": [
      "\n",
      "vr.shape:  (141, 111, 128) \n",
      "rho.shape:  (141, 111, 128) \n",
      "p.shape:  (141, 111, 128) \n",
      "jr.shape:  (141, 111, 128) \n",
      "br.shape:  (141, 111, 128)\n"
     ]
    }
   ],
   "source": [
    "vr = np.transpose(vr, (2, 1, 0))\n",
    "rho = np.transpose(rho, (2, 1, 0))\n",
    "p = np.transpose(p, (2, 1, 0))\n",
    "br = np.transpose(br, (2, 1, 0))\n",
    "jr = np.transpose(jr, (2, 1, 0))\n",
    "\n",
    "print(\n",
    "    \"\\nvr.shape: \",\n",
    "    vr.shape,\n",
    "    \"\\nrho.shape: \",\n",
    "    rho.shape,\n",
    "    \"\\np.shape: \",\n",
    "    p.shape,\n",
    "    \"\\njr.shape: \",\n",
    "    jr.shape,\n",
    "    \"\\nbr.shape: \",\n",
    "    br.shape,\n",
    ")"
   ]
  },
  {
   "cell_type": "markdown",
   "id": "3d01ec77",
   "metadata": {},
   "source": [
    "## Conversion to cgs"
   ]
  },
  {
   "cell_type": "code",
   "execution_count": 8,
   "id": "d36d6405",
   "metadata": {},
   "outputs": [],
   "source": [
    "# r = new_r\n",
    "# if 'unit' in locals():\n",
    "#     raise NameError(\"RESTART NOTEBOOK\")\n",
    "# unit = 'cgs'\n",
    "\n",
    "# # Equation 6\n",
    "# r = r * 6.96 * 1e10         # cm\n",
    "# vr = vr * 481.3711 * 1e5    # cm / s\n",
    "# rho = rho * 1.6726 * 1e-16  # g / cm^3\n",
    "# p = p * 0.3875717           # dyn / cm^2\n",
    "# jr = jr * 0.07558           # statamp / cm^2\n",
    "# br = br * 2.2068908         # Gauss\n",
    "# G = 6.67430 * 1e-8          # cm^3 / (g * s^2)\n",
    "# M_sun = 1.9885 * 1e33       # g\n",
    "# omega_rot = 2.84 * 1e-6     # rad / s\n",
    "# c = 2.99792458e10           # cm / s\n",
    "# viscosity = 5.0 * 1e-3 * 3.350342628857710e+18     # cm^2 /s Pete: Viscosity (nu) is in code units when expressed as 0.005). Since the units are l^2/t, in cgs, that’s cm^2/s. From the table, that’s (6.96E10)^2/1445.87, or 3.350342628857710e+18 cm^2/s in the cgs system. So, you need to multiply 0.005 by this number to get the value in cgs.\n",
    "\n",
    "# # Equation 1\n",
    "# eq_1_multiplier = 4 * np.pi / c\n",
    "\n",
    "# # Equation 7\n",
    "# gamma = 1.5"
   ]
  },
  {
   "cell_type": "markdown",
   "id": "015ae13a",
   "metadata": {},
   "source": [
    "## Conversion to MKS"
   ]
  },
  {
   "cell_type": "code",
   "execution_count": 9,
   "id": "a52efd26",
   "metadata": {},
   "outputs": [],
   "source": [
    "r = new_r\n",
    "if 'unit' in locals():\n",
    "    raise NameError(\"RESTART NOTEBOOK\")\n",
    "unit = 'mks'\n",
    "\n",
    "# Equation 6\n",
    "r = r * 6.96 * 1e8           # m\n",
    "vr = vr * 481.3711 * 1e3     # m / s\n",
    "rho = rho * 1.6726 * 1e-13   # kg / m^3\n",
    "p = p * 0.03875717           # Pascals (N / m^2)\n",
    "jr = jr * 2.52 * 1e-7        # * 2.267 * 1e4 (MAS Guide)       # A / m^2\n",
    "br = br * 2.2068908 * 1e-4   # Tesla\n",
    "G = 6.67430 * 1e-11          # m^3 / (kg * s^2)\n",
    "M_sun = 1.9885 * 1e30        # kg\n",
    "omega_rot = 2.84 * 1e-6      # rad / s\n",
    "c = 2.99792458 * 1e8         # m / s\n",
    "viscosity = 5.0 * 1e-7 * 3.350342628857710e+18      # m^2 / s\n",
    "\n",
    "# Equation 1\n",
    "eq_1_multiplier = 4 * np.pi * 1e-7\n",
    "\n",
    "# Equation 7\n",
    "gamma = 1.5"
   ]
  },
  {
   "cell_type": "code",
   "execution_count": 10,
   "id": "26356a1f",
   "metadata": {},
   "outputs": [],
   "source": [
    "# instance_path = '/Users/reza/Career/DMLab/SURROGATE/sun-sim/src/sfno/mhd/vr_rho_pinn/cr1833-all-components/kpo_mas_mas_std_0101'"
   ]
  },
  {
   "cell_type": "code",
   "execution_count": 11,
   "id": "a6cb46f3",
   "metadata": {},
   "outputs": [],
   "source": [
    "# model = MASOutput(instance_path)"
   ]
  },
  {
   "cell_type": "code",
   "execution_count": 12,
   "id": "461ecfd7",
   "metadata": {},
   "outputs": [],
   "source": [
    "# vr_model = model[\"vr\"]\n",
    "# rho_model = model[\"rho\"]\n",
    "# pressure_model = model[\"p\"]\n",
    "# jr_model = model[\"jr\"]\n",
    "# br_model = model[\"br\"]\n",
    "\n",
    "# p = np.array(rho_model.phi_coords)\n",
    "# # sin(theta) - (-pi/2, pi/2)\n",
    "# t = np.array(rho_model.theta_coords)\n",
    "# # 30 solar radii to approximately 1 AU\n",
    "# r = np.array(rho_model.r_coords) * 6.96 * 1e10\n",
    "# # velocity profile\n",
    "# old_r = np.array(vr_model.r_coords) * 6.96 * 1e10\n",
    "# old_t = np.array(br_model.theta_coords)\n",
    "\n",
    "\n",
    "# print('vr:', model.get_unit(\"vr\"), '\\nrho:', model.get_unit('rho'), '\\nP:', model.get_unit('p'), '\\njr:', model.get_unit('jr'), '\\nbr', model.get_unit('br'), '\\nr:', model.get_runit())\n",
    "\n",
    "\n",
    "# vr = np.array(vr_model.data.squeeze())\n",
    "# jr = np.array(jr_model.data.squeeze())\n",
    "# br = np.array(br_model.data.squeeze())\n",
    "# rho = np.array(rho_model.data.squeeze())\n",
    "# pressure = np.array(pressure_model.data.squeeze())\n",
    "\n",
    "# print(\n",
    "#     \"\\nvr.shape: \",\n",
    "#     vr.shape,\n",
    "#     \"\\njr.shape: \",\n",
    "#     jr.shape,\n",
    "#     \"\\nbr.shape: \",\n",
    "#     br.shape,\n",
    "#     \"\\nrho.shape: \",\n",
    "#     rho.shape,\n",
    "#     \"\\npressure.shape: \",\n",
    "#     pressure.shape,\n",
    "#     \"\\np.shape: \",\n",
    "#     p.shape,\n",
    "#     \"\\nt.shape: \",\n",
    "#     t.shape,\n",
    "#     \"\\nr.shape: \",\n",
    "#     r.shape,\n",
    "#     \"\\nold_r.shape: \",\n",
    "#     old_r.shape,\n",
    "#     \"\\nold_t.shape: \",\n",
    "#     old_t.shape,\n",
    "# )"
   ]
  },
  {
   "cell_type": "code",
   "execution_count": 13,
   "id": "1ab0cb58",
   "metadata": {},
   "outputs": [],
   "source": [
    "# for i, rx in enumerate(r):\n",
    "#     print(rx, rx/696_000, i)\n",
    "#     if i % 35 == 0:\n",
    "#         print('-'*10)"
   ]
  },
  {
   "cell_type": "code",
   "execution_count": 14,
   "id": "56b26968",
   "metadata": {},
   "outputs": [],
   "source": [
    "# p[-1] - p[0], p.shape"
   ]
  },
  {
   "cell_type": "code",
   "execution_count": 15,
   "id": "90f4815d",
   "metadata": {},
   "outputs": [],
   "source": [
    "# r[-1] - r[0], r.shape"
   ]
  },
  {
   "cell_type": "code",
   "execution_count": 16,
   "id": "b35bb8b5",
   "metadata": {},
   "outputs": [],
   "source": [
    "# t[-1] - t[0], t.shape"
   ]
  },
  {
   "cell_type": "code",
   "execution_count": 17,
   "id": "a3c5a73e",
   "metadata": {},
   "outputs": [],
   "source": [
    "# r[-3:]"
   ]
  },
  {
   "cell_type": "code",
   "execution_count": 18,
   "id": "629c07cb",
   "metadata": {},
   "outputs": [],
   "source": [
    "# old_r[-3:]"
   ]
  },
  {
   "cell_type": "code",
   "execution_count": 19,
   "id": "0f9741cc",
   "metadata": {},
   "outputs": [],
   "source": [
    "# plt.imshow(vr[:, :, 0].T, cmap='gnuplot')\n",
    "# plt.show()\n",
    "# plt.imshow(rho[:, :, 0].T, cmap='gnuplot')\n",
    "# plt.show()\n",
    "# plt.imshow(p[:, :, 0].T, cmap='gnuplot')\n",
    "# plt.show()\n",
    "# plt.imshow(br[:, :, 0].T, cmap='gnuplot')\n",
    "# plt.show()\n",
    "# plt.imshow(jr[:, :, 0].T, cmap='gnuplot')\n",
    "# plt.show()"
   ]
  },
  {
   "cell_type": "code",
   "execution_count": 20,
   "id": "31728e56",
   "metadata": {},
   "outputs": [],
   "source": [
    "# vr = np.transpose(vr, (2, 1, 0))\n",
    "# rho = np.transpose(rho, (2, 1, 0))\n",
    "# pressure = np.transpose(pressure, (2, 1, 0))\n",
    "# br = np.transpose(br, (2, 1, 0))\n",
    "# jr = np.transpose(jr, (2, 1, 0))\n",
    "\n",
    "# print(vr.shape, rho.shape, pressure.shape, jr.shape, br.shape)"
   ]
  },
  {
   "cell_type": "code",
   "execution_count": 21,
   "id": "7395fdc7",
   "metadata": {},
   "outputs": [
    {
     "data": {
      "image/png": "[encoded data removed]",
      "text/plain": [
       "<Figure size 640x480 with 1 Axes>"
      ]
     },
     "metadata": {},
     "output_type": "display_data"
    },
    {
     "data": {
      "image/png": "[encoded data removed]",
      "text/plain": [
       "<Figure size 640x480 with 1 Axes>"
      ]
     },
     "metadata": {},
     "output_type": "display_data"
    },
    {
     "data": {
      "image/png": "[encoded data removed]",
      "text/plain": [
       "<Figure size 640x480 with 1 Axes>"
      ]
     },
     "metadata": {},
     "output_type": "display_data"
    },
    {
     "data": {
      "image/png": "[encoded data removed]",
      "text/plain": [
       "<Figure size 640x480 with 1 Axes>"
      ]
     },
     "metadata": {},
     "output_type": "display_data"
    },
    {
     "data": {
      "image/png": "[encoded data removed]",
      "text/plain": [
       "<Figure size 640x480 with 1 Axes>"
      ]
     },
     "metadata": {},
     "output_type": "display_data"
    }
   ],
   "source": [
    "plt.imshow(vr[0], cmap='gnuplot')\n",
    "plt.show()\n",
    "plt.imshow(rho[0], cmap='gnuplot')\n",
    "plt.show()\n",
    "plt.imshow(p[0], cmap='gnuplot')\n",
    "plt.show()\n",
    "plt.imshow(br[0], cmap='gnuplot')\n",
    "plt.show()\n",
    "plt.imshow(jr[0], cmap='gnuplot')\n",
    "plt.show()"
   ]
  },
  {
   "cell_type": "code",
   "execution_count": 22,
   "id": "3c960ea9",
   "metadata": {},
   "outputs": [],
   "source": [
    "def fft_gradient(f: torch.Tensor, dr: float, dim: int = 0) -> torch.Tensor:\n",
    "\n",
    "    Nr = f.shape[dim]\n",
    "\n",
    "    # --- FFT along the radial axis ------------------------------------------\n",
    "    v_hat = torch.fft.fft(f, dim=dim)  # complex spectrum\n",
    "\n",
    "    # --- build wavenumber array k -------------------------------------------\n",
    "    k_1d = 2 * math.pi * torch.fft.fftfreq(Nr, d=dr, device=f.device)  # (Nr,)\n",
    "    # reshape to broadcast into v_hat (insert singleton dims)\n",
    "    shape = [1] * f.ndim\n",
    "    shape[dim] = Nr\n",
    "    k = k_1d.reshape(*shape)\n",
    "\n",
    "    # --- multiply by i·k in spectral space -----------------------------------\n",
    "    dv_hat = 1j * k * v_hat\n",
    "\n",
    "    # --- back-transform -------------------------------------------------------\n",
    "    dv_dr = torch.fft.ifft(dv_hat, dim=dim).real  # discard imag noise\n",
    "\n",
    "    return dv_dr"
   ]
  },
  {
   "cell_type": "code",
   "execution_count": 23,
   "id": "2200df20",
   "metadata": {},
   "outputs": [],
   "source": [
    "def test_fft_gradient_sine():\n",
    "    Nr = 128\n",
    "    dr = 0.1\n",
    "    L = Nr * dr\n",
    "    m = 3  # integer number of cycles for periodicity\n",
    "    k_wave = 2 * math.pi * m / L\n",
    "    x = torch.arange(Nr) * dr\n",
    "\n",
    "    f = torch.sin(k_wave * x)\n",
    "    expected = k_wave * torch.cos(k_wave * x)\n",
    "\n",
    "    result = fft_gradient(f, dr)\n",
    "\n",
    "    # Slightly relaxed tolerances for floating-point noise\n",
    "    torch.testing.assert_close(result, expected, rtol=1e-5, atol=3e-5)\n",
    "\n",
    "def test_fft_gradient_multidim():\n",
    "    Nr, Ny = 64, 8\n",
    "    dr = 0.05\n",
    "    L = Nr * dr\n",
    "    m = 5  # integer number of sine cycles in radial direction\n",
    "    k_wave = 2 * math.pi * m / L\n",
    "\n",
    "    r = torch.arange(Nr) * dr\n",
    "    y = torch.arange(Ny)\n",
    "\n",
    "    # 2D function varying only along radial axis (dim=0)\n",
    "    f = torch.sin(k_wave * r)[:, None] * (1 + 0*y[None, :])\n",
    "    expected = (k_wave * torch.cos(k_wave * r))[:, None] * (1 + 0*y[None, :])\n",
    "\n",
    "    # Compute FFT gradient along dim=0\n",
    "    result = fft_gradient(f, dr, dim=0)\n",
    "\n",
    "    torch.testing.assert_close(result, expected, rtol=1e-5, atol=3e-5)\n",
    "\n",
    "test_fft_gradient_sine()\n",
    "test_fft_gradient_multidim()"
   ]
  },
  {
   "cell_type": "code",
   "execution_count": 24,
   "id": "b90151d3",
   "metadata": {},
   "outputs": [],
   "source": [
    "def finite_diff_gradient(f, coords, axis):\n",
    "    f = f.movedim(axis, 0)  # bring the axis to front, shape: (n, ...)\n",
    "    df = torch.empty_like(f)\n",
    "\n",
    "    for idx in torch.cartesian_prod(*[torch.arange(s) for s in f.shape[1:]]):\n",
    "        idx_tuple = tuple(idx.tolist())\n",
    "        line = f[(slice(None),) + idx_tuple]       # 1D slice along coords\n",
    "        d = torch.empty_like(line)\n",
    "\n",
    "        # central difference\n",
    "        d[1:-1] = (line[2:] - line[:-2]) / (coords[2:] - coords[:-2])\n",
    "        # forward/backward for boundaries\n",
    "        d[0] = (line[1] - line[0]) / (coords[1] - coords[0])\n",
    "        d[-1] = (line[-1] - line[-2]) / (coords[-1] - coords[-2])\n",
    "\n",
    "        df[(slice(None),) + idx_tuple] = d\n",
    "\n",
    "    return df.movedim(0, axis)\n"
   ]
  },
  {
   "cell_type": "code",
   "execution_count": 25,
   "id": "f83c8c29",
   "metadata": {},
   "outputs": [
    {
     "name": "stdout",
     "output_type": "stream",
     "text": [
      "expect a low error (~1e-3 to 1e-5). Mean abs error: 1.160e-04\n"
     ]
    }
   ],
   "source": [
    "x = torch.linspace(0, 2, 100)**1.5     # non-uniform grid\n",
    "y = torch.linspace(0, 1, 50)\n",
    "z = torch.linspace(0, 1, 40)\n",
    "\n",
    "X, Y, Z = torch.meshgrid(x, y, z, indexing='ij')\n",
    "f = torch.sin(X) * torch.exp(Y) * Z**2\n",
    "\n",
    "# Compute df/dx\n",
    "df_dx = finite_diff_gradient(f, x, axis=0)\n",
    "\n",
    "# Compare to analytical df/dx\n",
    "df_dx_true = torch.cos(X) * torch.exp(Y) * Z**2\n",
    "\n",
    "# Error\n",
    "err = torch.abs(df_dx - df_dx_true).mean()\n",
    "print(f\"expect a low error (~1e-3 to 1e-5). Mean abs error: {err.item():.3e}\")"
   ]
  },
  {
   "cell_type": "code",
   "execution_count": 26,
   "id": "384bb13f",
   "metadata": {},
   "outputs": [],
   "source": [
    "# def loss_time_derivative_equals_zero(vr_pred, rho_pred, pressure, dr, g):\n",
    "        \n",
    "#         vr_pred = vr_pred.double()\n",
    "#         rho_pred = rho_pred.double()\n",
    "#         pressure = pressure.double()\n",
    "\n",
    "#         radial_dim = 1 if vr_pred.ndim == 4 else 0\n",
    "        \n",
    "#         # dv_phi_dphi = fft_gradient(vr_pred, 2 * torch.pi / 360, radial_dim=-1)\n",
    "\n",
    "#         dv_r_dr = fft_gradient(vr_pred, dr, dim=radial_dim)\n",
    "#         # First derivative of v_r (radial velocity) w.r.t. r (along axis 0)\n",
    "#         d_p_dr = fft_gradient(pressure, dr, dim=radial_dim)\n",
    "#         # First derivative of pressure w.r.t. r (1D array)\n",
    "\n",
    "#         # term0 = rho_pred * dv_phi_dphi #/ np.broadcast_to(self.r[:, np.newaxis, np.newaxis], (140, 111, 128))\n",
    "#         term1 = rho_pred * vr_pred * dv_r_dr  # Convective term: rho * v_r * (dv_r / dr)\n",
    "#         term2 = -d_p_dr  # Pressure gradient term: - dp / dr\n",
    "#         print(rho_pred.shape, g.shape)\n",
    "#         term3 = rho_pred * g  # Gravitational term: rho * g\n",
    "\n",
    "#         value = term2 + term3 - term1 #- term0\n",
    "        \n",
    "#         print(\"Term magnitudes:\")\n",
    "#         # print(\"Periodic term (rho * dvphi/dphi / r):\", term0.abs().mean().item())\n",
    "#         print(\"Convective term (rho * v * dv/dr):\", term1.abs().mean().item())\n",
    "#         print(\"Pressure gradient term (-dp/dr):\", term2.abs().mean().item())\n",
    "#         print(\"Gravitational term (rho * g):\", term3.abs().mean().item())\n",
    "#         print(\"Residual value:\", value.abs().mean().item())\n",
    "\n",
    "#         return value"
   ]
  },
  {
   "cell_type": "code",
   "execution_count": 27,
   "id": "485cc7c2",
   "metadata": {},
   "outputs": [],
   "source": [
    "# def phys_loss_ignorant(vr_pred, rho_pred, pressure, radii, phis, g, omega):\n",
    "\n",
    "#     vr_pred = vr_pred.double()\n",
    "#     rho_pred = rho_pred.double()\n",
    "#     pressure = pressure.double()\n",
    "\n",
    "#     dv_r_dphi = fft_gradient(vr_pred, phis[1] - phis[0], 2)\n",
    "#     dv_r_dr = finite_diff_gradient(vr_pred, radii, 0)\n",
    "#     d_p_dr = finite_diff_gradient(pressure, radii, 0)\n",
    "\n",
    "#     term0 = -omega * dv_r_dphi\n",
    "#     term1 = vr_pred * dv_r_dr  # Convective term: rho * v_r * (dv_r / dr)\n",
    "#     term2 = -d_p_dr / rho_pred  # Pressure gradient term: - dp / dr\n",
    "#     term3 = -g  # Gravitational term: rho * g\n",
    "\n",
    "#     value = term2 + term3 - term1 - term0\n",
    "#     # value = -term1 - term0\n",
    "#     # value = term2 - term1 - term0\n",
    "\n",
    "#     print(\"Term magnitude means:\")\n",
    "#     print(\"Periodic term (omega * dvr/dphi):\", term0.abs().mean().item())\n",
    "#     print(\"Convective term (v * dv/dr):\", term1.abs().mean().item())\n",
    "#     print(\"Pressure gradient term (-1/rho*dp/dr):\", term2.abs().mean().item())\n",
    "#     print(\"Gravitational term (-GMs/r^2):\", term3.abs().mean().item())\n",
    "#     print(\"Residual value:\", value.abs().mean().item())\n",
    "\n",
    "#     return value.abs()\n",
    "\n",
    "\n",
    "def eq_1(br_pred, jr_pred, radii, thetas, phis, multiplier):\n",
    "    \"\"\"\n",
    "    Compute mean absolute residuals of Ampère's law components:\n",
    "        ∇ × B - multiplier * J = 0\n",
    "    assuming Bθ = Bφ = 0 and only Br is nonzero.\n",
    "\n",
    "    Returns:\n",
    "        res_r_scalar, res_theta_scalar, res_phi_scalar: three scalar residuals\n",
    "    \"\"\"\n",
    "\n",
    "    br_pred = br_pred.double()\n",
    "    jr_pred = jr_pred.double()\n",
    "\n",
    "    # --- Derivatives ---\n",
    "    dBr_dtheta = finite_diff_gradient(br_pred, thetas, axis=1)\n",
    "    dBr_dphi = fft_gradient(br_pred, phis[1] - phis[0], dim=2)\n",
    "\n",
    "    # --- Avoid poles ---\n",
    "    sin_theta = torch.sin(thetas)\n",
    "    sin_theta = torch.where(sin_theta == 0, torch.tensor(1e-10, dtype=torch.double), sin_theta)\n",
    "\n",
    "    r = radii[:, None, None]\n",
    "    sinθ = sin_theta[None, :, None]\n",
    "\n",
    "    # --- Compute curl components ---\n",
    "    curl_r = torch.zeros_like(br_pred)\n",
    "    curl_theta = (1.0 / (r * sinθ)) * dBr_dphi\n",
    "    curl_phi = -(1.0 / r) * dBr_dtheta\n",
    "\n",
    "    # --- RHS ---\n",
    "    rhs_r = multiplier * jr_pred\n",
    "    rhs_theta = torch.zeros_like(jr_pred)\n",
    "    rhs_phi = torch.zeros_like(jr_pred)\n",
    "\n",
    "    # --- Residual components ---\n",
    "    res_r = curl_r - rhs_r\n",
    "    res_theta = curl_theta - rhs_theta\n",
    "    res_phi = curl_phi - rhs_phi\n",
    "    \n",
    "    print(f\"Mean |lhs_r|: {curl_r.abs().mean().item():.3e}\")\n",
    "    print(f\"Mean |lhs_theta|: {curl_theta.abs().mean().item():.3e}\")\n",
    "    print(f\"Mean |lhs_phi|: {curl_phi.abs().mean().item():.3e}\")\n",
    "    \n",
    "    print(f\"Mean |rhs_r|: {rhs_r.abs().mean().item():.3e}\")\n",
    "    print(f\"Mean |rhs_theta|: {rhs_theta.abs().mean().item():.3e}\")\n",
    "    print(f\"Mean |rhs_phi|: {rhs_phi.abs().mean().item():.3e}\")\n",
    "    \n",
    "    print(f\"Mean |residual_r|: {res_r.abs().mean().item():.3e}\")\n",
    "    print(f\"Mean |residual_theta|: {res_theta.abs().mean().item():.3e}\")\n",
    "    print(f\"Mean |residual_phi|: {res_phi.abs().mean().item():.3e}\")\n",
    "\n",
    "    residual_magnitude = torch.sqrt(res_r**2 + res_theta**2 + res_phi**2)\n",
    "    \n",
    "    print(f\"Mean |residual|: {residual_magnitude.abs().mean().item():.3e}\")\n",
    "\n",
    "    return residual_magnitude\n",
    "\n",
    "\n",
    "def eq_6(\n",
    "    vr_pred, rho_pred, pressure, jr_pred, br_pred, radii, phis, g, omega, c, viscosity\n",
    "):\n",
    "\n",
    "    vr_pred = vr_pred.double()\n",
    "    rho_pred = rho_pred.double()\n",
    "    pressure = pressure.double()\n",
    "    jr_pred = jr_pred.double()\n",
    "    br_pred = br_pred.double()\n",
    "\n",
    "    dv_r_dphi = fft_gradient(vr_pred, phis[1] - phis[0], 2)\n",
    "    dv_r_dr = finite_diff_gradient(vr_pred, radii, 0)\n",
    "    d_p_dr = finite_diff_gradient(pressure, radii, 0)\n",
    "    viscos_term = viscosity * rho_pred * dv_r_dr\n",
    "    d_viscos = finite_diff_gradient(viscos_term, radii, 0)\n",
    "\n",
    "    term0 = rho_pred * (-omega * dv_r_dphi)\n",
    "    term1 = rho_pred * vr_pred * dv_r_dr  # Convective term: rho * v_r * (dv_r / dr)\n",
    "    term2 = jr_pred / c * br_pred\n",
    "    term3 = -d_p_dr\n",
    "    term4 = rho_pred * g  # Gravitational term: rho * g. # torch.tensor(0, dtype=torch.float32)\n",
    "    term5 = d_viscos\n",
    "\n",
    "    value = term2 + term3 + term4 + term5 - term1 - term0\n",
    "    # value = -term1 - term0\n",
    "    # value = term2 - term1 - term0\n",
    "\n",
    "    print(\"Term magnitude means:\")\n",
    "    print(\"rho * -omega * dv_r_dphi:\", term0.abs().mean().item())\n",
    "    print(\"rho * vr * dv_r_dr:\", term1.abs().mean().item())\n",
    "    print(\"jr / c * br:\", term2.abs().mean().item())\n",
    "    print(\"-d_p_dr:\", term3.abs().mean().item())\n",
    "    print(\"rho * g:\", term4.abs().mean().item())\n",
    "    print(\"viscosity term:\", term5.abs().mean().item())\n",
    "    print(\"Residual:\", value.abs().mean().item())\n",
    "\n",
    "    return value.abs(), (term0.abs(), term1.abs(), term2.abs(), term3.abs(), term4.abs(), term5.abs())"
   ]
  },
  {
   "cell_type": "code",
   "execution_count": 28,
   "id": "4431b910",
   "metadata": {},
   "outputs": [
    {
     "name": "stdout",
     "output_type": "stream",
     "text": [
      "(141,)\n",
      "(141, 111, 128)\n"
     ]
    }
   ],
   "source": [
    "gravity = G * M_sun / (r**2)\n",
    "print(gravity.shape)\n",
    "gravity = np.broadcast_to(gravity[:, np.newaxis, np.newaxis], (141, 111, 128))\n",
    "print(gravity.shape)"
   ]
  },
  {
   "cell_type": "code",
   "execution_count": 29,
   "id": "67365eba",
   "metadata": {},
   "outputs": [],
   "source": [
    "_vr = torch.tensor(vr)\n",
    "_rho = torch.tensor(rho)\n",
    "_pressure = torch.tensor(p)\n",
    "_jr = torch.tensor(jr)\n",
    "_br = torch.tensor(br)\n",
    "_gravity = torch.tensor(gravity)\n",
    "_r = torch.tensor(r)\n",
    "_phi = torch.tensor(vr_phi)\n",
    "_theta = torch.tensor(vr_theta)\n"
   ]
  },
  {
   "cell_type": "code",
   "execution_count": 30,
   "id": "08ff56ef",
   "metadata": {},
   "outputs": [
    {
     "name": "stdout",
     "output_type": "stream",
     "text": [
      "Mean |lhs_r|: 0.000e+00\n",
      "Mean |lhs_theta|: 2.155e-19\n",
      "Mean |lhs_phi|: 3.955e-19\n",
      "Mean |rhs_r|: 1.984e-19\n",
      "Mean |rhs_theta|: 0.000e+00\n",
      "Mean |rhs_phi|: 0.000e+00\n",
      "Mean |residual_r|: 1.984e-19\n",
      "Mean |residual_theta|: 2.155e-19\n",
      "Mean |residual_phi|: 3.955e-19\n",
      "Mean |residual|: 5.534e-19\n"
     ]
    }
   ],
   "source": [
    "# (loss, terms) = eq_6(\n",
    "#     _vr,\n",
    "#     _rho,\n",
    "#     _pressure,\n",
    "#     _jr,\n",
    "#     _br,\n",
    "#     _r,\n",
    "#     _phi,\n",
    "#     _gravity,\n",
    "#     omega=omega_rot,\n",
    "#     c=c,\n",
    "#     viscosity=viscosity,\n",
    "# )\n",
    "# eq = 'eq6'\n",
    "\n",
    "loss = eq_1(_br, _jr, _r, _theta, _phi, eq_1_multiplier)\n",
    "eq = 'eq1'"
   ]
  },
  {
   "cell_type": "code",
   "execution_count": 31,
   "id": "1b7d171e",
   "metadata": {},
   "outputs": [],
   "source": [
    "# frames = []\n",
    "\n",
    "# loss_min, loss_max = torch.min(loss), torch.max(loss)\n",
    "\n",
    "# for i in trange(vr.shape[0]): # (1, 238, 2) for rho\n",
    "#     vv = vr[i, :, :]\n",
    "#     rhorho = rho[i, :, :]\n",
    "#     jj = jr[i, :, :]\n",
    "#     bb = br[i, :, :]\n",
    "#     pp = p[i, :, :]\n",
    "\n",
    "\n",
    "#     error = loss[i, :, :].cpu().numpy()\n",
    "    \n",
    "#     fig, axes = plt.subplots(1, 6, figsize=(12, 4), constrained_layout=True)\n",
    "#     cmap = \"gnuplot\"\n",
    "\n",
    "#     # # Plot first subplot\n",
    "#     im1 = axes[0].imshow(vv, cmap=cmap) #, vmin=vr_min, vmax=vr_max)\n",
    "#     axes[0].set_title(f\"vr002 at {i+1}\")\n",
    "\n",
    "#     # Plot second subplot\n",
    "#     im2 = axes[1].imshow(rhorho, cmap=cmap) #, vmin=rho_min, vmax=rho_max)\n",
    "#     axes[1].set_title(f\"rho002 at {i+1}\")\n",
    "\n",
    "#     # Plot second subplot\n",
    "#     im3 = axes[2].imshow(jj, cmap=cmap) #, vmin=jr_min, vmax=jr_max)\n",
    "#     axes[2].set_title(f\"jr002 at {i+1}\")\n",
    "\n",
    "#     # Plot second subplot\n",
    "#     im4 = axes[3].imshow(bb, cmap=cmap) #, vmin=br_min, vmax=br_max)\n",
    "#     axes[3].set_title(f\"br002 at {i+1}\")\n",
    "\n",
    "#     # Plot second subplot\n",
    "#     im5 = axes[4].imshow(pp, cmap=cmap) #, vmin=pressure_min, vmax=pressure_max)\n",
    "#     axes[4].set_title(f\"p002 at {i+1}\")\n",
    "\n",
    "#     # Plot second subplot\n",
    "#     # im6 = axes[5].imshow(error, cmap=\"gray\", vmin=loss_min, vmax=loss_max)\n",
    "#     # scale = 'global'\n",
    "    \n",
    "#     im6 = axes[5].imshow(error, cmap=\"gray\")\n",
    "#     scale = 'local'\n",
    "    \n",
    "#     axes[5].set_title(f\"static equation 6\")\n",
    "    \n",
    "#     fig.suptitle(f'slice mean error: {error.mean()}')\n",
    "\n",
    "#     # Create a single colorbar\n",
    "#     cbar = fig.colorbar(im6, ax=axes, orientation=\"horizontal\", fraction=0.05, pad=0.02)\n",
    "    \n",
    "#     for ax in axes:\n",
    "#         ax.set_xticks([])\n",
    "#         ax.set_yticks([])\n",
    "#         ax.set_xlabel(\"\")\n",
    "#         ax.set_ylabel(\"\")\n",
    "\n",
    "#     # plt.tight_layout()\n",
    "#     buf = BytesIO()\n",
    "#     plt.savefig(buf, format=\"png\")\n",
    "#     frames.append(imageio.imread(buf))\n",
    "#     plt.close()\n",
    "    \n",
    "\n",
    "# output_filename = f\"{eq}-cr{cr_num}-{scale}-{unit}.gif\"\n",
    "# fps = 8  # Adjust frames per second as needed\n",
    "\n",
    "# # Create video directly from frames in memory\n",
    "# with imageio.get_writer(output_filename, fps=fps, loop=0) as writer:\n",
    "#     for frame in frames:\n",
    "#         writer.append_data(frame)"
   ]
  },
  {
   "cell_type": "code",
   "execution_count": 33,
   "id": "e16621f1",
   "metadata": {},
   "outputs": [
    {
     "name": "stderr",
     "output_type": "stream",
     "text": [
      "100%|██████████| 141/141 [00:21<00:00,  6.55it/s]\n"
     ]
    }
   ],
   "source": [
    "frames = []\n",
    "\n",
    "loss_min, loss_max = torch.min(loss), torch.max(loss)\n",
    "\n",
    "for i in trange(br.shape[0]): # (1, 238, 2) for rho\n",
    "    jj = jr[i, :, :]\n",
    "    bb = br[i, :, :]\n",
    "\n",
    "\n",
    "    error = loss[i, :, :].cpu().numpy()\n",
    "    \n",
    "    fig, axes = plt.subplots(1, 3, figsize=(6, 4), constrained_layout=True)\n",
    "    cmap = \"gnuplot\"\n",
    "\n",
    "    # Plot second subplot\n",
    "    im3 = axes[0].imshow(jj, cmap=cmap) #, vmin=jr_min, vmax=jr_max)\n",
    "    axes[0].set_title(f\"jr002 at {i+1}\")\n",
    "\n",
    "    # Plot second subplot\n",
    "    im4 = axes[1].imshow(bb, cmap=cmap) #, vmin=br_min, vmax=br_max)\n",
    "    axes[1].set_title(f\"br002 at {i+1}\")\n",
    "\n",
    "    # Plot second subplot\n",
    "    # im6 = axes[2].imshow(error, cmap=\"gray\", vmin=loss_min, vmax=loss_max)\n",
    "    # scale = 'global'\n",
    "    \n",
    "    im6 = axes[2].imshow(error, cmap=\"gray\")\n",
    "    scale = 'local'\n",
    "    \n",
    "    axes[2].set_title(f\"static equation 1\")\n",
    "    \n",
    "    fig.suptitle(f'slice mean error: {error.mean()}')\n",
    "\n",
    "    # Create a single colorbar\n",
    "    cbar = fig.colorbar(im6, ax=axes, orientation=\"horizontal\", fraction=0.05, pad=0.02)\n",
    "    \n",
    "    for ax in axes:\n",
    "        ax.set_xticks([])\n",
    "        ax.set_yticks([])\n",
    "        ax.set_xlabel(\"\")\n",
    "        ax.set_ylabel(\"\")\n",
    "\n",
    "    # plt.tight_layout()\n",
    "    buf = BytesIO()\n",
    "    plt.savefig(buf, format=\"png\")\n",
    "    frames.append(imageio.imread(buf))\n",
    "    plt.close()\n",
    "    \n",
    "\n",
    "output_filename = f\"{eq}-cr{cr_num}-{scale}-{unit}.gif\"\n",
    "fps = 8  # Adjust frames per second as needed\n",
    "\n",
    "# Create video directly from frames in memory\n",
    "with imageio.get_writer(output_filename, fps=fps, loop=0) as writer:\n",
    "    for frame in frames:\n",
    "        writer.append_data(frame)"
   ]
  },
  {
   "cell_type": "code",
   "execution_count": null,
   "id": "4a7993d6",
   "metadata": {},
   "outputs": [],
   "source": []
  }
 ],
 "metadata": {
  "kernelspec": {
   "display_name": ".venv",
   "language": "python",
   "name": "python3"
  },
  "language_info": {
   "codemirror_mode": {
    "name": "ipython",
    "version": 3
   },
   "file_extension": ".py",
   "mimetype": "text/x-python",
   "name": "python",
   "nbconvert_exporter": "python",
   "pygments_lexer": "ipython3",
   "version": "3.9.6"
  }
 },
 "nbformat": 4,
 "nbformat_minor": 5
}
