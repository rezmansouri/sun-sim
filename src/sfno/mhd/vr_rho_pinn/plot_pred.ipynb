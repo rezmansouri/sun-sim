{
 "cells": [
  {
   "cell_type": "code",
   "execution_count": 1,
   "metadata": {},
   "outputs": [
    {
     "name": "stderr",
     "output_type": "stream",
     "text": [
      "/Users/reza/Career/DMLab/SURROGATE/.venv/lib/python3.9/site-packages/urllib3/__init__.py:35: NotOpenSSLWarning: urllib3 v2 only supports OpenSSL 1.1.1+, currently the 'ssl' module is compiled with 'LibreSSL 2.8.3'. See: https://github.com/urllib3/urllib3/issues/3020\n",
      "  warnings.warn(\n"
     ]
    }
   ],
   "source": [
    "import os\n",
    "import torch\n",
    "import json\n",
    "from io import BytesIO\n",
    "import numpy as np\n",
    "import torch.nn as nn\n",
    "import imageio.v2 as imageio\n",
    "from tqdm import tqdm, trange\n",
    "from utils import SphericalNODataset\n",
    "from neuralop.models import SFNO\n",
    "import matplotlib.pyplot as plt"
   ]
  },
  {
   "cell_type": "code",
   "execution_count": 2,
   "metadata": {},
   "outputs": [],
   "source": [
    "device = torch.device('cpu')"
   ]
  },
  {
   "cell_type": "code",
   "execution_count": 8,
   "metadata": {},
   "outputs": [],
   "source": [
    "data_path = '/Users/reza/Career/DMLab/SURROGATE/Data/psi_web_sample/test'\n",
    "result_path = '/Users/reza/Career/DMLab/SURROGATE/results/laplace/sfno/exp_22'\n",
    "cfg_path = os.path.join(result_path, 'cfg.json')\n",
    "with open(cfg_path, 'r') as f:\n",
    "    cfg = json.load(f)"
   ]
  },
  {
   "cell_type": "code",
   "execution_count": 9,
   "metadata": {},
   "outputs": [
    {
     "data": {
      "text/plain": [
       "227"
      ]
     },
     "execution_count": 9,
     "metadata": {},
     "output_type": "execute_result"
    }
   ],
   "source": [
    "len(cfg['val_files'])"
   ]
  },
  {
   "cell_type": "code",
   "execution_count": 10,
   "metadata": {},
   "outputs": [],
   "source": [
    "instruments = [\n",
    "        \"kpo_mas_mas_std_0101\",\n",
    "        \"mdi_mas_mas_std_0101\",\n",
    "        \"hmi_mast_mas_std_0101\",\n",
    "        \"hmi_mast_mas_std_0201\",\n",
    "        \"hmi_masp_mas_std_0201\",\n",
    "        \"mdi_mas_mas_std_0201\",\n",
    "    ]\n",
    "subdir_paths = sorted(os.listdir(data_path))\n",
    "cr_paths = [os.path.join(data_path, p) for p in subdir_paths if p.startswith(\"cr\")]\n",
    "sim_paths = []\n",
    "for cr_path in cr_paths:\n",
    "    for instrument in instruments:\n",
    "        instrument_path = os.path.join(cr_path, instrument)\n",
    "        if os.path.exists(instrument_path):\n",
    "            sim_paths.append(instrument_path)"
   ]
  },
  {
   "cell_type": "code",
   "execution_count": 12,
   "metadata": {},
   "outputs": [
    {
     "name": "stderr",
     "output_type": "stream",
     "text": [
      "100%|██████████| 21/21 [00:00<00:00, 32.50it/s]\n"
     ]
    }
   ],
   "source": [
    "dataset = SphericalNODataset(\n",
    "    sim_paths,\n",
    "    v_min=cfg[\"v_min\"],\n",
    "    v_max=cfg[\"v_max\"],\n",
    "    rho_max=cfg[\"rho_max\"],\n",
    "    rho_min=cfg[\"rho_min\"]\n",
    ")"
   ]
  },
  {
   "cell_type": "code",
   "execution_count": 13,
   "metadata": {},
   "outputs": [
    {
     "data": {
      "text/plain": [
       "(0.4673037827014923,\n",
       " 0.4673037827014923,\n",
       " 7.212687780366878e-09,\n",
       " 1.2102652362955268e-05)"
      ]
     },
     "execution_count": 13,
     "metadata": {},
     "output_type": "execute_result"
    }
   ],
   "source": [
    "cfg['v_min'], cfg['v_min'], cfg['rho_min'], cfg['rho_max']"
   ]
  },
  {
   "cell_type": "code",
   "execution_count": 14,
   "metadata": {},
   "outputs": [
    {
     "data": {
      "text/plain": [
       "<All keys matched successfully>"
      ]
     },
     "execution_count": 14,
     "metadata": {},
     "output_type": "execute_result"
    }
   ],
   "source": [
    "model = SFNO(\n",
    "    n_modes=(cfg['n_modes'], cfg['n_modes']),\n",
    "    in_channels=2,\n",
    "    out_channels=278,\n",
    "    hidden_channels=cfg['hidden_channels'],\n",
    "    projection_channel_ratio=2,\n",
    "    factorization=\"dense\",\n",
    ")\n",
    "state = torch.load(os.path.join(result_path, 'ckpt', \"best_model_state_dict.pt\"), map_location=device, weights_only=False)\n",
    "model.load_state_dict(state)"
   ]
  },
  {
   "cell_type": "code",
   "execution_count": 15,
   "metadata": {},
   "outputs": [],
   "source": [
    "instance = dataset[0]"
   ]
  },
  {
   "cell_type": "code",
   "execution_count": 21,
   "metadata": {},
   "outputs": [],
   "source": [
    "I = 10\n",
    "instance = dataset[I]\n",
    "x, y = instance['x'], instance['y']\n",
    "\n",
    "# cube = torch.randn((1, 141, 64, 64), dtype=torch.float32)\n",
    "# cube[:, :, 20:40, :] = 1\n",
    "\n",
    "# x = cube[:, 0, :, :]\n",
    "# y = cube[0, 1:, :, :]\n",
    "\n",
    "model.eval()\n",
    "with torch.no_grad():\n",
    "    yhats = model(x.unsqueeze(0))"
   ]
  },
  {
   "cell_type": "code",
   "execution_count": 22,
   "metadata": {},
   "outputs": [
    {
     "data": {
      "text/plain": [
       "(torch.Size([278, 111, 128]), torch.Size([1, 278, 111, 128]))"
      ]
     },
     "execution_count": 22,
     "metadata": {},
     "output_type": "execute_result"
    }
   ],
   "source": [
    "y.shape, yhats.shape"
   ]
  },
  {
   "cell_type": "code",
   "execution_count": 23,
   "metadata": {},
   "outputs": [],
   "source": [
    "cube = y"
   ]
  },
  {
   "cell_type": "code",
   "execution_count": 26,
   "metadata": {},
   "outputs": [
    {
     "name": "stderr",
     "output_type": "stream",
     "text": [
      "100%|██████████| 139/139 [00:25<00:00,  5.42it/s]\n"
     ]
    }
   ],
   "source": [
    "frames = []\n",
    "# \n",
    "for i in trange(1, 278, 2): # (1, 238, 2) for rho\n",
    "    y = cube[i, :, :]\n",
    "    yhat = yhats[0, i, :, :]\n",
    "    # print(cube.shape)\n",
    "    # y = y.reshape((128, 110))\n",
    "    # # print(yhat.shape)\n",
    "    # yhat = yhat.reshape((128, 110))\n",
    "    # y = y.transpose(1, 0)\n",
    "    # yhat = yhat.transpose(1, 0)\n",
    "\n",
    "    error = np.abs(y - yhat)\n",
    "    \n",
    "    error = (error - error.min()) / (error.max() - error.min())\n",
    "    \n",
    "    vmin = min(y.min(), yhat.min())\n",
    "    vmax = max(y.max(), yhat.max())\n",
    "    fig, axes = plt.subplots(1, 3, figsize=(12, 6))\n",
    "    cmap = \"viridis\"\n",
    "\n",
    "    # # Plot first subplot\n",
    "    im1 = axes[0].imshow(y, cmap=cmap, vmin=vmin, vmax=vmax)\n",
    "    axes[0].set_title(f\"gt: br002 at {i+1}\")\n",
    "\n",
    "    # Plot second subplot\n",
    "    im3 = axes[1].imshow(yhat, cmap=cmap, vmin=vmin, vmax=vmax)\n",
    "    axes[1].set_title(f\"pred at {i+1} \")\n",
    "\n",
    "    cbar = fig.colorbar(im1, ax=axes, orientation=\"horizontal\", fraction=0.1, pad=0.02)\n",
    "\n",
    "    # Plot second subplot\n",
    "    im4 = axes[2].imshow(error, cmap=\"gray\")\n",
    "    axes[2].set_title(f\"|pred-gt|\")\n",
    "\n",
    "    # Create a single colorbar\n",
    "    cbar = fig.colorbar(im4, ax=axes, orientation=\"vertical\", fraction=0.05, pad=0.02)\n",
    "\n",
    "    # plt.tight_layout()\n",
    "    buf = BytesIO()\n",
    "    plt.savefig(buf, format=\"png\")\n",
    "    frames.append(imageio.imread(buf))\n",
    "    plt.close()"
   ]
  },
  {
   "cell_type": "code",
   "execution_count": 27,
   "metadata": {},
   "outputs": [],
   "source": [
    "output_filename = f\"rho{I}.gif\"\n",
    "fps = 10  # Adjust frames per second as needed\n",
    "\n",
    "# Create video directly from frames in memory\n",
    "with imageio.get_writer(output_filename, fps=fps, loop=0) as writer:\n",
    "    for frame in frames:\n",
    "        writer.append_data(frame)"
   ]
  },
  {
   "cell_type": "code",
   "execution_count": null,
   "metadata": {},
   "outputs": [],
   "source": []
  }
 ],
 "metadata": {
  "kernelspec": {
   "display_name": ".venv",
   "language": "python",
   "name": "python3"
  },
  "language_info": {
   "codemirror_mode": {
    "name": "ipython",
    "version": 3
   },
   "file_extension": ".py",
   "mimetype": "text/x-python",
   "name": "python",
   "nbconvert_exporter": "python",
   "pygments_lexer": "ipython3",
   "version": "3.9.6"
  }
 },
 "nbformat": 4,
 "nbformat_minor": 2
}
