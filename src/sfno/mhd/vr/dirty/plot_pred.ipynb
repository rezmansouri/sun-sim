{
 "cells": [
  {
   "cell_type": "code",
   "execution_count": 17,
   "metadata": {},
   "outputs": [],
   "source": [
    "import os\n",
    "import torch\n",
    "import json\n",
    "from io import BytesIO\n",
    "import numpy as np\n",
    "import torch.nn as nn\n",
    "import imageio.v2 as imageio\n",
    "from tqdm import tqdm, trange\n",
    "from utils import SphericalNODataset\n",
    "from neuralop.models import SFNO\n",
    "import matplotlib.pyplot as plt"
   ]
  },
  {
   "cell_type": "code",
   "execution_count": 18,
   "metadata": {},
   "outputs": [],
   "source": [
    "device = torch.device('cpu')"
   ]
  },
  {
   "cell_type": "code",
   "execution_count": 19,
   "metadata": {},
   "outputs": [],
   "source": [
    "data_path = '/Users/reza/Career/DMLab/SURROGATE/Data/psi_web_sample/test'\n",
    "result_path = '/Users/reza/Career/DMLab/SURROGATE/results/sfno/exp_17'\n",
    "cfg_path = os.path.join(result_path, 'cfg.json')\n",
    "with open(cfg_path, 'r') as f:\n",
    "    cfg = json.load(f)"
   ]
  },
  {
   "cell_type": "code",
   "execution_count": 20,
   "metadata": {},
   "outputs": [
    {
     "data": {
      "text/plain": [
       "680"
      ]
     },
     "execution_count": 20,
     "metadata": {},
     "output_type": "execute_result"
    }
   ],
   "source": [
    "len(cfg['train_files'])"
   ]
  },
  {
   "cell_type": "code",
   "execution_count": 21,
   "metadata": {},
   "outputs": [],
   "source": [
    "instruments = [\n",
    "        \"kpo_mas_mas_std_0101\",\n",
    "        \"mdi_mas_mas_std_0101\",\n",
    "        \"hmi_mast_mas_std_0101\",\n",
    "        \"hmi_mast_mas_std_0201\",\n",
    "        \"hmi_masp_mas_std_0201\",\n",
    "        \"mdi_mas_mas_std_0201\",\n",
    "    ]\n",
    "subdir_paths = sorted(os.listdir(data_path))\n",
    "cr_paths = [os.path.join(data_path, p) for p in subdir_paths if p.startswith(\"cr\")]\n",
    "sim_paths = []\n",
    "for cr_path in cr_paths:\n",
    "    for instrument in instruments:\n",
    "        instrument_path = os.path.join(cr_path, instrument)\n",
    "        if os.path.exists(instrument_path):\n",
    "            sim_paths.append(instrument_path)"
   ]
  },
  {
   "cell_type": "code",
   "execution_count": 22,
   "metadata": {},
   "outputs": [],
   "source": [
    "sim_paths = sorted(sim_paths)"
   ]
  },
  {
   "cell_type": "code",
   "execution_count": 23,
   "metadata": {},
   "outputs": [
    {
     "data": {
      "text/plain": [
       "['/Users/reza/Career/DMLab/SURROGATE/Data/psi_web_sample/test/cr2238/hmi_mast_mas_std_0101',\n",
       " '/Users/reza/Career/DMLab/SURROGATE/Data/psi_web_sample/test/cr2238/hmi_mast_mas_std_0201',\n",
       " '/Users/reza/Career/DMLab/SURROGATE/Data/psi_web_sample/test/cr2239/hmi_masp_mas_std_0201',\n",
       " '/Users/reza/Career/DMLab/SURROGATE/Data/psi_web_sample/test/cr2239/hmi_mast_mas_std_0101',\n",
       " '/Users/reza/Career/DMLab/SURROGATE/Data/psi_web_sample/test/cr2239/hmi_mast_mas_std_0201']"
      ]
     },
     "execution_count": 23,
     "metadata": {},
     "output_type": "execute_result"
    }
   ],
   "source": [
    "sim_paths[-5:]"
   ]
  },
  {
   "cell_type": "code",
   "execution_count": 24,
   "metadata": {},
   "outputs": [
    {
     "name": "stderr",
     "output_type": "stream",
     "text": [
      "  0%|          | 0/21 [00:00<?, ?it/s]"
     ]
    },
    {
     "name": "stderr",
     "output_type": "stream",
     "text": [
      "100%|██████████| 21/21 [00:00<00:00, 52.69it/s]\n"
     ]
    }
   ],
   "source": [
    "dataset = SphericalNODataset(\n",
    "    sim_paths,\n",
    "    v_min=cfg[\"v_min\"],\n",
    "    v_max=cfg[\"v_max\"],\n",
    ")"
   ]
  },
  {
   "cell_type": "code",
   "execution_count": 25,
   "metadata": {},
   "outputs": [
    {
     "data": {
      "text/plain": [
       "(0.4673037827014923, 1.591561198234558)"
      ]
     },
     "execution_count": 25,
     "metadata": {},
     "output_type": "execute_result"
    }
   ],
   "source": [
    "cfg['v_min'], cfg['v_max']"
   ]
  },
  {
   "cell_type": "code",
   "execution_count": 26,
   "metadata": {},
   "outputs": [
    {
     "data": {
      "text/plain": [
       "<All keys matched successfully>"
      ]
     },
     "execution_count": 26,
     "metadata": {},
     "output_type": "execute_result"
    }
   ],
   "source": [
    "model = SFNO(\n",
    "    n_modes=(cfg['n_modes'], cfg['n_modes']),\n",
    "    in_channels=1,\n",
    "    out_channels=139,\n",
    "    hidden_channels=cfg['hidden_channels'],\n",
    "    projection_channel_ratio=2,\n",
    "    factorization=\"dense\",\n",
    ")\n",
    "state = torch.load(os.path.join(result_path, 'ckpt', \"best_model_state_dict.pt\"), map_location=device, weights_only=False)\n",
    "model.load_state_dict(state)"
   ]
  },
  {
   "cell_type": "code",
   "execution_count": 27,
   "metadata": {},
   "outputs": [],
   "source": [
    "I = -1\n",
    "instance = dataset[I]\n",
    "x, y = instance['x'], instance['y']\n",
    "\n",
    "# cube = torch.randn((1, 141, 64, 64), dtype=torch.float32)\n",
    "# cube[:, :, 20:40, :] = 1\n",
    "\n",
    "# x = cube[:, 0, :, :]\n",
    "# y = cube[0, 1:, :, :]\n",
    "\n",
    "model.eval()\n",
    "with torch.no_grad():\n",
    "    yhats = model(x.unsqueeze(0))"
   ]
  },
  {
   "cell_type": "code",
   "execution_count": 28,
   "metadata": {},
   "outputs": [],
   "source": [
    "np.save('yhat.npy', yhats.cpu().numpy())"
   ]
  },
  {
   "cell_type": "code",
   "execution_count": 29,
   "metadata": {},
   "outputs": [
    {
     "data": {
      "text/plain": [
       "(torch.Size([139, 111, 128]), torch.Size([1, 139, 111, 128]))"
      ]
     },
     "execution_count": 29,
     "metadata": {},
     "output_type": "execute_result"
    }
   ],
   "source": [
    "y.shape, yhats.shape"
   ]
  },
  {
   "cell_type": "code",
   "execution_count": 30,
   "metadata": {},
   "outputs": [],
   "source": [
    "cube = y"
   ]
  },
  {
   "cell_type": "code",
   "execution_count": 31,
   "metadata": {},
   "outputs": [
    {
     "name": "stderr",
     "output_type": "stream",
     "text": [
      "100%|██████████| 139/139 [00:29<00:00,  4.76it/s]\n"
     ]
    }
   ],
   "source": [
    "frames = []\n",
    "for i in trange(139):\n",
    "    y = cube[i, :, :]\n",
    "    yhat = yhats[0, i, :, :]\n",
    "    # print(cube.shape)\n",
    "    # y = y.reshape((128, 110))\n",
    "    # # print(yhat.shape)\n",
    "    # yhat = yhat.reshape((128, 110))\n",
    "    # y = y.transpose(1, 0)\n",
    "    # yhat = yhat.transpose(1, 0)\n",
    "\n",
    "    error = np.abs(y - yhat)\n",
    "    error = (error - error.min()) / (error.max() - error.min())\n",
    "    \n",
    "    vmin = min(y.min(), yhat.min())\n",
    "    vmax = max(y.max(), yhat.max())\n",
    "    fig, axes = plt.subplots(1, 3, figsize=(12, 6))\n",
    "    cmap = \"viridis\"\n",
    "\n",
    "    # # Plot first subplot\n",
    "    im1 = axes[0].imshow(y, cmap=cmap, vmin=vmin, vmax=vmax)\n",
    "    axes[0].set_title(f\"gt: br002 at {i+1}\")\n",
    "\n",
    "    # Plot second subplot\n",
    "    im3 = axes[1].imshow(yhat, cmap=cmap, vmin=vmin, vmax=vmax)\n",
    "    axes[1].set_title(f\"pred at {i+1} \")\n",
    "\n",
    "    cbar = fig.colorbar(im1, ax=axes, orientation=\"horizontal\", fraction=0.1, pad=0.02)\n",
    "\n",
    "    # Plot second subplot\n",
    "    im4 = axes[2].imshow(error, cmap=\"gray\")\n",
    "    axes[2].set_title(f\"|pred-gt|\")\n",
    "\n",
    "    # Create a single colorbar\n",
    "    cbar = fig.colorbar(im4, ax=axes, orientation=\"vertical\", fraction=0.05, pad=0.02)\n",
    "\n",
    "    # plt.tight_layout()\n",
    "    buf = BytesIO()\n",
    "    plt.savefig(buf, format=\"png\")\n",
    "    frames.append(imageio.imread(buf))\n",
    "    plt.close()"
   ]
  },
  {
   "cell_type": "code",
   "execution_count": 32,
   "metadata": {},
   "outputs": [],
   "source": [
    "output_filename = f\"v{I}.gif\"\n",
    "fps = 10  # Adjust frames per second as needed\n",
    "\n",
    "# Create video directly from frames in memory\n",
    "with imageio.get_writer(output_filename, fps=fps, loop=0) as writer:\n",
    "    for frame in frames:\n",
    "        writer.append_data(frame)"
   ]
  },
  {
   "cell_type": "code",
   "execution_count": null,
   "metadata": {},
   "outputs": [],
   "source": []
  }
 ],
 "metadata": {
  "kernelspec": {
   "display_name": ".venv",
   "language": "python",
   "name": "python3"
  },
  "language_info": {
   "codemirror_mode": {
    "name": "ipython",
    "version": 3
   },
   "file_extension": ".py",
   "mimetype": "text/x-python",
   "name": "python",
   "nbconvert_exporter": "python",
   "pygments_lexer": "ipython3",
   "version": "3.9.6"
  }
 },
 "nbformat": 4,
 "nbformat_minor": 2
}
