{
 "cells": [
  {
   "cell_type": "code",
   "execution_count": 10,
   "id": "c64bde42",
   "metadata": {},
   "outputs": [],
   "source": [
    "import matplotlib.pyplot as plt\n",
    "import numpy as np\n",
    "from tqdm import trange\n",
    "from utils import SphericalNODataset, get_cr_dirs\n",
    "from io import BytesIO\n",
    "import imageio.v2 as imageio"
   ]
  },
  {
   "cell_type": "code",
   "execution_count": 2,
   "id": "0bdc7ddf",
   "metadata": {},
   "outputs": [],
   "source": [
    "data_path = '/Users/reza/Career/DMLab/SURROGATE/Data/psi_web_sample/train'"
   ]
  },
  {
   "cell_type": "code",
   "execution_count": 21,
   "id": "bd2bf1f4",
   "metadata": {},
   "outputs": [
    {
     "name": "stdout",
     "output_type": "stream",
     "text": [
      "25\n"
     ]
    },
    {
     "name": "stderr",
     "output_type": "stream",
     "text": [
      "Loading simulations: 100%|██████████| 25/25 [00:00<00:00, 72.76it/s]\n"
     ]
    },
    {
     "name": "stdout",
     "output_type": "stream",
     "text": [
      "torch.Size([139, 111, 128])\n"
     ]
    }
   ],
   "source": [
    "cr_dirs = get_cr_dirs(data_path)\n",
    "print(len(cr_dirs))\n",
    "dataset = SphericalNODataset(data_path, cr_dirs)\n",
    "climatology = dataset.climatology\n",
    "print(climatology.shape)"
   ]
  },
  {
   "cell_type": "code",
   "execution_count": 23,
   "id": "45ee73a8",
   "metadata": {},
   "outputs": [],
   "source": [
    "instance_1 = dataset[0]['y']\n",
    "instance_2 = dataset[1]['y']"
   ]
  },
  {
   "cell_type": "code",
   "execution_count": 28,
   "id": "ec743da0",
   "metadata": {},
   "outputs": [
    {
     "name": "stderr",
     "output_type": "stream",
     "text": [
      "100%|██████████| 139/139 [00:22<00:00,  6.08it/s]\n"
     ]
    }
   ],
   "source": [
    "frames = []\n",
    "for i in trange(139):\n",
    "    \n",
    "    y_1 = instance_1[i, :, :]\n",
    "    y_2 = instance_2[i, :, :]\n",
    "    clim = climatology[i, :, :]\n",
    "    \n",
    "    vmin = min(y_1.min(), y_2.min(), climatology.min())\n",
    "    vmax = max(y_1.max(), y_2.max(), climatology.max())\n",
    "    fig, axes = plt.subplots(1, 3, figsize=(12, 6))\n",
    "    cmap = \"gnuplot\"\n",
    "\n",
    "    # # Plot first subplot\n",
    "    im1 = axes[0].imshow(y_1, cmap=cmap, vmin=vmin, vmax=vmax)\n",
    "    axes[0].set_title(f\"vr002$_i$ at {i+1}\")\n",
    "\n",
    "    # Plot second subplot\n",
    "    im3 = axes[1].imshow(y_2, cmap=cmap, vmin=vmin, vmax=vmax)\n",
    "    axes[1].set_title(f\"vr002$_j$ at {i+1}\")\n",
    "\n",
    "    # Plot second subplot\n",
    "    im3 = axes[2].imshow(clim, cmap=cmap, vmin=vmin, vmax=vmax)\n",
    "    axes[2].set_title(f\"climatology at {i+1}\")\n",
    "\n",
    "    cbar = fig.colorbar(im1, ax=axes, orientation=\"horizontal\", fraction=0.1, pad=0.02)\n",
    "    \n",
    "    fig.suptitle(\"Climatology from 25 cubes\", fontsize=16)\n",
    "\n",
    "    # plt.tight_layout()\n",
    "    buf = BytesIO()\n",
    "    plt.savefig(buf, format=\"png\")\n",
    "    frames.append(imageio.imread(buf))\n",
    "    plt.close()"
   ]
  },
  {
   "cell_type": "code",
   "execution_count": 29,
   "id": "e2412061",
   "metadata": {},
   "outputs": [],
   "source": [
    "output_filename = f\"climatology.gif\"\n",
    "fps = 10  # Adjust frames per second as needed\n",
    "\n",
    "# Create video directly from frames in memory\n",
    "with imageio.get_writer(output_filename, fps=fps, loop=0) as writer:\n",
    "    for frame in frames:\n",
    "        writer.append_data(frame)"
   ]
  },
  {
   "cell_type": "code",
   "execution_count": null,
   "id": "8038e1e8",
   "metadata": {},
   "outputs": [],
   "source": []
  }
 ],
 "metadata": {
  "kernelspec": {
   "display_name": ".venv",
   "language": "python",
   "name": "python3"
  },
  "language_info": {
   "codemirror_mode": {
    "name": "ipython",
    "version": 3
   },
   "file_extension": ".py",
   "mimetype": "text/x-python",
   "name": "python",
   "nbconvert_exporter": "python",
   "pygments_lexer": "ipython3",
   "version": "3.9.6"
  }
 },
 "nbformat": 4,
 "nbformat_minor": 5
}
