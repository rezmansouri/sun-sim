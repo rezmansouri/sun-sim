{
 "cells": [
  {
   "cell_type": "code",
   "execution_count": 1,
   "id": "eac6a019",
   "metadata": {},
   "outputs": [],
   "source": [
    "import matplotlib.pyplot as plt\n",
    "import numpy as np\n",
    "import imageio.v2 as imageio\n",
    "from io import BytesIO\n",
    "from utils import get_cr_dirs, HUXDataset, get_hux_pred\n",
    "from tqdm import trange"
   ]
  },
  {
   "cell_type": "code",
   "execution_count": 2,
   "id": "624a1b4c",
   "metadata": {},
   "outputs": [
    {
     "name": "stderr",
     "output_type": "stream",
     "text": [
      "Loading simulations:   8%|▊         | 2/25 [00:00<00:01, 18.98it/s]"
     ]
    },
    {
     "name": "stdout",
     "output_type": "stream",
     "text": [
      "['p', 'br', 'vr', 'rho']\n",
      "/Users/reza/Career/DMLab/SURROGATE/Data/psi_web_sample/train/cr1732/kpo_mas_mas_std_0101 vr\n",
      "(128, 111, 140, 1) ['phi', 'theta', 'r', 'time']\n",
      "['br', 'vr', 'rho']\n",
      "/Users/reza/Career/DMLab/SURROGATE/Data/psi_web_sample/train/cr1733/kpo_mas_mas_std_0101 vr\n",
      "(128, 111, 140, 1) ['phi', 'theta', 'r', 'time']\n",
      "['br', 'vr', 'rho']\n",
      "/Users/reza/Career/DMLab/SURROGATE/Data/psi_web_sample/train/cr1734/kpo_mas_mas_std_0101 vr\n",
      "(128, 111, 140, 1) ['phi', 'theta', 'r', 'time']\n",
      "['br', 'vr', 'rho']\n",
      "/Users/reza/Career/DMLab/SURROGATE/Data/psi_web_sample/train/cr1735/kpo_mas_mas_std_0101 vr\n",
      "(128, 111, 140, 1) ['phi', 'theta', 'r', 'time']\n",
      "['br', 'vr', 'rho']\n",
      "/Users/reza/Career/DMLab/SURROGATE/Data/psi_web_sample/train/cr1736/kpo_mas_mas_std_0101 vr\n",
      "(128, 111, 140, 1) ['phi', 'theta', 'r', 'time']\n",
      "['br', 'vr', 'rho']\n",
      "/Users/reza/Career/DMLab/SURROGATE/Data/psi_web_sample/train/cr1737/kpo_mas_mas_std_0101 vr\n",
      "(128, 111, 140, 1) ['phi', 'theta', 'r', 'time']\n",
      "['br', 'vr', 'rho']\n",
      "/Users/reza/Career/DMLab/SURROGATE/Data/psi_web_sample/train/cr1738/kpo_mas_mas_std_0101 vr\n",
      "(128, 111, 140, 1) ['phi', 'theta', 'r', 'time']\n"
     ]
    },
    {
     "name": "stderr",
     "output_type": "stream",
     "text": [
      "Loading simulations:  48%|████▊     | 12/25 [00:00<00:00, 39.71it/s]"
     ]
    },
    {
     "name": "stdout",
     "output_type": "stream",
     "text": [
      "['br', 'vr', 'rho']\n",
      "/Users/reza/Career/DMLab/SURROGATE/Data/psi_web_sample/train/cr1739/kpo_mas_mas_std_0101 vr\n",
      "(128, 111, 140, 1) ['phi', 'theta', 'r', 'time']\n",
      "['br', 'vr', 'rho']\n",
      "/Users/reza/Career/DMLab/SURROGATE/Data/psi_web_sample/train/cr1740/kpo_mas_mas_std_0101 vr\n",
      "(128, 111, 140, 1) ['phi', 'theta', 'r', 'time']\n",
      "['br', 'vr', 'rho']\n",
      "/Users/reza/Career/DMLab/SURROGATE/Data/psi_web_sample/train/cr1741/kpo_mas_mas_std_0101 vr\n",
      "(128, 111, 140, 1) ['phi', 'theta', 'r', 'time']\n",
      "['br', 'vr', 'rho']\n",
      "/Users/reza/Career/DMLab/SURROGATE/Data/psi_web_sample/train/cr1742/kpo_mas_mas_std_0101 vr\n",
      "(128, 111, 140, 1) ['phi', 'theta', 'r', 'time']\n",
      "['br', 'vr', 'rho']\n",
      "/Users/reza/Career/DMLab/SURROGATE/Data/psi_web_sample/train/cr1743/kpo_mas_mas_std_0101 vr\n",
      "(128, 111, 140, 1) ['phi', 'theta', 'r', 'time']\n",
      "['br', 'vr', 'rho']\n",
      "/Users/reza/Career/DMLab/SURROGATE/Data/psi_web_sample/train/cr1744/kpo_mas_mas_std_0101 vr\n",
      "(128, 111, 140, 1) ['phi', 'theta', 'r', 'time']\n",
      "['br', 'vr', 'rho']\n",
      "/Users/reza/Career/DMLab/SURROGATE/Data/psi_web_sample/train/cr1745/kpo_mas_mas_std_0101 vr\n",
      "(128, 111, 140, 1) ['phi', 'theta', 'r', 'time']\n",
      "['br', 'vr', 'rho']\n",
      "/Users/reza/Career/DMLab/SURROGATE/Data/psi_web_sample/train/cr1746/kpo_mas_mas_std_0101 vr\n",
      "(128, 111, 140, 1) ['phi', 'theta', 'r', 'time']\n",
      "['br', 'vr', 'rho']\n",
      "/Users/reza/Career/DMLab/SURROGATE/Data/psi_web_sample/train/cr1747/kpo_mas_mas_std_0101 vr\n",
      "(128, 111, 140, 1) ['phi', 'theta', 'r', 'time']\n"
     ]
    },
    {
     "name": "stderr",
     "output_type": "stream",
     "text": [
      "Loading simulations:  84%|████████▍ | 21/25 [00:00<00:00, 39.80it/s]"
     ]
    },
    {
     "name": "stdout",
     "output_type": "stream",
     "text": [
      "['br', 'vr', 'rho']\n",
      "/Users/reza/Career/DMLab/SURROGATE/Data/psi_web_sample/train/cr1748/kpo_mas_mas_std_0101 vr\n",
      "(128, 111, 140, 1) ['phi', 'theta', 'r', 'time']\n",
      "['br', 'vr', 'rho']\n",
      "/Users/reza/Career/DMLab/SURROGATE/Data/psi_web_sample/train/cr1749/kpo_mas_mas_std_0101 vr\n",
      "(128, 111, 140, 1) ['phi', 'theta', 'r', 'time']\n",
      "['br', 'vr', 'rho']\n",
      "/Users/reza/Career/DMLab/SURROGATE/Data/psi_web_sample/train/cr1750/kpo_mas_mas_std_0101 vr\n",
      "(128, 111, 140, 1) ['phi', 'theta', 'r', 'time']\n",
      "['br', 'vr', 'rho']\n",
      "/Users/reza/Career/DMLab/SURROGATE/Data/psi_web_sample/train/cr1751/kpo_mas_mas_std_0101 vr\n",
      "(128, 111, 140, 1) ['phi', 'theta', 'r', 'time']\n",
      "['br', 'vr', 'rho']\n",
      "/Users/reza/Career/DMLab/SURROGATE/Data/psi_web_sample/train/cr1752/kpo_mas_mas_std_0101 vr\n",
      "(128, 111, 140, 1) ['phi', 'theta', 'r', 'time']\n",
      "['br', 'vr', 'rho']\n",
      "/Users/reza/Career/DMLab/SURROGATE/Data/psi_web_sample/train/cr1753/kpo_mas_mas_std_0101 vr\n",
      "(128, 111, 140, 1) ['phi', 'theta', 'r', 'time']\n",
      "['br', 'vr', 'rho']\n",
      "/Users/reza/Career/DMLab/SURROGATE/Data/psi_web_sample/train/cr1754/kpo_mas_mas_std_0101 vr\n",
      "(128, 111, 140, 1) ['phi', 'theta', 'r', 'time']\n",
      "['br', 'vr', 'rho']\n",
      "/Users/reza/Career/DMLab/SURROGATE/Data/psi_web_sample/train/cr1755/kpo_mas_mas_std_0101 vr\n",
      "(128, 111, 140, 1) ['phi', 'theta', 'r', 'time']\n"
     ]
    },
    {
     "name": "stderr",
     "output_type": "stream",
     "text": [
      "Loading simulations: 100%|██████████| 25/25 [00:00<00:00, 38.12it/s]\n"
     ]
    },
    {
     "name": "stdout",
     "output_type": "stream",
     "text": [
      "['br', 'vr', 'rho']\n",
      "/Users/reza/Career/DMLab/SURROGATE/Data/psi_web_sample/train/cr1756/kpo_mas_mas_std_0101 vr\n",
      "(128, 111, 140, 1) ['phi', 'theta', 'r', 'time']\n"
     ]
    }
   ],
   "source": [
    "cr_dirs = get_cr_dirs('/Users/reza/Career/DMLab/SURROGATE/Data/psi_web_sample/train')\n",
    "dataset = HUXDataset('/Users/reza/Career/DMLab/SURROGATE/Data/psi_web_sample/train', cr_dirs)"
   ]
  },
  {
   "cell_type": "code",
   "execution_count": 3,
   "id": "12e64821",
   "metadata": {},
   "outputs": [
    {
     "data": {
      "text/plain": [
       "25"
      ]
     },
     "execution_count": 3,
     "metadata": {},
     "output_type": "execute_result"
    }
   ],
   "source": [
    "len(dataset)"
   ]
  },
  {
   "cell_type": "code",
   "execution_count": null,
   "id": "0742f64d",
   "metadata": {},
   "outputs": [],
   "source": [
    "I = 0\n",
    "instance = dataset[I]\n",
    "v, r, p, t = instance['x']['v'], instance['x']['r'], instance['x']['p'], instance['x']['t']\n",
    "print('v shape:', v.shape)\n",
    "mas = instance['y']\n",
    "hux = get_hux_pred(v, r, p, t)\n",
    "\n",
    "vmin = min(mas.min(), hux.min())\n",
    "vmax = max(mas.max(), hux.max())\n",
    "error = np.abs(mas - hux)\n",
    "max_error = error.max()\n",
    "min_error = error.min()\n"
   ]
  },
  {
   "cell_type": "code",
   "execution_count": 6,
   "id": "10cc65ae",
   "metadata": {},
   "outputs": [
    {
     "name": "stderr",
     "output_type": "stream",
     "text": [
      "100%|██████████| 139/139 [00:19<00:00,  6.95it/s]\n"
     ]
    }
   ],
   "source": [
    "frames = []\n",
    "for i in trange(139):\n",
    "    mas_frame = mas[i, :, :]\n",
    "    hux_frame = hux[i, :, :]\n",
    "    fig, axes = plt.subplots(1, 3, figsize=(12, 6))\n",
    "    cmap = \"gnuplot\"\n",
    "    \n",
    "    # Plot first subplot\n",
    "    im1 = axes[0].imshow(mas_frame, cmap=cmap, vmin=vmin, vmax=vmax)\n",
    "    axes[0].set_title(f\"MAS at {i+1}\")\n",
    "    axes[0].axis(\"off\")\n",
    "\n",
    "    # Plot second subplot\n",
    "    im4 = axes[1].imshow(hux_frame, cmap=cmap, vmin=vmin, vmax=vmax)\n",
    "    axes[1].set_title(f\"HUX at {i+1} \")\n",
    "    axes[1].axis(\"off\")\n",
    "    \n",
    "    # Plot second subplot\n",
    "    im3 = axes[2].imshow(error[i], cmap=\"gray\", vmin=min_error, vmax=max_error)\n",
    "    axes[2].set_title(f\"|HUX-MAS|\")\n",
    "    axes[1].axis(\"off\")\n",
    "    \n",
    "    cbar = fig.colorbar(im1, ax=axes, orientation=\"horizontal\", fraction=0.1, pad=0.02)\n",
    "    cbar.set_label('$\\dfrac{km}{s}$', fontsize='10', rotation=360, labelpad=5)\n",
    "    \n",
    "    cbar = fig.colorbar(im3, ax=axes, orientation=\"vertical\", fraction=0.05, pad=0.02)\n",
    "    \n",
    "    buf = BytesIO()\n",
    "    plt.savefig(buf, format=\"png\")\n",
    "    frames.append(imageio.imread(buf))\n",
    "    plt.close()"
   ]
  },
  {
   "cell_type": "code",
   "execution_count": 7,
   "id": "64740d24",
   "metadata": {},
   "outputs": [],
   "source": [
    "output_filename = f\"v{I}.gif\"\n",
    "fps = 10  # Adjust frames per second as needed\n",
    "\n",
    "# Create video directly from frames in memory\n",
    "with imageio.get_writer(output_filename, fps=fps, loop=0) as writer:\n",
    "    for frame in frames:\n",
    "        writer.append_data(frame)"
   ]
  },
  {
   "cell_type": "code",
   "execution_count": 10,
   "id": "a41aab73",
   "metadata": {},
   "outputs": [],
   "source": [
    "instance_1 = dataset[0]['y']\n",
    "instance_2 = dataset[-1]['y']\n",
    "climatology = dataset.climatology"
   ]
  },
  {
   "cell_type": "code",
   "execution_count": 12,
   "id": "3fd83f25",
   "metadata": {},
   "outputs": [
    {
     "name": "stderr",
     "output_type": "stream",
     "text": [
      "100%|██████████| 139/139 [00:22<00:00,  6.22it/s]\n"
     ]
    }
   ],
   "source": [
    "frames = []\n",
    "vmin = min(instance_1.min(), instance_2.min(), climatology.min())\n",
    "vmax = max(instance_1.max(), instance_2.max(), climatology.max())\n",
    "for i in trange(139):\n",
    "    \n",
    "    y_1 = instance_1[i, :, :]\n",
    "    y_2 = instance_2[i, :, :]\n",
    "    clim = climatology[i, :, :]\n",
    "    \n",
    "    fig, axes = plt.subplots(1, 3, figsize=(12, 6))\n",
    "    cmap = \"gnuplot\"\n",
    "\n",
    "    # # Plot first subplot\n",
    "    im1 = axes[0].imshow(y_1, cmap=cmap, vmin=vmin, vmax=vmax)\n",
    "    axes[0].set_title(f\"vr002$_i$ at {i+1}\")\n",
    "\n",
    "    # Plot second subplot\n",
    "    im3 = axes[1].imshow(y_2, cmap=cmap, vmin=vmin, vmax=vmax)\n",
    "    axes[1].set_title(f\"vr002$_j$ at {i+1}\")\n",
    "\n",
    "    # Plot second subplot\n",
    "    im3 = axes[2].imshow(clim, cmap=cmap, vmin=vmin, vmax=vmax)\n",
    "    axes[2].set_title(f\"climatology at {i+1}\")\n",
    "\n",
    "    cbar = fig.colorbar(im1, ax=axes, orientation=\"horizontal\", fraction=0.1, pad=0.02)\n",
    "    \n",
    "    fig.suptitle(\"Climatology from 25 cubes\", fontsize=16)\n",
    "\n",
    "    # plt.tight_layout()\n",
    "    buf = BytesIO()\n",
    "    plt.savefig(buf, format=\"png\")\n",
    "    frames.append(imageio.imread(buf))\n",
    "    plt.close()"
   ]
  },
  {
   "cell_type": "code",
   "execution_count": 13,
   "id": "994e6156",
   "metadata": {},
   "outputs": [],
   "source": [
    "output_filename = f\"climatology.gif\"\n",
    "fps = 10  # Adjust frames per second as needed\n",
    "\n",
    "# Create video directly from frames in memory\n",
    "with imageio.get_writer(output_filename, fps=fps, loop=0) as writer:\n",
    "    for frame in frames:\n",
    "        writer.append_data(frame)"
   ]
  },
  {
   "cell_type": "code",
   "execution_count": null,
   "id": "3392a829",
   "metadata": {},
   "outputs": [],
   "source": []
  }
 ],
 "metadata": {
  "kernelspec": {
   "display_name": ".venv",
   "language": "python",
   "name": "python3"
  },
  "language_info": {
   "codemirror_mode": {
    "name": "ipython",
    "version": 3
   },
   "file_extension": ".py",
   "mimetype": "text/x-python",
   "name": "python",
   "nbconvert_exporter": "python",
   "pygments_lexer": "ipython3",
   "version": "3.9.6"
  }
 },
 "nbformat": 4,
 "nbformat_minor": 5
}
