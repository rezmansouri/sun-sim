{
  "cells": [
    {
      "cell_type": "markdown",
      "metadata": {},
      "source": [
        "\n",
        "# Training an FNO on Darcy-Flow\n",
        "\n",
        "We train a Fourier Neural Operator on our small [Darcy-Flow example](../auto_examples/plot_darcy_flow.html) .\n",
        "\n",
        "Note that this dataset is much smaller than one we would use in practice. The small Darcy-flow is an example built to\n",
        "be trained on a CPU in a few seconds, whereas normally we would train on one or multiple GPUs. \n"
      ]
    },
    {
      "cell_type": "code",
      "execution_count": 1,
      "metadata": {
        "collapsed": false
      },
      "outputs": [
        {
          "name": "stderr",
          "output_type": "stream",
          "text": [
            "/Users/reza/Career/DMLab/SURROGATE/.venv/lib/python3.9/site-packages/urllib3/__init__.py:35: NotOpenSSLWarning: urllib3 v2 only supports OpenSSL 1.1.1+, currently the 'ssl' module is compiled with 'LibreSSL 2.8.3'. See: https://github.com/urllib3/urllib3/issues/3020\n",
            "  warnings.warn(\n"
          ]
        }
      ],
      "source": [
        "import torch\n",
        "import matplotlib.pyplot as plt\n",
        "import sys\n",
        "from neuralop.models import FNO\n",
        "from neuralop import Trainer\n",
        "from neuralop.training import AdamW\n",
        "from neuralop.data.datasets import load_darcy_flow_small\n",
        "from neuralop.utils import count_model_params\n",
        "from neuralop import LpLoss, H1Loss\n",
        "\n",
        "device = 'cpu'"
      ]
    },
    {
      "cell_type": "markdown",
      "metadata": {},
      "source": [
        "Let's load the small Darcy-flow dataset. \n",
        "\n"
      ]
    },
    {
      "cell_type": "code",
      "execution_count": 2,
      "metadata": {
        "collapsed": false
      },
      "outputs": [
        {
          "name": "stdout",
          "output_type": "stream",
          "text": [
            "Loading test db for resolution 16 with 100 samples \n",
            "Loading test db for resolution 32 with 50 samples \n"
          ]
        }
      ],
      "source": [
        "train_loader, test_loaders, data_processor = load_darcy_flow_small(\n",
        "        n_train=1000, batch_size=32, \n",
        "        test_resolutions=[16, 32], n_tests=[100, 50],\n",
        "        test_batch_sizes=[32, 32],\n",
        ")\n",
        "data_processor = data_processor.to(device)"
      ]
    },
    {
      "cell_type": "markdown",
      "metadata": {},
      "source": [
        "We create a simple FNO model\n",
        "\n"
      ]
    },
    {
      "cell_type": "code",
      "execution_count": 3,
      "metadata": {
        "collapsed": false
      },
      "outputs": [
        {
          "name": "stdout",
          "output_type": "stream",
          "text": [
            "\n",
            "Our model has 1192801 parameters.\n"
          ]
        }
      ],
      "source": [
        "model = FNO(n_modes=(16, 16),\n",
        "             in_channels=1, \n",
        "             out_channels=1,\n",
        "             hidden_channels=32, \n",
        "             projection_channel_ratio=2)\n",
        "model = model.to(device)\n",
        "\n",
        "n_params = count_model_params(model)\n",
        "print(f'\\nOur model has {n_params} parameters.')\n",
        "sys.stdout.flush()"
      ]
    },
    {
      "cell_type": "markdown",
      "metadata": {},
      "source": [
        "## Training setup\n",
        "\n"
      ]
    },
    {
      "cell_type": "markdown",
      "metadata": {},
      "source": [
        "Create the optimizer\n",
        "\n"
      ]
    },
    {
      "cell_type": "code",
      "execution_count": 4,
      "metadata": {
        "collapsed": false
      },
      "outputs": [],
      "source": [
        "optimizer = AdamW(model.parameters(), \n",
        "                                lr=8e-3, \n",
        "                                weight_decay=1e-4)\n",
        "scheduler = torch.optim.lr_scheduler.CosineAnnealingLR(optimizer, T_max=30)"
      ]
    },
    {
      "cell_type": "markdown",
      "metadata": {},
      "source": [
        "Then create the losses\n",
        "\n"
      ]
    },
    {
      "cell_type": "code",
      "execution_count": 5,
      "metadata": {
        "collapsed": false
      },
      "outputs": [],
      "source": [
        "l2loss = LpLoss(d=2, p=2)\n",
        "h1loss = H1Loss(d=2)\n",
        "\n",
        "train_loss = h1loss\n",
        "eval_losses={'h1': h1loss, 'l2': l2loss}"
      ]
    },
    {
      "cell_type": "markdown",
      "metadata": {},
      "source": [
        "## Training the model\n",
        "\n"
      ]
    },
    {
      "cell_type": "code",
      "execution_count": 6,
      "metadata": {
        "collapsed": false
      },
      "outputs": [
        {
          "name": "stdout",
          "output_type": "stream",
          "text": [
            "\n",
            "### MODEL ###\n",
            " FNO(\n",
            "  (positional_embedding): GridEmbeddingND()\n",
            "  (fno_blocks): FNOBlocks(\n",
            "    (convs): ModuleList(\n",
            "      (0-3): 4 x SpectralConv(\n",
            "        (weight): DenseTensor(shape=torch.Size([32, 32, 16, 9]), rank=None)\n",
            "      )\n",
            "    )\n",
            "    (fno_skips): ModuleList(\n",
            "      (0-3): 4 x Flattened1dConv(\n",
            "        (conv): Conv1d(32, 32, kernel_size=(1,), stride=(1,), bias=False)\n",
            "      )\n",
            "    )\n",
            "    (channel_mlp): ModuleList(\n",
            "      (0-3): 4 x ChannelMLP(\n",
            "        (fcs): ModuleList(\n",
            "          (0): Conv1d(32, 16, kernel_size=(1,), stride=(1,))\n",
            "          (1): Conv1d(16, 32, kernel_size=(1,), stride=(1,))\n",
            "        )\n",
            "      )\n",
            "    )\n",
            "    (channel_mlp_skips): ModuleList(\n",
            "      (0-3): 4 x SoftGating()\n",
            "    )\n",
            "  )\n",
            "  (lifting): ChannelMLP(\n",
            "    (fcs): ModuleList(\n",
            "      (0): Conv1d(3, 64, kernel_size=(1,), stride=(1,))\n",
            "      (1): Conv1d(64, 32, kernel_size=(1,), stride=(1,))\n",
            "    )\n",
            "  )\n",
            "  (projection): ChannelMLP(\n",
            "    (fcs): ModuleList(\n",
            "      (0): Conv1d(32, 64, kernel_size=(1,), stride=(1,))\n",
            "      (1): Conv1d(64, 1, kernel_size=(1,), stride=(1,))\n",
            "    )\n",
            "  )\n",
            ")\n",
            "\n",
            "### OPTIMIZER ###\n",
            " AdamW (\n",
            "Parameter Group 0\n",
            "    betas: (0.9, 0.999)\n",
            "    correct_bias: True\n",
            "    eps: 1e-06\n",
            "    initial_lr: 0.008\n",
            "    lr: 0.008\n",
            "    weight_decay: 0.0001\n",
            ")\n",
            "\n",
            "### SCHEDULER ###\n",
            " <torch.optim.lr_scheduler.CosineAnnealingLR object at 0x305a68cd0>\n",
            "\n",
            "### LOSSES ###\n",
            "\n",
            " * Train: <neuralop.losses.data_losses.H1Loss object at 0x30686cfd0>\n",
            "\n",
            " * Test: {'h1': <neuralop.losses.data_losses.H1Loss object at 0x30686cfd0>, 'l2': <neuralop.losses.data_losses.LpLoss object at 0x306af07f0>}\n"
          ]
        }
      ],
      "source": [
        "print('\\n### MODEL ###\\n', model)\n",
        "print('\\n### OPTIMIZER ###\\n', optimizer)\n",
        "print('\\n### SCHEDULER ###\\n', scheduler)\n",
        "print('\\n### LOSSES ###')\n",
        "print(f'\\n * Train: {train_loss}')\n",
        "print(f'\\n * Test: {eval_losses}')\n",
        "sys.stdout.flush()"
      ]
    },
    {
      "cell_type": "markdown",
      "metadata": {},
      "source": [
        "Create the trainer:\n",
        "\n"
      ]
    },
    {
      "cell_type": "code",
      "execution_count": 7,
      "metadata": {
        "collapsed": false
      },
      "outputs": [],
      "source": [
        "trainer = Trainer(model=model, n_epochs=20,\n",
        "                  device=device,\n",
        "                  data_processor=data_processor,\n",
        "                  wandb_log=False,\n",
        "                  eval_interval=3,\n",
        "                  use_distributed=False,\n",
        "                  verbose=True)"
      ]
    },
    {
      "cell_type": "markdown",
      "metadata": {},
      "source": [
        "Then train the model on our small Darcy-Flow dataset:\n",
        "\n"
      ]
    },
    {
      "cell_type": "code",
      "execution_count": 8,
      "metadata": {
        "collapsed": false
      },
      "outputs": [
        {
          "name": "stdout",
          "output_type": "stream",
          "text": [
            "Training on 1000 samples\n",
            "Testing on [50, 50] samples         on resolutions [16, 32].\n",
            "Raw outputs of shape torch.Size([32, 1, 16, 16])\n",
            "[0] time=5.10, avg_loss=0.5802, train_err=18.1307\n",
            "Eval: 16_h1=0.3692, 16_l2=0.2433, 32_h1=0.5608, 32_l2=0.2628\n",
            "[3] time=5.30, avg_loss=0.2132, train_err=6.6619\n",
            "Eval: 16_h1=0.2046, 16_l2=0.1421, 32_h1=0.4605, 32_l2=0.1782\n",
            "[6] time=5.37, avg_loss=0.1942, train_err=6.0684\n",
            "Eval: 16_h1=0.2041, 16_l2=0.1357, 32_h1=0.4727, 32_l2=0.1713\n",
            "[9] time=5.25, avg_loss=0.1625, train_err=5.0790\n",
            "Eval: 16_h1=0.2356, 16_l2=0.1681, 32_h1=0.4802, 32_l2=0.1917\n",
            "[12] time=5.36, avg_loss=0.1400, train_err=4.3739\n",
            "Eval: 16_h1=0.2084, 16_l2=0.1235, 32_h1=0.5088, 32_l2=0.1657\n",
            "[15] time=5.47, avg_loss=0.1225, train_err=3.8289\n",
            "Eval: 16_h1=0.1986, 16_l2=0.1213, 32_h1=0.4819, 32_l2=0.1596\n",
            "[18] time=5.33, avg_loss=0.1160, train_err=3.6244\n",
            "Eval: 16_h1=0.2031, 16_l2=0.1230, 32_h1=0.4948, 32_l2=0.1626\n"
          ]
        },
        {
          "data": {
            "text/plain": [
              "{'train_err': 3.2047535944730043,\n",
              " 'avg_loss': 0.10255211502313615,\n",
              " 'avg_lasso_loss': None,\n",
              " 'epoch_train_time': 5.408101875}"
            ]
          },
          "execution_count": 8,
          "metadata": {},
          "output_type": "execute_result"
        }
      ],
      "source": [
        "trainer.train(train_loader=train_loader,\n",
        "              test_loaders=test_loaders,\n",
        "              optimizer=optimizer,\n",
        "              scheduler=scheduler, \n",
        "              regularizer=False, \n",
        "              training_loss=train_loss,\n",
        "              eval_losses=eval_losses)"
      ]
    },
    {
      "cell_type": "markdown",
      "metadata": {},
      "source": [
        "Visualizing predictions\n",
        "------------------------\n",
        "Let's take a look at what our model's predicted outputs look like. \n",
        "Again note that in this example, we train on a very small resolution for\n",
        "a very small number of epochs.\n",
        "In practice, we would train at a larger resolution, on many more samples.\n",
        "\n"
      ]
    },
    {
      "cell_type": "code",
      "execution_count": 13,
      "metadata": {
        "collapsed": false
      },
      "outputs": [
        {
          "name": "stderr",
          "output_type": "stream",
          "text": [
            "/var/folders/bv/7h0f0hns2y72yqgg3ww8qkkm0000gn/T/ipykernel_2052/3478568501.py:37: UserWarning: FigureCanvasAgg is non-interactive, and thus cannot be shown\n",
            "  fig.show()\n"
          ]
        },
        {
          "data": {
            "image/png": "[encoded data removed]",
            "text/plain": [
              "<Figure size 700x700 with 9 Axes>"
            ]
          },
          "metadata": {},
          "output_type": "display_data"
        }
      ],
      "source": [
        "test_samples = test_loaders[16].dataset\n",
        "\n",
        "fig = plt.figure(figsize=(7, 7))\n",
        "for index in range(3):\n",
        "    data = test_samples[index]\n",
        "    data = data_processor.preprocess(data, batched=False)\n",
        "    # Input x\n",
        "    x = data['x']\n",
        "    # Ground-truth\n",
        "    y = data['y']\n",
        "    # Model prediction\n",
        "    out = model(x.unsqueeze(0))\n",
        "\n",
        "    ax = fig.add_subplot(3, 3, index*3 + 1)\n",
        "    ax.imshow(x[0], cmap='gray')\n",
        "    if index == 0: \n",
        "        ax.set_title(f'Input x\\n{x.shape}')\n",
        "    plt.xticks([], [])\n",
        "    plt.yticks([], [])\n",
        "\n",
        "    ax = fig.add_subplot(3, 3, index*3 + 2)\n",
        "    ax.imshow(y.squeeze())\n",
        "    if index == 0: \n",
        "        ax.set_title(f'Ground-truth y\\n{y.shape}')\n",
        "    plt.xticks([], [])\n",
        "    plt.yticks([], [])\n",
        "\n",
        "    ax = fig.add_subplot(3, 3, index*3 + 3)\n",
        "    ax.imshow(out.squeeze().detach().numpy())\n",
        "    if index == 0: \n",
        "        ax.set_title(f'Model prediction\\n{out.shape}')\n",
        "    plt.xticks([], [])\n",
        "    plt.yticks([], [])\n",
        "\n",
        "fig.suptitle('Inputs, ground-truth output and prediction (16x16).', y=0.98)\n",
        "plt.tight_layout()\n",
        "fig.show()"
      ]
    },
    {
      "cell_type": "markdown",
      "metadata": {},
      "source": [
        ".. zero_shot :\n",
        "Zero-shot super-evaluation\n",
        "---------------------------\n",
        "In addition to training and making predictions on the same input size, \n",
        "the FNO's invariance to the discretization of input data means we \n",
        "can natively make predictions on higher-resolution inputs and get higher-resolution outputs.\n",
        "\n"
      ]
    },
    {
      "cell_type": "code",
      "execution_count": 10,
      "metadata": {
        "collapsed": false
      },
      "outputs": [
        {
          "name": "stderr",
          "output_type": "stream",
          "text": [
            "/var/folders/bv/7h0f0hns2y72yqgg3ww8qkkm0000gn/T/ipykernel_2052/4239726346.py:37: UserWarning: FigureCanvasAgg is non-interactive, and thus cannot be shown\n",
            "  fig.show()\n"
          ]
        },
        {
          "data": {
            "image/png": "[encoded data removed]",
            "text/plain": [
              "<Figure size 700x700 with 9 Axes>"
            ]
          },
          "metadata": {},
          "output_type": "display_data"
        }
      ],
      "source": [
        "test_samples = test_loaders[32].dataset\n",
        "\n",
        "fig = plt.figure(figsize=(7, 7))\n",
        "for index in range(3):\n",
        "    data = test_samples[index]\n",
        "    data = data_processor.preprocess(data, batched=False)\n",
        "    # Input x\n",
        "    x = data['x']\n",
        "    # Ground-truth\n",
        "    y = data['y']\n",
        "    # Model prediction\n",
        "    out = model(x.unsqueeze(0))\n",
        "\n",
        "    ax = fig.add_subplot(3, 3, index*3 + 1)\n",
        "    ax.imshow(x[0], cmap='gray')\n",
        "    if index == 0: \n",
        "        ax.set_title('Input x')\n",
        "    plt.xticks([], [])\n",
        "    plt.yticks([], [])\n",
        "\n",
        "    ax = fig.add_subplot(3, 3, index*3 + 2)\n",
        "    ax.imshow(y.squeeze())\n",
        "    if index == 0: \n",
        "        ax.set_title('Ground-truth y')\n",
        "    plt.xticks([], [])\n",
        "    plt.yticks([], [])\n",
        "\n",
        "    ax = fig.add_subplot(3, 3, index*3 + 3)\n",
        "    ax.imshow(out.squeeze().detach().numpy())\n",
        "    if index == 0: \n",
        "        ax.set_title('Model prediction')\n",
        "    plt.xticks([], [])\n",
        "    plt.yticks([], [])\n",
        "\n",
        "fig.suptitle('Inputs, ground-truth output and prediction (32x32).', y=0.98)\n",
        "plt.tight_layout()\n",
        "fig.show()"
      ]
    },
    {
      "cell_type": "markdown",
      "metadata": {},
      "source": [
        "We only trained the model on data at a resolution of 16x16, and with no modifications \n",
        "or special prompting, we were able to perform inference on higher-resolution input data \n",
        "and get higher-resolution predictions! In practice, we often want to evaluate neural operators\n",
        "at multiple resolutions to track a model's zero-shot super-evaluation performance throughout \n",
        "training. That's why many of our datasets, including the small Darcy-flow we showcased,\n",
        "are parameterized with a list of `test_resolutions` to choose from. \n",
        "\n",
        "However, as you can see, these predictions are noisier than we would expect for a model evaluated \n",
        "at the same resolution at which it was trained. Leveraging the FNO's discretization-invariance, there\n",
        "are other ways to scale the outputs of the FNO to train a true super-resolution capability. \n"
      ]
    }
  ],
  "metadata": {
    "kernelspec": {
      "display_name": ".venv",
      "language": "python",
      "name": "python3"
    },
    "language_info": {
      "codemirror_mode": {
        "name": "ipython",
        "version": 3
      },
      "file_extension": ".py",
      "mimetype": "text/x-python",
      "name": "python",
      "nbconvert_exporter": "python",
      "pygments_lexer": "ipython3",
      "version": "3.9.6"
    }
  },
  "nbformat": 4,
  "nbformat_minor": 0
}
