{
  "cells": [
    {
      "cell_type": "markdown",
      "metadata": {},
      "source": [
        "\n# Using `torchtnt` to count FLOPS\n\nA demo using ``torchtnt`` to estimate the number of floating-point\noperations per second (FLOPS) required for a model's forward and backward pass. \n\nWe will use the FLOP computation to compare the resources used by a base FNO.\n"
      ]
    },
    {
      "cell_type": "code",
      "execution_count": null,
      "metadata": {
        "collapsed": false
      },
      "outputs": [],
      "source": [
        "from copy import deepcopy\nimport torch\nfrom torchtnt.utils.flops import FlopTensorDispatchMode\n\nfrom neuralop.models import FNO\n\ndevice = 'cpu'\n\nfno = FNO(n_modes=(64,64), \n          in_channels=1, \n          out_channels=1, \n          hidden_channels=64, \n          projection_channel_ratio=1)\n\nbatch_size = 4\nmodel_input = torch.randn(batch_size, 1, 128, 128)\n\n\nwith FlopTensorDispatchMode(fno) as ftdm:\n    # count forward flops\n    res = fno(model_input).mean()\n    fno_forward_flops = deepcopy(ftdm.flop_counts)\n    \n    ftdm.reset()\n    res.backward()\n    fno_backward_flops = deepcopy(ftdm.flop_counts)"
      ]
    },
    {
      "cell_type": "markdown",
      "metadata": {},
      "source": [
        "This output is organized as a defaultdict object that counts the FLOPS used in each submodule. \n\n"
      ]
    },
    {
      "cell_type": "code",
      "execution_count": null,
      "metadata": {
        "collapsed": false
      },
      "outputs": [],
      "source": [
        "print(fno_forward_flops)"
      ]
    },
    {
      "cell_type": "markdown",
      "metadata": {},
      "source": [
        "To check the maximum FLOPS used during the forward pass, let's create a recursive function to search the nested dict:\n\n"
      ]
    },
    {
      "cell_type": "code",
      "execution_count": null,
      "metadata": {
        "collapsed": false
      },
      "outputs": [],
      "source": [
        "from collections import defaultdict\ndef get_max_flops(flop_count_dict, max_value = 0):\n    for _, value in flop_count_dict.items():\n        # if not nested, compare leaf value to max\n        if isinstance(value, int):\n            max_value = max(max_value, value)\n        \n        # otherwise compute recursive max value below node\n        elif isinstance(value, defaultdict):\n            new_val = get_max_flops(value, max_value)\n            max_value = max(max_value, new_val)\n    return max_value\n\nprint(f\"Max FLOPS required for FNO.forward: {get_max_flops(fno_forward_flops)}\")\nprint(f\"Max FLOPS required for FNO.backward: {get_max_flops(fno_backward_flops)}\")"
      ]
    }
  ],
  "metadata": {
    "kernelspec": {
      "display_name": "Python 3",
      "language": "python",
      "name": "python3"
    },
    "language_info": {
      "codemirror_mode": {
        "name": "ipython",
        "version": 3
      },
      "file_extension": ".py",
      "mimetype": "text/x-python",
      "name": "python",
      "nbconvert_exporter": "python",
      "pygments_lexer": "ipython3",
      "version": "3.13.2"
    }
  },
  "nbformat": 4,
  "nbformat_minor": 0
}