{
  "cells": [
    {
      "cell_type": "markdown",
      "metadata": {},
      "source": [
        "\n# Grid embeddings\n``neuralop.layers.embeddings.GridEmbedding2D`` and ``neuralop.layers.embeddings.GridEmbeddingND`` provide interfaces for appending \ngrid positional embeddings to your data to improve model generalization. In this example we showcase their use and visualize their outputs.\n"
      ]
    },
    {
      "cell_type": "code",
      "execution_count": null,
      "metadata": {
        "collapsed": false
      },
      "outputs": [],
      "source": [
        "import random\nimport matplotlib.pyplot as plt\nimport torch\n\ndevice = 'cpu'"
      ]
    },
    {
      "cell_type": "markdown",
      "metadata": {},
      "source": [
        "## Basic logic\nAs we show in `small_darcy_vis`, we apply a 2d grid positional encoding to our data before passing it into the FNO. \nThis embedding has been shown to improve model performance in a variety of applications. \nLet's walk through its use. We start with a function that gives the coordinates of the bottom-left corners of each pixel in a grid:\n%%\n\n"
      ]
    },
    {
      "cell_type": "code",
      "execution_count": null,
      "metadata": {
        "collapsed": false
      },
      "outputs": [],
      "source": [
        "from neuralop.layers.embeddings import regular_grid_2d\ngrid_2d = torch.stack(regular_grid_2d(spatial_dims=(8,8))).permute(1,2,0).view(-1,2) #reshape into (64, 2)\n\nplt.scatter(grid_2d[:, 0], grid_2d[:, 1], color='orange', label=\"2d regular grid\")\nplt.legend()"
      ]
    },
    {
      "cell_type": "markdown",
      "metadata": {},
      "source": [
        "## Applying embedding to data\nIn practice, we concatenate these two channels, representing the x- and y-coordinates of each pixel in an example, \nafter the channels which encode physical variables in our PDE problems:\n\n"
      ]
    },
    {
      "cell_type": "code",
      "execution_count": null,
      "metadata": {
        "collapsed": false
      },
      "outputs": [],
      "source": [
        "from neuralop.data.datasets import load_darcy_flow_small\nfrom neuralop.layers.embeddings import GridEmbedding2D\n\n_, test_loaders, _ = load_darcy_flow_small(\n        n_train=10, batch_size=1, \n        test_resolutions=[16, 32], n_tests=[16, 16],\n        test_batch_sizes=[2, 2], \n        encode_output=False\n)\n\nloader_16 = test_loaders[16]\nexample = next(iter(loader_16))\nx = example['x']\nprint(f\"One batch of x is of shape: {x.shape}\")\n\n# Note: our Darcy dataset is generated on the unit square, but our grid \n# embedding's boundaries are configurable.\ngrid_embedding = GridEmbedding2D(in_channels=1, grid_boundaries=[[0,1], [0,1]])\nx = grid_embedding(x)\nprint(f\"After embedding, x is of shape: {x.shape}\")\n\n# grab the first element of the batch\nx = x[0]\nfig = plt.figure(figsize=(7, 7))\nax = fig.add_subplot(2, 2, 1)\nax.imshow(x[0], cmap='gray')\nax.set_title('input x')\nax = fig.add_subplot(2, 2, 3)\nax.imshow(x[1])\nax.set_title('x: 1st pos embedding')\nax = fig.add_subplot(2, 2, 4)\nax.imshow(x[2])\nax.set_title('x: 2nd pos embedding')\nfig.suptitle('Visualizing one 16x16 input sample', y=0.98)\nplt.tight_layout()\nfig.show()"
      ]
    },
    {
      "cell_type": "markdown",
      "metadata": {},
      "source": [
        "Our embeddings are also designed with discretization-invariance in mind.\nWithout any changes, we can apply the same embedding to higher-resolution data:\n\n"
      ]
    },
    {
      "cell_type": "code",
      "execution_count": null,
      "metadata": {
        "collapsed": false
      },
      "outputs": [],
      "source": [
        "loader_32 = test_loaders[32]\nexample = next(iter(loader_32))\nx = example['x']\nprint(f\"One batch of x is of shape: {x.shape}\")\n\nx = grid_embedding(x)\nprint(f\"After embedding, x is of shape: {x.shape}\")\n\n# grab the first element of the batch\nx = x[0]\nfig = plt.figure(figsize=(7, 7))\nax = fig.add_subplot(2, 2, 1)\nax.imshow(x[0], cmap='gray')\nax.set_title('input x')\nax = fig.add_subplot(2, 2, 3)\nax.imshow(x[1])\nax.set_title('x: 1st pos embedding')\nax = fig.add_subplot(2, 2, 4)\nax.imshow(x[2])\nax.set_title('x: 2nd pos embedding')\nfig.suptitle('Visualizing one 32x32 input sample', y=0.98)\nplt.tight_layout()\nfig.show()"
      ]
    },
    {
      "cell_type": "markdown",
      "metadata": {},
      "source": [
        "%%\nLet's also embed a 3d tensor.\nAssuming we have one channel of data discretized on a 5x5x5 cube:\n\n"
      ]
    },
    {
      "cell_type": "code",
      "execution_count": null,
      "metadata": {
        "collapsed": false
      },
      "outputs": [],
      "source": [
        "from neuralop.layers.embeddings import GridEmbeddingND\ncube_len = 5\nx = torch.randn(1, 1, cube_len, cube_len, cube_len)\nembedding_3d = GridEmbeddingND(in_channels=1, dim=3, grid_boundaries=[[0,1]]*3)\n\nx = embedding_3d(x)\n# grab only the appended positional embedding channels\nx = x[0,1:,...].permute(1,2,3,0).view(-1, 3)\nfig, ax = plt.subplots(subplot_kw={\"projection\": \"3d\"})\nplot = ax.scatter(x[:,0], x[:, 1], x[:, 2], c=x[:, 2])\nfig.colorbar(plot, ax=ax, shrink=0.6)\nax.set_title(\"3d positional encoding, color=Z value\")\nax.set_xlabel(\"X\")\nax.set_ylabel(\"Y\")\nax.set_zlabel(\"Z\")"
      ]
    }
  ],
  "metadata": {
    "kernelspec": {
      "display_name": "Python 3",
      "language": "python",
      "name": "python3"
    },
    "language_info": {
      "codemirror_mode": {
        "name": "ipython",
        "version": 3
      },
      "file_extension": ".py",
      "mimetype": "text/x-python",
      "name": "python",
      "nbconvert_exporter": "python",
      "pygments_lexer": "ipython3",
      "version": "3.13.2"
    }
  },
  "nbformat": 4,
  "nbformat_minor": 0
}