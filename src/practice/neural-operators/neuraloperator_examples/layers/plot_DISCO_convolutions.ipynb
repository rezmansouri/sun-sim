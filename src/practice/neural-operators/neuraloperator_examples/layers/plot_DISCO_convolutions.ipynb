{
  "cells": [
    {
      "cell_type": "markdown",
      "metadata": {},
      "source": [
        "\n# Visualizing discrete-continuous convolutions\nVisualizing the behavior of DISCO convolutions, the building block of the localized neural operator framework.\n\nThese modules can be used on both equidistant and unstructured grids.\n"
      ]
    },
    {
      "cell_type": "markdown",
      "metadata": {},
      "source": [
        "Preparation\n\n"
      ]
    },
    {
      "cell_type": "code",
      "execution_count": null,
      "metadata": {
        "collapsed": false
      },
      "outputs": [],
      "source": [
        "import os\nimport torch\nimport torch.nn as nn\nimport numpy as np\nimport math\nfrom functools import partial\n\nfrom matplotlib import image\n\nfrom torch_harmonics.quadrature import legendre_gauss_weights, lobatto_weights, clenshaw_curtiss_weights\n\nimport matplotlib.pyplot as plt\n\ncmap=\"inferno\"\ndevice = torch.device('cuda:0' if torch.cuda.is_available() else 'cpu')\n\nfrom neuralop.layers.discrete_continuous_convolution import DiscreteContinuousConv2d, DiscreteContinuousConvTranspose2d, EquidistantDiscreteContinuousConv2d, EquidistantDiscreteContinuousConvTranspose2d"
      ]
    },
    {
      "cell_type": "markdown",
      "metadata": {},
      "source": [
        "Let's start by loading an example image\n\n"
      ]
    },
    {
      "cell_type": "code",
      "execution_count": null,
      "metadata": {
        "collapsed": false
      },
      "outputs": [],
      "source": [
        "os.system(\"curl https://upload.wikimedia.org/wikipedia/commons/thumb/d/d3/Albert_Einstein_Head.jpg/360px-Albert_Einstein_Head.jpg -o ./einstein.jpg\")\n\nnx = 90\nny = 120\n\nimg = image.imread('./einstein.jpg')\ndata = nn.functional.interpolate(torch.from_numpy(img).unsqueeze(0).unsqueeze(0), size=(ny,nx)).squeeze()\nplt.imshow(data, cmap=cmap)\nplt.show()"
      ]
    },
    {
      "cell_type": "markdown",
      "metadata": {},
      "source": [
        "Let's create a grid on which the data lives\n\n"
      ]
    },
    {
      "cell_type": "code",
      "execution_count": null,
      "metadata": {
        "collapsed": false
      },
      "outputs": [],
      "source": [
        "x_in = torch.linspace(0, 2, nx)\ny_in = torch.linspace(0, 3, ny)\n\nx_in, y_in = torch.meshgrid(x_in, y_in)\ngrid_in = torch.stack([x_in.reshape(-1), y_in.reshape(-1)])\n\n# compute the correct quadrature weights\n# IMPORTANT: this needs to be done right in order for the DISCO convolution to be normalized proeperly\nw_x = 2*torch.ones_like(x_in) / nx\nw_y = 3*torch.ones_like(y_in) / ny\nq_in = (w_x * w_y).reshape(-1)"
      ]
    },
    {
      "cell_type": "markdown",
      "metadata": {},
      "source": [
        "Visualize the grid\n\n"
      ]
    },
    {
      "cell_type": "code",
      "execution_count": null,
      "metadata": {
        "collapsed": false
      },
      "outputs": [],
      "source": [
        "plt.figure(figsize=(4,6), )\nplt.scatter(grid_in[0], grid_in[1], s=0.2)\nplt.xlim(0,2)\nplt.ylim(0,3)\nplt.show()"
      ]
    },
    {
      "cell_type": "markdown",
      "metadata": {},
      "source": [
        "Format data into the same format and plot it on the grid\n\n"
      ]
    },
    {
      "cell_type": "code",
      "execution_count": null,
      "metadata": {
        "collapsed": false
      },
      "outputs": [],
      "source": [
        "data = data.permute(1,0).flip(1).reshape(-1)\n\nplt.figure(figsize=(4,6), )\nplt.tripcolor(grid_in[0], grid_in[1], data, cmap=cmap)\n# plt.colorbar()\nplt.xlim(0,2)\nplt.ylim(0,3)\nplt.show()"
      ]
    },
    {
      "cell_type": "markdown",
      "metadata": {},
      "source": [
        "For the convolution output we require an output mesh\n\n"
      ]
    },
    {
      "cell_type": "code",
      "execution_count": null,
      "metadata": {
        "collapsed": false
      },
      "outputs": [],
      "source": [
        "nxo = 90\nnyo = 120\n\nx_out = torch.linspace(0, 2, nxo)\ny_out = torch.linspace(0, 3, nyo)\n\nx_out, y_out = torch.meshgrid(x_out, y_out)\ngrid_out = torch.stack([x_out.reshape(-1), y_out.reshape(-1)])\n\n# compute the correct quadrature weights\nw_x = 2*torch.ones_like(x_out) / nxo\nw_y = 3*torch.ones_like(y_out) / nyo\nq_out = (w_x * w_y).reshape(-1)"
      ]
    },
    {
      "cell_type": "markdown",
      "metadata": {},
      "source": [
        "Initialize the convolution and set the weights to something resembling an edge filter/finit differences\n\n"
      ]
    },
    {
      "cell_type": "code",
      "execution_count": null,
      "metadata": {
        "collapsed": false
      },
      "outputs": [],
      "source": [
        "conv = DiscreteContinuousConv2d(1, 1, grid_in=grid_in, grid_out=grid_out, quadrature_weights=q_in, kernel_shape=[2,4], radius_cutoff=5/nyo, periodic=False).float()\n\n# initialize a kernel resembling an edge filter\nw = torch.zeros_like(conv.weight)\nw[0,0,1] = 1.0\nw[0,0,3] = -1.0\nconv.weight = nn.Parameter(w)\npsi = conv.get_local_filter_matrix()"
      ]
    },
    {
      "cell_type": "markdown",
      "metadata": {},
      "source": [
        "in order to compute the convolved image, we need to first bring it into the right shape with `batch_size x n_channels x n_grid_points`\n\n"
      ]
    },
    {
      "cell_type": "code",
      "execution_count": null,
      "metadata": {
        "collapsed": false
      },
      "outputs": [],
      "source": [
        "out = conv(data.reshape(1, 1, -1))\n\nprint(out.shape)\n\nplt.figure(figsize=(4,6), )\nplt.imshow(torch.flip(out.squeeze().detach().reshape(nxo, nyo).transpose(0,1), dims=(-2, )), cmap=cmap)\nplt.colorbar()\nplt.show()\n\nout1 = torch.flip(out.squeeze().detach().reshape(nxo, nyo).transpose(0,1), dims=(-2, ))"
      ]
    },
    {
      "cell_type": "code",
      "execution_count": null,
      "metadata": {
        "collapsed": false
      },
      "outputs": [],
      "source": [
        "conv_equi = EquidistantDiscreteContinuousConv2d(1, 1, (nx, ny), (nxo, nyo), kernel_shape=[2,4], radius_cutoff=5/nyo, domain_length=[2,3])\n\n# initialize a kernel resembling an edge filter\nw = torch.zeros_like(conv.weight)\nw[0,0,1] = 1.0\nw[0,0,3] = -1.0\nconv_equi.weight = nn.Parameter(w)\n\ndata = nn.functional.interpolate(torch.from_numpy(img).unsqueeze(0).unsqueeze(0), size=(ny,nx)).float()\n\nout_equi = conv_equi(data)\n\nprint(out_equi.shape)\n\nplt.figure(figsize=(4,6), )\nplt.imshow(out_equi.squeeze().detach(), cmap=cmap)\nplt.colorbar()\nplt.show()\n\nout2 = out_equi.squeeze().detach()\n\nprint(out2.shape)"
      ]
    },
    {
      "cell_type": "code",
      "execution_count": null,
      "metadata": {
        "collapsed": false
      },
      "outputs": [],
      "source": [
        "plt.figure(figsize=(4,6), )\nplt.imshow(conv_equi.get_local_filter_matrix()[0].detach(), cmap=cmap)\nplt.colorbar()\n\n# # %%\n\n# print(\"plt the error:\")\n# plt.figure(figsize=(4,6), )\n# plt.imshow(out1 - out2, cmap=cmap)\n# plt.colorbar()\n# plt.show()"
      ]
    },
    {
      "cell_type": "code",
      "execution_count": null,
      "metadata": {
        "collapsed": false
      },
      "outputs": [],
      "source": [
        "convt = DiscreteContinuousConvTranspose2d(1, 1, grid_in=grid_out, grid_out=grid_in, quadrature_weights=q_out, kernel_shape=[2,4], radius_cutoff=3/nyo, periodic=False).float()\n\n# initialize a flat\nw = torch.zeros_like(conv.weight)\nw[0,0,0] = 1.0\nw[0,0,1] = 1.0\nw[0,0,2] = 1.0\nw[0,0,3] = 1.0\nconvt.weight = nn.Parameter(w)\n\ndata = nn.functional.interpolate(torch.from_numpy(img).unsqueeze(0).unsqueeze(0), size=(ny,nx)).squeeze().float().permute(1,0).flip(1).reshape(-1)\nout = convt(data.reshape(1, 1, -1))\n\nprint(out.shape)\n\nplt.figure(figsize=(4,6), )\nplt.imshow(torch.flip(out.squeeze().detach().reshape(nx, ny).transpose(0,1), dims=(-2, )), cmap=cmap)\nplt.colorbar()\nplt.show()"
      ]
    },
    {
      "cell_type": "code",
      "execution_count": null,
      "metadata": {
        "collapsed": false
      },
      "outputs": [],
      "source": [
        "convt_equi = EquidistantDiscreteContinuousConvTranspose2d(1, 1, (nxo, nyo), (nx, ny), kernel_shape=[2,4], radius_cutoff=3/nyo, domain_length=[2,3])\n\n# initialize a flat\nw = torch.zeros_like(convt_equi.weight)\nw[0,0,0] = 1.0\nw[0,0,1] = 1.0\nw[0,0,2] = 1.0\nw[0,0,3] = 1.0\nconvt_equi.weight = nn.Parameter(w)\n\ndata = nn.functional.interpolate(torch.from_numpy(img).unsqueeze(0).unsqueeze(0), size=(nyo,nxo)).float()\nout_equi = convt_equi(data)\n\nprint(out_equi.shape)\n\nplt.figure(figsize=(4,6), )\nplt.imshow(out_equi.squeeze().detach(), cmap=cmap)\nplt.colorbar()\nplt.show()"
      ]
    }
  ],
  "metadata": {
    "kernelspec": {
      "display_name": "Python 3",
      "language": "python",
      "name": "python3"
    },
    "language_info": {
      "codemirror_mode": {
        "name": "ipython",
        "version": 3
      },
      "file_extension": ".py",
      "mimetype": "text/x-python",
      "name": "python",
      "nbconvert_exporter": "python",
      "pygments_lexer": "ipython3",
      "version": "3.13.2"
    }
  },
  "nbformat": 4,
  "nbformat_minor": 0
}