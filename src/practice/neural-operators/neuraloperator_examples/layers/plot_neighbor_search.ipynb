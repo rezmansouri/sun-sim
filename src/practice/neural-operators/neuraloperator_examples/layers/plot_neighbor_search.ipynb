{
  "cells": [
    {
      "cell_type": "markdown",
      "metadata": {},
      "source": [
        "\n# Visualizing neighbor search\n\nUnderstanding the spatial search used to compute neighborhoods for the Graph Neural Operator. \n"
      ]
    },
    {
      "cell_type": "code",
      "execution_count": null,
      "metadata": {
        "collapsed": false
      },
      "outputs": [],
      "source": [
        "import random\nimport matplotlib.pyplot as plt\nimport torch\n\nfrom neuralop.layers.gno_block import GNOBlock\nfrom neuralop.layers.neighbor_search import native_neighbor_search\nfrom neuralop.layers.embeddings import regular_grid_2d\n\ndevice = 'cpu'"
      ]
    },
    {
      "cell_type": "markdown",
      "metadata": {},
      "source": [
        "## Basic logic\nMany problems involve data collected over irregular point clouds.\nThe Graph Neural Operator (GNO) is a simple neural operator architecture\nthat learns a map between functions evaluated on (potentially different) arbitrary point clouds.\nFor a set of input coordinates Y, an input function f evaluated at all y \u2208 Y, \nand a set of output coordinates X, our goal is to map to a new function g evaluated at all x \u2208 X.  \nTo do so, the GNO computes the Nystr\u00f6m approximation of a continuous kernel integral by \nsumming the values of f across a neighborhood of each point x drawn from the input coordinates Y (with an optional kernel k):\n\\int_{N_r(x)} f(y) k(x,y) dy\n\nThe first step of this process is a neighbor search:\n%%\n\n"
      ]
    },
    {
      "cell_type": "code",
      "execution_count": null,
      "metadata": {
        "collapsed": false
      },
      "outputs": [],
      "source": [
        "input_coords = torch.stack(regular_grid_2d(spatial_dims=(8,8))).permute(1,2,0).view(-1,2) #reshape into (64, 2)\noutput_queries = torch.rand([50, 2])\n\nplt.scatter(input_coords[:, 0], input_coords[:, 1], color='orange', label=\"Input coordinates\")\nplt.scatter(output_queries[:, 0], output_queries[:, 1], color='blue', label=\"Output queries\")\nplt.legend()"
      ]
    },
    {
      "cell_type": "markdown",
      "metadata": {},
      "source": [
        "## Visualizing neighborhoods\nNow, let's select a point in the output and visualize its neighbors.\n\n"
      ]
    },
    {
      "cell_type": "code",
      "execution_count": null,
      "metadata": {
        "collapsed": false
      },
      "outputs": [],
      "source": [
        "query_index = 25\nquery_point = output_queries[query_index]\n# Let's search, assuming a radius of 0.25. Note that this is quite high for the density of our data.\n# in practice we tend to use values that find on the order of 10 neighbors. \nnbr_data = native_neighbor_search(data=input_coords, queries=query_point.unsqueeze(0), radius=0.25)\nfig, ax = plt.subplots()\nneighbors = input_coords[nbr_data['neighbors_index']]\nax.scatter(input_coords[:, 0], input_coords[:, 1])\nax.scatter(query_point[0], query_point[1])\nax.scatter(neighbors[:, 0], neighbors[:, 1], label=\"neighbors of x\")\nc = plt.Circle(query_point, radius=0.25, fill=False)\nax.add_patch(c)\nax.legend()\nax.set_xlim(0,1)\nax.set_ylim(0,1)"
      ]
    }
  ],
  "metadata": {
    "kernelspec": {
      "display_name": "Python 3",
      "language": "python",
      "name": "python3"
    },
    "language_info": {
      "codemirror_mode": {
        "name": "ipython",
        "version": 3
      },
      "file_extension": ".py",
      "mimetype": "text/x-python",
      "name": "python",
      "nbconvert_exporter": "python",
      "pygments_lexer": "ipython3",
      "version": "3.13.2"
    }
  },
  "nbformat": 4,
  "nbformat_minor": 0
}