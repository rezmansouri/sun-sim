{
 "cells": [
  {
   "cell_type": "code",
   "execution_count": 26,
   "metadata": {},
   "outputs": [],
   "source": [
    "import os\n",
    "import sys\n",
    "import torch\n",
    "import numpy as np\n",
    "from tqdm import tqdm, trange\n",
    "from model import ConvLSTM\n",
    "import matplotlib.pyplot as plt\n",
    "from io import BytesIO\n",
    "import imageio.v2 as imageio\n",
    "from matplotlib.colors import Normalize\n",
    "from utils import TrainDataset, TestDataset"
   ]
  },
  {
   "cell_type": "code",
   "execution_count": 28,
   "metadata": {},
   "outputs": [],
   "source": [
    "v_state_path = '/Users/reza/Career/DMLab/SURROGATE/results/laplace/ConvLSTM/psi_web_sample_150_first_with_bc_1_layer_64_hidden/v/49.pth'\n",
    "b_state_path = '/Users/reza/Career/DMLab/SURROGATE/results/laplace/ConvLSTM/psi_web_sample_150_first_with_bc_1_layer_64_hidden/b/50.pth'\n",
    "data_path = '/Users/reza/Career/DMLab/SURROGATE/Data/psi_web_sample/'\n",
    "cube = 'cr1773'"
   ]
  },
  {
   "cell_type": "code",
   "execution_count": 29,
   "metadata": {},
   "outputs": [],
   "source": [
    "starting_slice = 0"
   ]
  },
  {
   "cell_type": "code",
   "execution_count": 30,
   "metadata": {},
   "outputs": [],
   "source": [
    "# train_dataset = TrainDataset(train_path)\n",
    "# train_min, train_max = torch.tensor(0.4148), torch.tensor(1.5854) # FOR V #train_dataset.get_min_max()\n",
    "train_min, train_max = torch.tensor(-0.0015), torch.tensor(0.0014) # FOR B #train_dataset.get_min_max()\n",
    "test_dataset = TestDataset([os.path.join(data_path, cube)], train_min, train_max, variables=['b'], starting_slice=starting_slice)"
   ]
  },
  {
   "cell_type": "code",
   "execution_count": 31,
   "metadata": {},
   "outputs": [],
   "source": [
    "hidden_dim, num_layers = 64, 1"
   ]
  },
  {
   "cell_type": "code",
   "execution_count": 32,
   "metadata": {},
   "outputs": [],
   "source": [
    "model = ConvLSTM(\n",
    "    input_dim=1,\n",
    "    hidden_dim=hidden_dim,\n",
    "    kernel_size=(3, 3),\n",
    "    num_layers=num_layers,\n",
    "    batch_first=True,\n",
    "    bias=True,\n",
    "    return_all_layers=False,\n",
    "    output_dim=1\n",
    ")"
   ]
  },
  {
   "cell_type": "code",
   "execution_count": 33,
   "metadata": {},
   "outputs": [
    {
     "name": "stderr",
     "output_type": "stream",
     "text": [
      "/var/folders/bv/7h0f0hns2y72yqgg3ww8qkkm0000gn/T/ipykernel_4957/3721965454.py:1: FutureWarning: You are using `torch.load` with `weights_only=False` (the current default value), which uses the default pickle module implicitly. It is possible to construct malicious pickle data which will execute arbitrary code during unpickling (See https://github.com/pytorch/pytorch/blob/main/SECURITY.md#untrusted-models for more details). In a future release, the default value for `weights_only` will be flipped to `True`. This limits the functions that could be executed during unpickling. Arbitrary objects will no longer be allowed to be loaded via this mode unless they are explicitly allowlisted by the user via `torch.serialization.add_safe_globals`. We recommend you start setting `weights_only=True` for any use case where you don't have full control of the loaded file. Please open an issue on GitHub for any issues related to this experimental feature.\n",
      "  model.load_state_dict(torch.load(b_state_path, map_location='cpu'))\n"
     ]
    },
    {
     "data": {
      "text/plain": [
       "<All keys matched successfully>"
      ]
     },
     "execution_count": 33,
     "metadata": {},
     "output_type": "execute_result"
    }
   ],
   "source": [
    "model.load_state_dict(torch.load(b_state_path, map_location='cpu'))"
   ]
  },
  {
   "cell_type": "markdown",
   "metadata": {},
   "source": [
    "# Validation partition"
   ]
  },
  {
   "cell_type": "code",
   "execution_count": 34,
   "metadata": {},
   "outputs": [],
   "source": [
    "for x, y in test_dataset:\n",
    "    with torch.no_grad():\n",
    "        # slicing\n",
    "        # print(x.shape)\n",
    "        yhat, _ = model(x.unsqueeze(0), teacher_forcing=False, seq_len=y.shape[0])"
   ]
  },
  {
   "cell_type": "code",
   "execution_count": 35,
   "metadata": {},
   "outputs": [],
   "source": [
    "y = test_dataset[0][1].unsqueeze(0)"
   ]
  },
  {
   "cell_type": "code",
   "execution_count": 36,
   "metadata": {},
   "outputs": [
    {
     "data": {
      "text/plain": [
       "(torch.Size([1, 141, 1, 128, 128]), torch.Size([1, 141, 1, 128, 128]))"
      ]
     },
     "execution_count": 36,
     "metadata": {},
     "output_type": "execute_result"
    }
   ],
   "source": [
    "yhat.shape, y.shape"
   ]
  },
  {
   "cell_type": "code",
   "execution_count": 37,
   "metadata": {},
   "outputs": [],
   "source": [
    "# norm = Normalize(vmin=0.3, vmax=1.0)"
   ]
  },
  {
   "cell_type": "code",
   "execution_count": 38,
   "metadata": {},
   "outputs": [
    {
     "name": "stderr",
     "output_type": "stream",
     "text": [
      "100%|██████████| 141/141 [00:15<00:00,  8.86it/s]\n"
     ]
    }
   ],
   "source": [
    "frames = []\n",
    "for step in trange(yhat.shape[1]):\n",
    "    val = y[0, step, 0]\n",
    "    pred = yhat[0, step, 0]\n",
    "    # plt.figure(figsize=(12, 6))\n",
    "    # plt.subplot(1, 2, 1)\n",
    "    # plt.imshow(val, cmap=\"viridis\")\n",
    "    # # plt.contourf(\n",
    "    # #     np.arange(val.shape[0]),\n",
    "    # #     np.arange(val.shape[1]),\n",
    "    # #     val.T,\n",
    "    # #     cmap=\"viridis\",\n",
    "    # #     # norm=norm,\n",
    "    # # )\n",
    "    # plt.title(f\"Actual Slice (k={step+1+starting_slice})\")\n",
    "    # plt.colorbar()\n",
    "    # # plt.xlabel(\"I\")\n",
    "    # # plt.ylabel(\"J\")\n",
    "\n",
    "    # plt.subplot(1, 2, 2)\n",
    "    # plt.imshow(pred, cmap=\"viridis\")\n",
    "    # # plt.contourf(\n",
    "    # #     np.arange(pred.shape[0]),\n",
    "    # #     np.arange(pred.shape[1]),\n",
    "    # #     pred.T,\n",
    "    # #     cmap=\"viridis\",\n",
    "    # #     # norm=norm,\n",
    "    # # )\n",
    "    # plt.title(f\"Predicted Slice (k={step+1+starting_slice})\")\n",
    "    # plt.colorbar()\n",
    "    # # plt.xlabel(\"I\")\n",
    "    # # plt.ylabel(\"J\")\n",
    "    \n",
    "    fig, axes = plt.subplots(1, 2, figsize=(12, 6))\n",
    "    cmap = \"viridis\"\n",
    "\n",
    "    # Plot first subplot\n",
    "    im1 = axes[0].imshow(val, cmap=cmap)\n",
    "    axes[0].set_title(f\"Actual Slice (k={step+1+starting_slice})\")\n",
    "\n",
    "    # Plot second subplot\n",
    "    im2 = axes[1].imshow(pred, cmap=cmap)\n",
    "    axes[1].set_title(f\"Predicted Slice (k={step+1+starting_slice})\")\n",
    "\n",
    "    # Create a single colorbar\n",
    "    cbar = fig.colorbar(im1, ax=axes, orientation=\"vertical\", fraction=0.05, pad=0.02)\n",
    "\n",
    "    # plt.tight_layout()\n",
    "    # plt.show()\n",
    "\n",
    "    # plt.show()\n",
    "    buf = BytesIO()\n",
    "    plt.savefig(buf, format='png')\n",
    "    frames.append(imageio.imread(buf))\n",
    "    plt.close()"
   ]
  },
  {
   "cell_type": "code",
   "execution_count": 39,
   "metadata": {},
   "outputs": [
    {
     "name": "stderr",
     "output_type": "stream",
     "text": [
      "IMAGEIO FFMPEG_WRITER WARNING: input image is not divisible by macro_block_size=16, resizing from (1200, 600) to (1200, 608) to ensure video compatibility with most codecs and players. To prevent resizing, make your input image divisible by the macro_block_size or set the macro_block_size to 1 (risking incompatibility).\n"
     ]
    }
   ],
   "source": [
    "output_filename = f\"plt.mp4\"\n",
    "fps = 10  # Adjust frames per second as needed\n",
    "\n",
    "# Create video directly from frames in memory\n",
    "with imageio.get_writer(output_filename, fps=fps) as writer:\n",
    "    for frame in frames:\n",
    "        writer.append_data(frame)"
   ]
  },
  {
   "cell_type": "code",
   "execution_count": null,
   "metadata": {},
   "outputs": [],
   "source": []
  }
 ],
 "metadata": {
  "kernelspec": {
   "display_name": ".venv",
   "language": "python",
   "name": "python3"
  },
  "language_info": {
   "codemirror_mode": {
    "name": "ipython",
    "version": 3
   },
   "file_extension": ".py",
   "mimetype": "text/x-python",
   "name": "python",
   "nbconvert_exporter": "python",
   "pygments_lexer": "ipython3",
   "version": "3.9.6"
  }
 },
 "nbformat": 4,
 "nbformat_minor": 2
}
